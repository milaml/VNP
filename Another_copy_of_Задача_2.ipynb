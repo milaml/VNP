{
  "nbformat": 4,
  "nbformat_minor": 0,
  "metadata": {
    "colab": {
      "provenance": [],
      "include_colab_link": true
    },
    "kernelspec": {
      "name": "python3",
      "display_name": "Python 3"
    },
    "language_info": {
      "name": "python"
    }
  },
  "cells": [
    {
      "cell_type": "markdown",
      "metadata": {
        "id": "view-in-github",
        "colab_type": "text"
      },
      "source": [
        "<a href=\"https://colab.research.google.com/github/milaml/VNP/blob/master/Another_copy_of_%D0%97%D0%B0%D0%B4%D0%B0%D1%87%D0%B0_2.ipynb\" target=\"_parent\"><img src=\"https://colab.research.google.com/assets/colab-badge.svg\" alt=\"Open In Colab\"/></a>"
      ]
    },
    {
      "cell_type": "markdown",
      "source": [
        "# Задача 2"
      ],
      "metadata": {
        "id": "3Nd2bvUDJ5OU"
      }
    },
    {
      "cell_type": "markdown",
      "source": [
        "## Симнете го податочното множество\n",
        "\n",
        "*извршете го овој блок, т.ш. ќе ја замените **ID вредноста** со таа која ви е дадена во текстот на задачата*\n",
        "\n",
        "***пример:***\n",
        "\n",
        "*!gdown 787ahjg6*\n",
        "\n"
      ],
      "metadata": {
        "id": "Edqmy0_uk1vi"
      }
    },
    {
      "cell_type": "code",
      "source": [
        "#TODO: Replace the ID value with the actual ID number you are given in the task description!\n",
        "!gdown <18f6_GWyHfFoT-1yh_wJcZNwMMgIn8OA6>"
      ],
      "metadata": {
        "id": "8M7AW8T6lFY_",
        "colab": {
          "base_uri": "https://localhost:8080/"
        },
        "outputId": "47c77562-0ad8-45a5-b8ca-cd3334513411"
      },
      "execution_count": null,
      "outputs": [
        {
          "output_type": "stream",
          "name": "stdout",
          "text": [
            "/bin/bash: -c: line 0: syntax error near unexpected token `newline'\n",
            "/bin/bash: -c: line 0: `gdown <18f6_GWyHfFoT-1yh_wJcZNwMMgIn8OA6>'\n"
          ]
        }
      ]
    },
    {
      "cell_type": "markdown",
      "source": [
        "*Доколку не можете да го вчитате податочното множество, ставете **encoding='cp1252'**.*"
      ],
      "metadata": {
        "id": "qJ1K_CtSI3R4"
      }
    },
    {
      "cell_type": "markdown",
      "source": [
        "## Направете визуелизација на таргет колоната"
      ],
      "metadata": {
        "id": "2bk0gOvwluvi"
      }
    },
    {
      "cell_type": "code",
      "source": [
        "import pandas as pd\n",
        "df= pd.read_csv('/pregnancies.csv')"
      ],
      "metadata": {
        "id": "PVlxGi0sly5a"
      },
      "execution_count": null,
      "outputs": []
    },
    {
      "cell_type": "code",
      "source": [
        "from google.colab import drive\n",
        "drive.mount('/content/drive')"
      ],
      "metadata": {
        "colab": {
          "base_uri": "https://localhost:8080/"
        },
        "id": "LNoK7-LP6x8B",
        "outputId": "a82de586-2c57-4c06-c236-98a3df052351"
      },
      "execution_count": null,
      "outputs": [
        {
          "output_type": "stream",
          "name": "stdout",
          "text": [
            "Mounted at /content/drive\n"
          ]
        }
      ]
    },
    {
      "cell_type": "markdown",
      "source": [
        "## Направете различни статистики за колоните"
      ],
      "metadata": {
        "id": "HUuab69Jlzq4"
      }
    },
    {
      "cell_type": "code",
      "source": [
        "df"
      ],
      "metadata": {
        "id": "bz4-_v1kl3xX",
        "colab": {
          "base_uri": "https://localhost:8080/",
          "height": 505
        },
        "outputId": "559b1267-dca2-47bf-f7d3-96ce77aec482"
      },
      "execution_count": null,
      "outputs": [
        {
          "output_type": "execute_result",
          "data": {
            "text/plain": [
              "      Unnamed: 0  baseline value  accelerations  fetal_movement  \\\n",
              "0              0           120.0            NaN           0.000   \n",
              "1              1           132.0          0.006           0.000   \n",
              "2              2           133.0          0.003           0.000   \n",
              "3              3           134.0          0.003           0.000   \n",
              "4              4           132.0          0.007           0.000   \n",
              "...          ...             ...            ...             ...   \n",
              "2121        2121           140.0          0.000           0.000   \n",
              "2122        2122           140.0          0.001           0.000   \n",
              "2123        2123           140.0            NaN           0.000   \n",
              "2124        2124           140.0          0.001           0.000   \n",
              "2125        2125           142.0          0.002           0.002   \n",
              "\n",
              "      uterine_contractions  light_decelerations  severe_decelerations  \\\n",
              "0                      NaN                0.000                   0.0   \n",
              "1                    0.006                0.003                   0.0   \n",
              "2                    0.008                0.003                   0.0   \n",
              "3                    0.008                0.003                   0.0   \n",
              "4                    0.008                0.000                   0.0   \n",
              "...                    ...                  ...                   ...   \n",
              "2121                 0.007                0.000                   0.0   \n",
              "2122                 0.007                0.000                   0.0   \n",
              "2123                 0.007                0.000                   0.0   \n",
              "2124                 0.006                0.000                   0.0   \n",
              "2125                 0.008                0.000                   0.0   \n",
              "\n",
              "      prolongued_decelerations  abnormal_short_term_variability  \\\n",
              "0                          NaN                              NaN   \n",
              "1                          0.0                             17.0   \n",
              "2                          0.0                             16.0   \n",
              "3                          0.0                             16.0   \n",
              "4                          0.0                             16.0   \n",
              "...                        ...                              ...   \n",
              "2121                       0.0                             79.0   \n",
              "2122                       0.0                             78.0   \n",
              "2123                       0.0                             79.0   \n",
              "2124                       0.0                             78.0   \n",
              "2125                       NaN                             74.0   \n",
              "\n",
              "      mean_value_of_short_term_variability  ...  histogram_min  histogram_max  \\\n",
              "0                                      0.5  ...           62.0          126.0   \n",
              "1                                      2.1  ...           68.0          198.0   \n",
              "2                                      2.1  ...           68.0          198.0   \n",
              "3                                      2.4  ...           53.0          170.0   \n",
              "4                                      2.4  ...           53.0          170.0   \n",
              "...                                    ...  ...            ...            ...   \n",
              "2121                                   0.2  ...          137.0          177.0   \n",
              "2122                                   0.4  ...          103.0          169.0   \n",
              "2123                                   0.4  ...          103.0          170.0   \n",
              "2124                                   0.4  ...          103.0          169.0   \n",
              "2125                                   0.4  ...          117.0          159.0   \n",
              "\n",
              "      histogram_number_of_peaks  histogram_number_of_zeroes  histogram_mode  \\\n",
              "0                           2.0                         0.0           120.0   \n",
              "1                           6.0                         1.0           141.0   \n",
              "2                           5.0                         1.0           141.0   \n",
              "3                          11.0                         0.0           137.0   \n",
              "4                           9.0                         0.0           137.0   \n",
              "...                         ...                         ...             ...   \n",
              "2121                        4.0                         0.0           153.0   \n",
              "2122                        6.0                         0.0           152.0   \n",
              "2123                        5.0                         0.0           153.0   \n",
              "2124                        6.0                         0.0           152.0   \n",
              "2125                        2.0                         1.0           145.0   \n",
              "\n",
              "      histogram_mean  histogram_median  histogram_variance  \\\n",
              "0              137.0             121.0                73.0   \n",
              "1              136.0             140.0                12.0   \n",
              "2              135.0             138.0                13.0   \n",
              "3              134.0             137.0                13.0   \n",
              "4              136.0             138.0                11.0   \n",
              "...              ...               ...                 ...   \n",
              "2121           150.0             152.0                 2.0   \n",
              "2122           148.0             151.0                 3.0   \n",
              "2123           148.0             152.0                 4.0   \n",
              "2124           147.0             151.0                 4.0   \n",
              "2125           143.0             145.0                 1.0   \n",
              "\n",
              "      histogram_tendency  fetal_health  \n",
              "0                    1.0           2.0  \n",
              "1                    0.0           1.0  \n",
              "2                    0.0           1.0  \n",
              "3                    1.0           1.0  \n",
              "4                    1.0           1.0  \n",
              "...                  ...           ...  \n",
              "2121                 0.0           2.0  \n",
              "2122                 1.0           2.0  \n",
              "2123                 1.0           2.0  \n",
              "2124                 1.0           2.0  \n",
              "2125                 0.0           1.0  \n",
              "\n",
              "[2126 rows x 23 columns]"
            ],
            "text/html": [
              "\n",
              "  <div id=\"df-61e88d47-bd17-45be-b2e2-19adff04f322\">\n",
              "    <div class=\"colab-df-container\">\n",
              "      <div>\n",
              "<style scoped>\n",
              "    .dataframe tbody tr th:only-of-type {\n",
              "        vertical-align: middle;\n",
              "    }\n",
              "\n",
              "    .dataframe tbody tr th {\n",
              "        vertical-align: top;\n",
              "    }\n",
              "\n",
              "    .dataframe thead th {\n",
              "        text-align: right;\n",
              "    }\n",
              "</style>\n",
              "<table border=\"1\" class=\"dataframe\">\n",
              "  <thead>\n",
              "    <tr style=\"text-align: right;\">\n",
              "      <th></th>\n",
              "      <th>Unnamed: 0</th>\n",
              "      <th>baseline value</th>\n",
              "      <th>accelerations</th>\n",
              "      <th>fetal_movement</th>\n",
              "      <th>uterine_contractions</th>\n",
              "      <th>light_decelerations</th>\n",
              "      <th>severe_decelerations</th>\n",
              "      <th>prolongued_decelerations</th>\n",
              "      <th>abnormal_short_term_variability</th>\n",
              "      <th>mean_value_of_short_term_variability</th>\n",
              "      <th>...</th>\n",
              "      <th>histogram_min</th>\n",
              "      <th>histogram_max</th>\n",
              "      <th>histogram_number_of_peaks</th>\n",
              "      <th>histogram_number_of_zeroes</th>\n",
              "      <th>histogram_mode</th>\n",
              "      <th>histogram_mean</th>\n",
              "      <th>histogram_median</th>\n",
              "      <th>histogram_variance</th>\n",
              "      <th>histogram_tendency</th>\n",
              "      <th>fetal_health</th>\n",
              "    </tr>\n",
              "  </thead>\n",
              "  <tbody>\n",
              "    <tr>\n",
              "      <th>0</th>\n",
              "      <td>0</td>\n",
              "      <td>120.0</td>\n",
              "      <td>NaN</td>\n",
              "      <td>0.000</td>\n",
              "      <td>NaN</td>\n",
              "      <td>0.000</td>\n",
              "      <td>0.0</td>\n",
              "      <td>NaN</td>\n",
              "      <td>NaN</td>\n",
              "      <td>0.5</td>\n",
              "      <td>...</td>\n",
              "      <td>62.0</td>\n",
              "      <td>126.0</td>\n",
              "      <td>2.0</td>\n",
              "      <td>0.0</td>\n",
              "      <td>120.0</td>\n",
              "      <td>137.0</td>\n",
              "      <td>121.0</td>\n",
              "      <td>73.0</td>\n",
              "      <td>1.0</td>\n",
              "      <td>2.0</td>\n",
              "    </tr>\n",
              "    <tr>\n",
              "      <th>1</th>\n",
              "      <td>1</td>\n",
              "      <td>132.0</td>\n",
              "      <td>0.006</td>\n",
              "      <td>0.000</td>\n",
              "      <td>0.006</td>\n",
              "      <td>0.003</td>\n",
              "      <td>0.0</td>\n",
              "      <td>0.0</td>\n",
              "      <td>17.0</td>\n",
              "      <td>2.1</td>\n",
              "      <td>...</td>\n",
              "      <td>68.0</td>\n",
              "      <td>198.0</td>\n",
              "      <td>6.0</td>\n",
              "      <td>1.0</td>\n",
              "      <td>141.0</td>\n",
              "      <td>136.0</td>\n",
              "      <td>140.0</td>\n",
              "      <td>12.0</td>\n",
              "      <td>0.0</td>\n",
              "      <td>1.0</td>\n",
              "    </tr>\n",
              "    <tr>\n",
              "      <th>2</th>\n",
              "      <td>2</td>\n",
              "      <td>133.0</td>\n",
              "      <td>0.003</td>\n",
              "      <td>0.000</td>\n",
              "      <td>0.008</td>\n",
              "      <td>0.003</td>\n",
              "      <td>0.0</td>\n",
              "      <td>0.0</td>\n",
              "      <td>16.0</td>\n",
              "      <td>2.1</td>\n",
              "      <td>...</td>\n",
              "      <td>68.0</td>\n",
              "      <td>198.0</td>\n",
              "      <td>5.0</td>\n",
              "      <td>1.0</td>\n",
              "      <td>141.0</td>\n",
              "      <td>135.0</td>\n",
              "      <td>138.0</td>\n",
              "      <td>13.0</td>\n",
              "      <td>0.0</td>\n",
              "      <td>1.0</td>\n",
              "    </tr>\n",
              "    <tr>\n",
              "      <th>3</th>\n",
              "      <td>3</td>\n",
              "      <td>134.0</td>\n",
              "      <td>0.003</td>\n",
              "      <td>0.000</td>\n",
              "      <td>0.008</td>\n",
              "      <td>0.003</td>\n",
              "      <td>0.0</td>\n",
              "      <td>0.0</td>\n",
              "      <td>16.0</td>\n",
              "      <td>2.4</td>\n",
              "      <td>...</td>\n",
              "      <td>53.0</td>\n",
              "      <td>170.0</td>\n",
              "      <td>11.0</td>\n",
              "      <td>0.0</td>\n",
              "      <td>137.0</td>\n",
              "      <td>134.0</td>\n",
              "      <td>137.0</td>\n",
              "      <td>13.0</td>\n",
              "      <td>1.0</td>\n",
              "      <td>1.0</td>\n",
              "    </tr>\n",
              "    <tr>\n",
              "      <th>4</th>\n",
              "      <td>4</td>\n",
              "      <td>132.0</td>\n",
              "      <td>0.007</td>\n",
              "      <td>0.000</td>\n",
              "      <td>0.008</td>\n",
              "      <td>0.000</td>\n",
              "      <td>0.0</td>\n",
              "      <td>0.0</td>\n",
              "      <td>16.0</td>\n",
              "      <td>2.4</td>\n",
              "      <td>...</td>\n",
              "      <td>53.0</td>\n",
              "      <td>170.0</td>\n",
              "      <td>9.0</td>\n",
              "      <td>0.0</td>\n",
              "      <td>137.0</td>\n",
              "      <td>136.0</td>\n",
              "      <td>138.0</td>\n",
              "      <td>11.0</td>\n",
              "      <td>1.0</td>\n",
              "      <td>1.0</td>\n",
              "    </tr>\n",
              "    <tr>\n",
              "      <th>...</th>\n",
              "      <td>...</td>\n",
              "      <td>...</td>\n",
              "      <td>...</td>\n",
              "      <td>...</td>\n",
              "      <td>...</td>\n",
              "      <td>...</td>\n",
              "      <td>...</td>\n",
              "      <td>...</td>\n",
              "      <td>...</td>\n",
              "      <td>...</td>\n",
              "      <td>...</td>\n",
              "      <td>...</td>\n",
              "      <td>...</td>\n",
              "      <td>...</td>\n",
              "      <td>...</td>\n",
              "      <td>...</td>\n",
              "      <td>...</td>\n",
              "      <td>...</td>\n",
              "      <td>...</td>\n",
              "      <td>...</td>\n",
              "      <td>...</td>\n",
              "    </tr>\n",
              "    <tr>\n",
              "      <th>2121</th>\n",
              "      <td>2121</td>\n",
              "      <td>140.0</td>\n",
              "      <td>0.000</td>\n",
              "      <td>0.000</td>\n",
              "      <td>0.007</td>\n",
              "      <td>0.000</td>\n",
              "      <td>0.0</td>\n",
              "      <td>0.0</td>\n",
              "      <td>79.0</td>\n",
              "      <td>0.2</td>\n",
              "      <td>...</td>\n",
              "      <td>137.0</td>\n",
              "      <td>177.0</td>\n",
              "      <td>4.0</td>\n",
              "      <td>0.0</td>\n",
              "      <td>153.0</td>\n",
              "      <td>150.0</td>\n",
              "      <td>152.0</td>\n",
              "      <td>2.0</td>\n",
              "      <td>0.0</td>\n",
              "      <td>2.0</td>\n",
              "    </tr>\n",
              "    <tr>\n",
              "      <th>2122</th>\n",
              "      <td>2122</td>\n",
              "      <td>140.0</td>\n",
              "      <td>0.001</td>\n",
              "      <td>0.000</td>\n",
              "      <td>0.007</td>\n",
              "      <td>0.000</td>\n",
              "      <td>0.0</td>\n",
              "      <td>0.0</td>\n",
              "      <td>78.0</td>\n",
              "      <td>0.4</td>\n",
              "      <td>...</td>\n",
              "      <td>103.0</td>\n",
              "      <td>169.0</td>\n",
              "      <td>6.0</td>\n",
              "      <td>0.0</td>\n",
              "      <td>152.0</td>\n",
              "      <td>148.0</td>\n",
              "      <td>151.0</td>\n",
              "      <td>3.0</td>\n",
              "      <td>1.0</td>\n",
              "      <td>2.0</td>\n",
              "    </tr>\n",
              "    <tr>\n",
              "      <th>2123</th>\n",
              "      <td>2123</td>\n",
              "      <td>140.0</td>\n",
              "      <td>NaN</td>\n",
              "      <td>0.000</td>\n",
              "      <td>0.007</td>\n",
              "      <td>0.000</td>\n",
              "      <td>0.0</td>\n",
              "      <td>0.0</td>\n",
              "      <td>79.0</td>\n",
              "      <td>0.4</td>\n",
              "      <td>...</td>\n",
              "      <td>103.0</td>\n",
              "      <td>170.0</td>\n",
              "      <td>5.0</td>\n",
              "      <td>0.0</td>\n",
              "      <td>153.0</td>\n",
              "      <td>148.0</td>\n",
              "      <td>152.0</td>\n",
              "      <td>4.0</td>\n",
              "      <td>1.0</td>\n",
              "      <td>2.0</td>\n",
              "    </tr>\n",
              "    <tr>\n",
              "      <th>2124</th>\n",
              "      <td>2124</td>\n",
              "      <td>140.0</td>\n",
              "      <td>0.001</td>\n",
              "      <td>0.000</td>\n",
              "      <td>0.006</td>\n",
              "      <td>0.000</td>\n",
              "      <td>0.0</td>\n",
              "      <td>0.0</td>\n",
              "      <td>78.0</td>\n",
              "      <td>0.4</td>\n",
              "      <td>...</td>\n",
              "      <td>103.0</td>\n",
              "      <td>169.0</td>\n",
              "      <td>6.0</td>\n",
              "      <td>0.0</td>\n",
              "      <td>152.0</td>\n",
              "      <td>147.0</td>\n",
              "      <td>151.0</td>\n",
              "      <td>4.0</td>\n",
              "      <td>1.0</td>\n",
              "      <td>2.0</td>\n",
              "    </tr>\n",
              "    <tr>\n",
              "      <th>2125</th>\n",
              "      <td>2125</td>\n",
              "      <td>142.0</td>\n",
              "      <td>0.002</td>\n",
              "      <td>0.002</td>\n",
              "      <td>0.008</td>\n",
              "      <td>0.000</td>\n",
              "      <td>0.0</td>\n",
              "      <td>NaN</td>\n",
              "      <td>74.0</td>\n",
              "      <td>0.4</td>\n",
              "      <td>...</td>\n",
              "      <td>117.0</td>\n",
              "      <td>159.0</td>\n",
              "      <td>2.0</td>\n",
              "      <td>1.0</td>\n",
              "      <td>145.0</td>\n",
              "      <td>143.0</td>\n",
              "      <td>145.0</td>\n",
              "      <td>1.0</td>\n",
              "      <td>0.0</td>\n",
              "      <td>1.0</td>\n",
              "    </tr>\n",
              "  </tbody>\n",
              "</table>\n",
              "<p>2126 rows × 23 columns</p>\n",
              "</div>\n",
              "      <button class=\"colab-df-convert\" onclick=\"convertToInteractive('df-61e88d47-bd17-45be-b2e2-19adff04f322')\"\n",
              "              title=\"Convert this dataframe to an interactive table.\"\n",
              "              style=\"display:none;\">\n",
              "        \n",
              "  <svg xmlns=\"http://www.w3.org/2000/svg\" height=\"24px\"viewBox=\"0 0 24 24\"\n",
              "       width=\"24px\">\n",
              "    <path d=\"M0 0h24v24H0V0z\" fill=\"none\"/>\n",
              "    <path d=\"M18.56 5.44l.94 2.06.94-2.06 2.06-.94-2.06-.94-.94-2.06-.94 2.06-2.06.94zm-11 1L8.5 8.5l.94-2.06 2.06-.94-2.06-.94L8.5 2.5l-.94 2.06-2.06.94zm10 10l.94 2.06.94-2.06 2.06-.94-2.06-.94-.94-2.06-.94 2.06-2.06.94z\"/><path d=\"M17.41 7.96l-1.37-1.37c-.4-.4-.92-.59-1.43-.59-.52 0-1.04.2-1.43.59L10.3 9.45l-7.72 7.72c-.78.78-.78 2.05 0 2.83L4 21.41c.39.39.9.59 1.41.59.51 0 1.02-.2 1.41-.59l7.78-7.78 2.81-2.81c.8-.78.8-2.07 0-2.86zM5.41 20L4 18.59l7.72-7.72 1.47 1.35L5.41 20z\"/>\n",
              "  </svg>\n",
              "      </button>\n",
              "      \n",
              "  <style>\n",
              "    .colab-df-container {\n",
              "      display:flex;\n",
              "      flex-wrap:wrap;\n",
              "      gap: 12px;\n",
              "    }\n",
              "\n",
              "    .colab-df-convert {\n",
              "      background-color: #E8F0FE;\n",
              "      border: none;\n",
              "      border-radius: 50%;\n",
              "      cursor: pointer;\n",
              "      display: none;\n",
              "      fill: #1967D2;\n",
              "      height: 32px;\n",
              "      padding: 0 0 0 0;\n",
              "      width: 32px;\n",
              "    }\n",
              "\n",
              "    .colab-df-convert:hover {\n",
              "      background-color: #E2EBFA;\n",
              "      box-shadow: 0px 1px 2px rgba(60, 64, 67, 0.3), 0px 1px 3px 1px rgba(60, 64, 67, 0.15);\n",
              "      fill: #174EA6;\n",
              "    }\n",
              "\n",
              "    [theme=dark] .colab-df-convert {\n",
              "      background-color: #3B4455;\n",
              "      fill: #D2E3FC;\n",
              "    }\n",
              "\n",
              "    [theme=dark] .colab-df-convert:hover {\n",
              "      background-color: #434B5C;\n",
              "      box-shadow: 0px 1px 3px 1px rgba(0, 0, 0, 0.15);\n",
              "      filter: drop-shadow(0px 1px 2px rgba(0, 0, 0, 0.3));\n",
              "      fill: #FFFFFF;\n",
              "    }\n",
              "  </style>\n",
              "\n",
              "      <script>\n",
              "        const buttonEl =\n",
              "          document.querySelector('#df-61e88d47-bd17-45be-b2e2-19adff04f322 button.colab-df-convert');\n",
              "        buttonEl.style.display =\n",
              "          google.colab.kernel.accessAllowed ? 'block' : 'none';\n",
              "\n",
              "        async function convertToInteractive(key) {\n",
              "          const element = document.querySelector('#df-61e88d47-bd17-45be-b2e2-19adff04f322');\n",
              "          const dataTable =\n",
              "            await google.colab.kernel.invokeFunction('convertToInteractive',\n",
              "                                                     [key], {});\n",
              "          if (!dataTable) return;\n",
              "\n",
              "          const docLinkHtml = 'Like what you see? Visit the ' +\n",
              "            '<a target=\"_blank\" href=https://colab.research.google.com/notebooks/data_table.ipynb>data table notebook</a>'\n",
              "            + ' to learn more about interactive tables.';\n",
              "          element.innerHTML = '';\n",
              "          dataTable['output_type'] = 'display_data';\n",
              "          await google.colab.output.renderOutput(dataTable, element);\n",
              "          const docLink = document.createElement('div');\n",
              "          docLink.innerHTML = docLinkHtml;\n",
              "          element.appendChild(docLink);\n",
              "        }\n",
              "      </script>\n",
              "    </div>\n",
              "  </div>\n",
              "  "
            ]
          },
          "metadata": {},
          "execution_count": 5
        }
      ]
    },
    {
      "cell_type": "code",
      "source": [
        "df.min()"
      ],
      "metadata": {
        "colab": {
          "base_uri": "https://localhost:8080/"
        },
        "id": "aZbw-T7m7OMX",
        "outputId": "fe210d14-a65e-48fc-d0cc-97b8ed0aad2b"
      },
      "execution_count": null,
      "outputs": [
        {
          "output_type": "execute_result",
          "data": {
            "text/plain": [
              "Unnamed: 0                                                  0.0\n",
              "baseline value                                            106.0\n",
              "accelerations                                               0.0\n",
              "fetal_movement                                              0.0\n",
              "uterine_contractions                                        0.0\n",
              "light_decelerations                                         0.0\n",
              "severe_decelerations                                        0.0\n",
              "prolongued_decelerations                                    0.0\n",
              "abnormal_short_term_variability                            12.0\n",
              "mean_value_of_short_term_variability                        0.2\n",
              "percentage_of_time_with_abnormal_long_term_variability      0.0\n",
              "mean_value_of_long_term_variability                         0.0\n",
              "histogram_width                                             3.0\n",
              "histogram_min                                              50.0\n",
              "histogram_max                                             122.0\n",
              "histogram_number_of_peaks                                   0.0\n",
              "histogram_number_of_zeroes                                  0.0\n",
              "histogram_mode                                             60.0\n",
              "histogram_mean                                             73.0\n",
              "histogram_median                                           77.0\n",
              "histogram_variance                                          0.0\n",
              "histogram_tendency                                         -1.0\n",
              "fetal_health                                                1.0\n",
              "dtype: float64"
            ]
          },
          "metadata": {},
          "execution_count": 6
        }
      ]
    },
    {
      "cell_type": "code",
      "source": [
        "df.max()"
      ],
      "metadata": {
        "colab": {
          "base_uri": "https://localhost:8080/"
        },
        "id": "_IDgGHRY7Sgg",
        "outputId": "877bffaf-ab37-40e6-eac5-cf2180a09366"
      },
      "execution_count": null,
      "outputs": [
        {
          "output_type": "execute_result",
          "data": {
            "text/plain": [
              "Unnamed: 0                                                2125.000\n",
              "baseline value                                             160.000\n",
              "accelerations                                                0.019\n",
              "fetal_movement                                               0.481\n",
              "uterine_contractions                                         0.015\n",
              "light_decelerations                                          0.015\n",
              "severe_decelerations                                         0.001\n",
              "prolongued_decelerations                                     0.005\n",
              "abnormal_short_term_variability                             87.000\n",
              "mean_value_of_short_term_variability                         7.000\n",
              "percentage_of_time_with_abnormal_long_term_variability      91.000\n",
              "mean_value_of_long_term_variability                         50.700\n",
              "histogram_width                                            180.000\n",
              "histogram_min                                              159.000\n",
              "histogram_max                                              238.000\n",
              "histogram_number_of_peaks                                   18.000\n",
              "histogram_number_of_zeroes                                  10.000\n",
              "histogram_mode                                             187.000\n",
              "histogram_mean                                             182.000\n",
              "histogram_median                                           186.000\n",
              "histogram_variance                                         269.000\n",
              "histogram_tendency                                           1.000\n",
              "fetal_health                                                 3.000\n",
              "dtype: float64"
            ]
          },
          "metadata": {},
          "execution_count": 7
        }
      ]
    },
    {
      "cell_type": "code",
      "source": [
        "df.mean()"
      ],
      "metadata": {
        "colab": {
          "base_uri": "https://localhost:8080/"
        },
        "id": "nD2pzCE_7UH4",
        "outputId": "060889b2-7a73-481f-fdc3-0f7d2097eebc"
      },
      "execution_count": null,
      "outputs": [
        {
          "output_type": "execute_result",
          "data": {
            "text/plain": [
              "Unnamed: 0                                                1062.500000\n",
              "baseline value                                             133.303857\n",
              "accelerations                                                0.003186\n",
              "fetal_movement                                               0.009481\n",
              "uterine_contractions                                         0.004376\n",
              "light_decelerations                                          0.001889\n",
              "severe_decelerations                                         0.000003\n",
              "prolongued_decelerations                                     0.000159\n",
              "abnormal_short_term_variability                             47.058940\n",
              "mean_value_of_short_term_variability                         1.332785\n",
              "percentage_of_time_with_abnormal_long_term_variability       9.846660\n",
              "mean_value_of_long_term_variability                          8.187629\n",
              "histogram_width                                             70.445908\n",
              "histogram_min                                               93.579492\n",
              "histogram_max                                              164.025400\n",
              "histogram_number_of_peaks                                    4.068203\n",
              "histogram_number_of_zeroes                                   0.323612\n",
              "histogram_mode                                             137.452023\n",
              "histogram_mean                                             134.610536\n",
              "histogram_median                                           138.090310\n",
              "histogram_variance                                          18.808090\n",
              "histogram_tendency                                           0.320320\n",
              "fetal_health                                                 1.304327\n",
              "dtype: float64"
            ]
          },
          "metadata": {},
          "execution_count": 8
        }
      ]
    },
    {
      "cell_type": "code",
      "source": [
        "df.quantile([.1, .25, .5, .75], axis = 0)"
      ],
      "metadata": {
        "colab": {
          "base_uri": "https://localhost:8080/",
          "height": 286
        },
        "id": "y5VhX52h7V2g",
        "outputId": "1fd556bc-a6d4-4b55-dd4b-2eee5f577b73"
      },
      "execution_count": null,
      "outputs": [
        {
          "output_type": "execute_result",
          "data": {
            "text/plain": [
              "      Unnamed: 0  baseline value  accelerations  fetal_movement  \\\n",
              "0.10      212.50           121.0          0.000           0.000   \n",
              "0.25      531.25           126.0          0.000           0.000   \n",
              "0.50     1062.50           133.0          0.002           0.000   \n",
              "0.75     1593.75           140.0          0.006           0.003   \n",
              "\n",
              "      uterine_contractions  light_decelerations  severe_decelerations  \\\n",
              "0.10                 0.000                0.000                   0.0   \n",
              "0.25                 0.002                0.000                   0.0   \n",
              "0.50                 0.005                0.000                   0.0   \n",
              "0.75                 0.007                0.003                   0.0   \n",
              "\n",
              "      prolongued_decelerations  abnormal_short_term_variability  \\\n",
              "0.10                       0.0                             24.0   \n",
              "0.25                       0.0                             32.0   \n",
              "0.50                       0.0                             49.0   \n",
              "0.75                       0.0                             61.0   \n",
              "\n",
              "      mean_value_of_short_term_variability  ...  histogram_min  histogram_max  \\\n",
              "0.10                                   0.4  ...           54.0          143.0   \n",
              "0.25                                   0.7  ...           67.0          152.0   \n",
              "0.50                                   1.2  ...           93.0          162.0   \n",
              "0.75                                   1.7  ...          120.0          174.0   \n",
              "\n",
              "      histogram_number_of_peaks  histogram_number_of_zeroes  histogram_mode  \\\n",
              "0.10                        1.0                         0.0           120.0   \n",
              "0.25                        2.0                         0.0           129.0   \n",
              "0.50                        3.0                         0.0           139.0   \n",
              "0.75                        6.0                         0.0           148.0   \n",
              "\n",
              "      histogram_mean  histogram_median  histogram_variance  \\\n",
              "0.10           115.0             120.0                 1.0   \n",
              "0.25           125.0             129.0                 2.0   \n",
              "0.50           136.0             139.0                 7.0   \n",
              "0.75           145.0             148.0                24.0   \n",
              "\n",
              "      histogram_tendency  fetal_health  \n",
              "0.10                 0.0           1.0  \n",
              "0.25                 0.0           1.0  \n",
              "0.50                 0.0           1.0  \n",
              "0.75                 1.0           1.0  \n",
              "\n",
              "[4 rows x 23 columns]"
            ],
            "text/html": [
              "\n",
              "  <div id=\"df-c6c5b831-f00f-4149-a523-46c0f8ae8df2\">\n",
              "    <div class=\"colab-df-container\">\n",
              "      <div>\n",
              "<style scoped>\n",
              "    .dataframe tbody tr th:only-of-type {\n",
              "        vertical-align: middle;\n",
              "    }\n",
              "\n",
              "    .dataframe tbody tr th {\n",
              "        vertical-align: top;\n",
              "    }\n",
              "\n",
              "    .dataframe thead th {\n",
              "        text-align: right;\n",
              "    }\n",
              "</style>\n",
              "<table border=\"1\" class=\"dataframe\">\n",
              "  <thead>\n",
              "    <tr style=\"text-align: right;\">\n",
              "      <th></th>\n",
              "      <th>Unnamed: 0</th>\n",
              "      <th>baseline value</th>\n",
              "      <th>accelerations</th>\n",
              "      <th>fetal_movement</th>\n",
              "      <th>uterine_contractions</th>\n",
              "      <th>light_decelerations</th>\n",
              "      <th>severe_decelerations</th>\n",
              "      <th>prolongued_decelerations</th>\n",
              "      <th>abnormal_short_term_variability</th>\n",
              "      <th>mean_value_of_short_term_variability</th>\n",
              "      <th>...</th>\n",
              "      <th>histogram_min</th>\n",
              "      <th>histogram_max</th>\n",
              "      <th>histogram_number_of_peaks</th>\n",
              "      <th>histogram_number_of_zeroes</th>\n",
              "      <th>histogram_mode</th>\n",
              "      <th>histogram_mean</th>\n",
              "      <th>histogram_median</th>\n",
              "      <th>histogram_variance</th>\n",
              "      <th>histogram_tendency</th>\n",
              "      <th>fetal_health</th>\n",
              "    </tr>\n",
              "  </thead>\n",
              "  <tbody>\n",
              "    <tr>\n",
              "      <th>0.10</th>\n",
              "      <td>212.50</td>\n",
              "      <td>121.0</td>\n",
              "      <td>0.000</td>\n",
              "      <td>0.000</td>\n",
              "      <td>0.000</td>\n",
              "      <td>0.000</td>\n",
              "      <td>0.0</td>\n",
              "      <td>0.0</td>\n",
              "      <td>24.0</td>\n",
              "      <td>0.4</td>\n",
              "      <td>...</td>\n",
              "      <td>54.0</td>\n",
              "      <td>143.0</td>\n",
              "      <td>1.0</td>\n",
              "      <td>0.0</td>\n",
              "      <td>120.0</td>\n",
              "      <td>115.0</td>\n",
              "      <td>120.0</td>\n",
              "      <td>1.0</td>\n",
              "      <td>0.0</td>\n",
              "      <td>1.0</td>\n",
              "    </tr>\n",
              "    <tr>\n",
              "      <th>0.25</th>\n",
              "      <td>531.25</td>\n",
              "      <td>126.0</td>\n",
              "      <td>0.000</td>\n",
              "      <td>0.000</td>\n",
              "      <td>0.002</td>\n",
              "      <td>0.000</td>\n",
              "      <td>0.0</td>\n",
              "      <td>0.0</td>\n",
              "      <td>32.0</td>\n",
              "      <td>0.7</td>\n",
              "      <td>...</td>\n",
              "      <td>67.0</td>\n",
              "      <td>152.0</td>\n",
              "      <td>2.0</td>\n",
              "      <td>0.0</td>\n",
              "      <td>129.0</td>\n",
              "      <td>125.0</td>\n",
              "      <td>129.0</td>\n",
              "      <td>2.0</td>\n",
              "      <td>0.0</td>\n",
              "      <td>1.0</td>\n",
              "    </tr>\n",
              "    <tr>\n",
              "      <th>0.50</th>\n",
              "      <td>1062.50</td>\n",
              "      <td>133.0</td>\n",
              "      <td>0.002</td>\n",
              "      <td>0.000</td>\n",
              "      <td>0.005</td>\n",
              "      <td>0.000</td>\n",
              "      <td>0.0</td>\n",
              "      <td>0.0</td>\n",
              "      <td>49.0</td>\n",
              "      <td>1.2</td>\n",
              "      <td>...</td>\n",
              "      <td>93.0</td>\n",
              "      <td>162.0</td>\n",
              "      <td>3.0</td>\n",
              "      <td>0.0</td>\n",
              "      <td>139.0</td>\n",
              "      <td>136.0</td>\n",
              "      <td>139.0</td>\n",
              "      <td>7.0</td>\n",
              "      <td>0.0</td>\n",
              "      <td>1.0</td>\n",
              "    </tr>\n",
              "    <tr>\n",
              "      <th>0.75</th>\n",
              "      <td>1593.75</td>\n",
              "      <td>140.0</td>\n",
              "      <td>0.006</td>\n",
              "      <td>0.003</td>\n",
              "      <td>0.007</td>\n",
              "      <td>0.003</td>\n",
              "      <td>0.0</td>\n",
              "      <td>0.0</td>\n",
              "      <td>61.0</td>\n",
              "      <td>1.7</td>\n",
              "      <td>...</td>\n",
              "      <td>120.0</td>\n",
              "      <td>174.0</td>\n",
              "      <td>6.0</td>\n",
              "      <td>0.0</td>\n",
              "      <td>148.0</td>\n",
              "      <td>145.0</td>\n",
              "      <td>148.0</td>\n",
              "      <td>24.0</td>\n",
              "      <td>1.0</td>\n",
              "      <td>1.0</td>\n",
              "    </tr>\n",
              "  </tbody>\n",
              "</table>\n",
              "<p>4 rows × 23 columns</p>\n",
              "</div>\n",
              "      <button class=\"colab-df-convert\" onclick=\"convertToInteractive('df-c6c5b831-f00f-4149-a523-46c0f8ae8df2')\"\n",
              "              title=\"Convert this dataframe to an interactive table.\"\n",
              "              style=\"display:none;\">\n",
              "        \n",
              "  <svg xmlns=\"http://www.w3.org/2000/svg\" height=\"24px\"viewBox=\"0 0 24 24\"\n",
              "       width=\"24px\">\n",
              "    <path d=\"M0 0h24v24H0V0z\" fill=\"none\"/>\n",
              "    <path d=\"M18.56 5.44l.94 2.06.94-2.06 2.06-.94-2.06-.94-.94-2.06-.94 2.06-2.06.94zm-11 1L8.5 8.5l.94-2.06 2.06-.94-2.06-.94L8.5 2.5l-.94 2.06-2.06.94zm10 10l.94 2.06.94-2.06 2.06-.94-2.06-.94-.94-2.06-.94 2.06-2.06.94z\"/><path d=\"M17.41 7.96l-1.37-1.37c-.4-.4-.92-.59-1.43-.59-.52 0-1.04.2-1.43.59L10.3 9.45l-7.72 7.72c-.78.78-.78 2.05 0 2.83L4 21.41c.39.39.9.59 1.41.59.51 0 1.02-.2 1.41-.59l7.78-7.78 2.81-2.81c.8-.78.8-2.07 0-2.86zM5.41 20L4 18.59l7.72-7.72 1.47 1.35L5.41 20z\"/>\n",
              "  </svg>\n",
              "      </button>\n",
              "      \n",
              "  <style>\n",
              "    .colab-df-container {\n",
              "      display:flex;\n",
              "      flex-wrap:wrap;\n",
              "      gap: 12px;\n",
              "    }\n",
              "\n",
              "    .colab-df-convert {\n",
              "      background-color: #E8F0FE;\n",
              "      border: none;\n",
              "      border-radius: 50%;\n",
              "      cursor: pointer;\n",
              "      display: none;\n",
              "      fill: #1967D2;\n",
              "      height: 32px;\n",
              "      padding: 0 0 0 0;\n",
              "      width: 32px;\n",
              "    }\n",
              "\n",
              "    .colab-df-convert:hover {\n",
              "      background-color: #E2EBFA;\n",
              "      box-shadow: 0px 1px 2px rgba(60, 64, 67, 0.3), 0px 1px 3px 1px rgba(60, 64, 67, 0.15);\n",
              "      fill: #174EA6;\n",
              "    }\n",
              "\n",
              "    [theme=dark] .colab-df-convert {\n",
              "      background-color: #3B4455;\n",
              "      fill: #D2E3FC;\n",
              "    }\n",
              "\n",
              "    [theme=dark] .colab-df-convert:hover {\n",
              "      background-color: #434B5C;\n",
              "      box-shadow: 0px 1px 3px 1px rgba(0, 0, 0, 0.15);\n",
              "      filter: drop-shadow(0px 1px 2px rgba(0, 0, 0, 0.3));\n",
              "      fill: #FFFFFF;\n",
              "    }\n",
              "  </style>\n",
              "\n",
              "      <script>\n",
              "        const buttonEl =\n",
              "          document.querySelector('#df-c6c5b831-f00f-4149-a523-46c0f8ae8df2 button.colab-df-convert');\n",
              "        buttonEl.style.display =\n",
              "          google.colab.kernel.accessAllowed ? 'block' : 'none';\n",
              "\n",
              "        async function convertToInteractive(key) {\n",
              "          const element = document.querySelector('#df-c6c5b831-f00f-4149-a523-46c0f8ae8df2');\n",
              "          const dataTable =\n",
              "            await google.colab.kernel.invokeFunction('convertToInteractive',\n",
              "                                                     [key], {});\n",
              "          if (!dataTable) return;\n",
              "\n",
              "          const docLinkHtml = 'Like what you see? Visit the ' +\n",
              "            '<a target=\"_blank\" href=https://colab.research.google.com/notebooks/data_table.ipynb>data table notebook</a>'\n",
              "            + ' to learn more about interactive tables.';\n",
              "          element.innerHTML = '';\n",
              "          dataTable['output_type'] = 'display_data';\n",
              "          await google.colab.output.renderOutput(dataTable, element);\n",
              "          const docLink = document.createElement('div');\n",
              "          docLink.innerHTML = docLinkHtml;\n",
              "          element.appendChild(docLink);\n",
              "        }\n",
              "      </script>\n",
              "    </div>\n",
              "  </div>\n",
              "  "
            ]
          },
          "metadata": {},
          "execution_count": 9
        }
      ]
    },
    {
      "cell_type": "code",
      "source": [
        "df.std()"
      ],
      "metadata": {
        "colab": {
          "base_uri": "https://localhost:8080/"
        },
        "id": "NQ3qLot37Zef",
        "outputId": "e7cbaba7-3a6b-47bf-85db-8c4e6a2f464b"
      },
      "execution_count": null,
      "outputs": [
        {
          "output_type": "execute_result",
          "data": {
            "text/plain": [
              "Unnamed: 0                                                613.867657\n",
              "baseline value                                              9.840844\n",
              "accelerations                                               0.003865\n",
              "fetal_movement                                              0.046666\n",
              "uterine_contractions                                        0.002952\n",
              "light_decelerations                                         0.002960\n",
              "severe_decelerations                                        0.000057\n",
              "prolongued_decelerations                                    0.000592\n",
              "abnormal_short_term_variability                            17.174092\n",
              "mean_value_of_short_term_variability                        0.883241\n",
              "percentage_of_time_with_abnormal_long_term_variability     18.396880\n",
              "mean_value_of_long_term_variability                         5.628247\n",
              "histogram_width                                            38.955693\n",
              "histogram_min                                              29.560212\n",
              "histogram_max                                              17.944183\n",
              "histogram_number_of_peaks                                   2.949386\n",
              "histogram_number_of_zeroes                                  0.706059\n",
              "histogram_mode                                             16.381289\n",
              "histogram_mean                                             15.593596\n",
              "histogram_median                                           14.466589\n",
              "histogram_variance                                         28.977636\n",
              "histogram_tendency                                          0.610829\n",
              "fetal_health                                                0.614377\n",
              "dtype: float64"
            ]
          },
          "metadata": {},
          "execution_count": 10
        }
      ]
    },
    {
      "cell_type": "markdown",
      "source": [
        "## Визуелно прикажете ги вредностите кои недостасуваат и корелацијата помеѓу истите\n",
        "\n",
        "<font color='yellow' size='3px'>\n",
        "ПРАШАЊЕ: Дали може да се донесе одреден заклучок од овие визуелизации?\n",
        "</font>"
      ],
      "metadata": {
        "id": "qQ3XYapzmRp_"
      }
    },
    {
      "cell_type": "markdown",
      "source": [
        "<font color='orange' size='3px'> Внесете го објаснувањето тука................. </font>"
      ],
      "metadata": {
        "id": "LooeYcXbM5WC"
      }
    },
    {
      "cell_type": "code",
      "source": [
        "df.isnull().sum()"
      ],
      "metadata": {
        "id": "irXDWzG-mVXa",
        "colab": {
          "base_uri": "https://localhost:8080/"
        },
        "outputId": "f4b5dae3-125c-4581-cb0e-0694450a0db3"
      },
      "execution_count": null,
      "outputs": [
        {
          "output_type": "execute_result",
          "data": {
            "text/plain": [
              "Unnamed: 0                                                  0\n",
              "baseline value                                              0\n",
              "accelerations                                             194\n",
              "fetal_movement                                              0\n",
              "uterine_contractions                                      142\n",
              "light_decelerations                                         0\n",
              "severe_decelerations                                        0\n",
              "prolongued_decelerations                                  126\n",
              "abnormal_short_term_variability                           107\n",
              "mean_value_of_short_term_variability                        0\n",
              "percentage_of_time_with_abnormal_long_term_variability      0\n",
              "mean_value_of_long_term_variability                         0\n",
              "histogram_width                                             0\n",
              "histogram_min                                               0\n",
              "histogram_max                                               0\n",
              "histogram_number_of_peaks                                   0\n",
              "histogram_number_of_zeroes                                  0\n",
              "histogram_mode                                              0\n",
              "histogram_mean                                              0\n",
              "histogram_median                                            0\n",
              "histogram_variance                                          0\n",
              "histogram_tendency                                          0\n",
              "fetal_health                                                0\n",
              "dtype: int64"
            ]
          },
          "metadata": {},
          "execution_count": 11
        }
      ]
    },
    {
      "cell_type": "code",
      "source": [
        "\n",
        "import missingno as msno\n",
        "msno.matrix(df)\n",
        "msno.heatmap(df)\n"
      ],
      "metadata": {
        "colab": {
          "base_uri": "https://localhost:8080/",
          "height": 1000
        },
        "id": "JbVgcoAF7g54",
        "outputId": "80168b0b-13c2-49f7-d537-35301a608741"
      },
      "execution_count": null,
      "outputs": [
        {
          "output_type": "execute_result",
          "data": {
            "text/plain": [
              "<matplotlib.axes._subplots.AxesSubplot at 0x7fef987f9f10>"
            ]
          },
          "metadata": {},
          "execution_count": 12
        },
        {
          "output_type": "display_data",
          "data": {
            "text/plain": [
              "<Figure size 1800x720 with 2 Axes>"
            ],
            "image/png": "[encoded data removed]"
          },
          "metadata": {
            "needs_background": "light"
          }
        },
        {
          "output_type": "display_data",
          "data": {
            "text/plain": [
              "<Figure size 1440x864 with 2 Axes>"
            ],
            "image/png": "[encoded data removed]"
          },
          "metadata": {
            "needs_background": "light"
          }
        }
      ]
    },
    {
      "cell_type": "markdown",
      "source": [
        "## Справете се со вредностите кои недостасуваат\n",
        "\n",
        "<font color='yellow' size='3px'> ПРАШАЊЕ: На кој начин се справувате со вредностите кои недостасуваат? Зошто го избравте тој начин? </font>"
      ],
      "metadata": {
        "id": "tW9ha4_mMjHu"
      }
    },
    {
      "cell_type": "markdown",
      "source": [
        "<font color='orange' size='3px'> Внесете го објаснувањето тука................. </font>\n",
        "\n",
        "\n",
        "so ffill bfill polnime sve. nemam vreme"
      ],
      "metadata": {
        "id": "m2kNeocYktf7"
      }
    },
    {
      "cell_type": "code",
      "source": [
        "df = pd.fillna(df['acceleration'])"
      ],
      "metadata": {
        "id": "yCcuoqw-MjHv",
        "colab": {
          "base_uri": "https://localhost:8080/",
          "height": 287
        },
        "outputId": "97d20010-35a9-41a0-c0a0-65971cfccccc"
      },
      "execution_count": null,
      "outputs": [
        {
          "output_type": "error",
          "ename": "AttributeError",
          "evalue": "ignored",
          "traceback": [
            "\u001b[0;31m---------------------------------------------------------------------------\u001b[0m",
            "\u001b[0;31mAttributeError\u001b[0m                            Traceback (most recent call last)",
            "\u001b[0;32m<ipython-input-13-24ba020d7754>\u001b[0m in \u001b[0;36m<module>\u001b[0;34m\u001b[0m\n\u001b[0;32m----> 1\u001b[0;31m \u001b[0mdf\u001b[0m \u001b[0;34m=\u001b[0m \u001b[0mpd\u001b[0m\u001b[0;34m.\u001b[0m\u001b[0mfillna\u001b[0m\u001b[0;34m(\u001b[0m\u001b[0mdf\u001b[0m\u001b[0;34m[\u001b[0m\u001b[0;34m'acceleration'\u001b[0m\u001b[0;34m]\u001b[0m\u001b[0;34m)\u001b[0m\u001b[0;34m\u001b[0m\u001b[0;34m\u001b[0m\u001b[0m\n\u001b[0m",
            "\u001b[0;32m/usr/local/lib/python3.7/dist-packages/pandas/__init__.py\u001b[0m in \u001b[0;36m__getattr__\u001b[0;34m(name)\u001b[0m\n\u001b[1;32m    242\u001b[0m         \u001b[0;32mreturn\u001b[0m \u001b[0m_SparseArray\u001b[0m\u001b[0;34m\u001b[0m\u001b[0;34m\u001b[0m\u001b[0m\n\u001b[1;32m    243\u001b[0m \u001b[0;34m\u001b[0m\u001b[0m\n\u001b[0;32m--> 244\u001b[0;31m     \u001b[0;32mraise\u001b[0m \u001b[0mAttributeError\u001b[0m\u001b[0;34m(\u001b[0m\u001b[0;34mf\"module 'pandas' has no attribute '{name}'\"\u001b[0m\u001b[0;34m)\u001b[0m\u001b[0;34m\u001b[0m\u001b[0;34m\u001b[0m\u001b[0m\n\u001b[0m\u001b[1;32m    245\u001b[0m \u001b[0;34m\u001b[0m\u001b[0m\n\u001b[1;32m    246\u001b[0m \u001b[0;34m\u001b[0m\u001b[0m\n",
            "\u001b[0;31mAttributeError\u001b[0m: module 'pandas' has no attribute 'fillna'"
          ]
        }
      ]
    },
    {
      "cell_type": "markdown",
      "source": [
        "## Одредете кои ќе ви бидат влезни податоци"
      ],
      "metadata": {
        "id": "4Y8Gsl4JmFPI"
      }
    },
    {
      "cell_type": "code",
      "source": [],
      "metadata": {
        "id": "fCjqCna5mC4I"
      },
      "execution_count": null,
      "outputs": []
    },
    {
      "cell_type": "markdown",
      "source": [
        "## Поделете го податочното множество на две множества: за тренирање и тестирање"
      ],
      "metadata": {
        "id": "Cj9E2EVNl4a0"
      }
    },
    {
      "cell_type": "code",
      "source": [],
      "metadata": {
        "id": "l4fU-v9FmM6a"
      },
      "execution_count": null,
      "outputs": []
    },
    {
      "cell_type": "markdown",
      "source": [
        "## Изградете модел и тренирајте го"
      ],
      "metadata": {
        "id": "x5OTF6wjmar8"
      }
    },
    {
      "cell_type": "code",
      "source": [],
      "metadata": {
        "id": "tDIjglGrmeb4"
      },
      "execution_count": null,
      "outputs": []
    },
    {
      "cell_type": "markdown",
      "source": [
        "## Тестирајте го моделот со помош на соодветни метрики за евалуација (изберете барем 3 метрики)\n",
        "\n",
        "\n",
        "<font color='yellow' size='3px'>\n",
        "ПРАШАЊЕ: Какви вредности добивте за соодветните метрики? (Објаснете го значењето на таквите вредности!)\n",
        "\n",
        "ПРАШАЊЕ: Како би добиле подобри резултати, односно кои би биле можни подобрувања?\n",
        "</font>"
      ],
      "metadata": {
        "id": "OX8dpQ5vmfRA"
      }
    },
    {
      "cell_type": "markdown",
      "source": [
        "<font color='orange' size='3px'> Внесете го објаснувањето тука................. </font>"
      ],
      "metadata": {
        "id": "a0CHAqtUkwfM"
      }
    },
    {
      "cell_type": "code",
      "source": [],
      "metadata": {
        "id": "kaVTPwrPmk6o"
      },
      "execution_count": null,
      "outputs": []
    }
  ]
}