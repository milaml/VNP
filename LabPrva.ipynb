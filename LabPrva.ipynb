{
  "nbformat": 4,
  "nbformat_minor": 0,
  "metadata": {
    "colab": {
      "provenance": [],
      "mount_file_id": "1VP_kuo4qZYjzN0ReVhO_hPKn8rZAzvef",
      "authorship_tag": "ABX9TyO+yiOvfYbQcxPQh9rIvLfL",
      "include_colab_link": true
    },
    "kernelspec": {
      "name": "python3",
      "display_name": "Python 3"
    },
    "language_info": {
      "name": "python"
    }
  },
  "cells": [
    {
      "cell_type": "markdown",
      "metadata": {
        "id": "view-in-github",
        "colab_type": "text"
      },
      "source": [
        "<a href=\"https://colab.research.google.com/github/milaml/VNP/blob/master/LabPrva.ipynb\" target=\"_parent\"><img src=\"https://colab.research.google.com/assets/colab-badge.svg\" alt=\"Open In Colab\"/></a>"
      ]
    },
    {
      "cell_type": "code",
      "execution_count": null,
      "metadata": {
        "id": "asKKmb48GRVL"
      },
      "outputs": [],
      "source": [
        "import numpy as np\n",
        "import pandas as pd\n",
        "import requests"
      ]
    },
    {
      "cell_type": "code",
      "source": [
        "from bs4 import BeautifulSoup\n",
        "from IPython.display import HTML"
      ],
      "metadata": {
        "id": "nCNlXQ2mGhGI"
      },
      "execution_count": null,
      "outputs": []
    },
    {
      "cell_type": "code",
      "source": [
        "requests.packages.urllib3.disable_warnings()\n"
      ],
      "metadata": {
        "id": "J2lOXdlxGpUK"
      },
      "execution_count": null,
      "outputs": []
    },
    {
      "cell_type": "code",
      "source": [
        "import warnings\n",
        "warnings.filterwarnings('ignore')"
      ],
      "metadata": {
        "id": "oNfDyudSGrX5"
      },
      "execution_count": null,
      "outputs": []
    },
    {
      "cell_type": "code",
      "source": [
        "snapshot_url = 'https://mobelix.com.mk/mk/mobilni-telefoni'"
      ],
      "metadata": {
        "id": "3HTbFB--Gtyq"
      },
      "execution_count": null,
      "outputs": []
    },
    {
      "cell_type": "code",
      "source": [
        "snapshot = requests.get(snapshot_url)\n",
        "snapshot"
      ],
      "metadata": {
        "colab": {
          "base_uri": "https://localhost:8080/"
        },
        "id": "pOXG1KrIG3VL",
        "outputId": "6ab12dd1-83c9-425b-be0e-aef85a82c566"
      },
      "execution_count": null,
      "outputs": [
        {
          "output_type": "execute_result",
          "data": {
            "text/plain": [
              "<Response [200]>"
            ]
          },
          "metadata": {},
          "execution_count": 13
        }
      ]
    },
    {
      "cell_type": "code",
      "source": [
        "type(snapshot)"
      ],
      "metadata": {
        "colab": {
          "base_uri": "https://localhost:8080/"
        },
        "id": "AAEGedRoG9E2",
        "outputId": "8330addf-2fab-4f72-b291-ca35ea98982e"
      },
      "execution_count": null,
      "outputs": [
        {
          "output_type": "execute_result",
          "data": {
            "text/plain": [
              "requests.models.Response"
            ]
          },
          "metadata": {},
          "execution_count": 14
        }
      ]
    },
    {
      "cell_type": "code",
      "source": [
        "raw_html = snapshot.text\n",
        "print(raw_html)"
      ],
      "metadata": {
        "colab": {
          "base_uri": "https://localhost:8080/"
        },
        "id": "xWRi7chYG_0Y",
        "outputId": "585ca045-e1c3-4fff-8189-783cbf7bd203"
      },
      "execution_count": null,
      "outputs": [
        {
          "output_type": "stream",
          "name": "stdout",
          "text": [
            "<!doctype html>\n",
            "<html lang=\"en\">\n",
            "  <head>\n",
            "    <!-- Required meta tags -->\n",
            "    <meta charset=\"utf-8\">\n",
            "    <title>Мобилни телефони | Mobelix Premium Mobilara</title>\n",
            "    <meta name=\"viewport\" content=\"width=device-width, initial-scale=1, shrink-to-fit=no\">\n",
            "    <meta name=\"title\" content=\"Мобилни телефони | Mobelix Премиум Мобилара\">\n",
            "    <meta name=\"description\" content=\"Mobile Store I Service | Mobelix Premium Mobilara Skopje нуди најголем избор на премиум додатоци за мобилни телефони: маски за мобилни телефони, диспеј, полначи, полначи за кола, бежични полначи, power bank, bluetooth слушалки, usb кабли, фолии и стакла за дисплеј и др.\">        \n",
            "    <meta name=\"keywords\" content=\"mobilara, mobilara skopje, mobilni dodatoci, мобилни додатоци, полначи, бежични полначи, power bank, Bluetooth slusalki, maski za telefoni\">\n",
            "    <meta property='og:site_name' content='Mobelix Премиум Мобилара'/>\n",
            "    <meta property='og:url' content='http://mobelix.com.mk/mk/mobilni-telefoni'/>\n",
            "    <meta property='og:title' content='Мобилни телефони | Mobelix Премиум Мобилара'/>\n",
            "    <meta property='og:type' content='article'/>\n",
            "    <meta property=\"og:image\" content=\"http://mobelix.com.mkhttps://mobelix.com.mk/storage/app/media/about-us/about-us.jpg\" />\n",
            "    <meta property=\"og:description\" content=\"Мобеликс Премиум мобилара е опремена со најсовремени машини и посебно обучен кадар кој ќе ви помогне во најкраток можен рок да ги решите сите проблеми поврзани со вашиот мобилен телефон. Секогаш во чекор со новитетите во својата област, нудејќи производи и услуги достапни за секого.\" />\n",
            "    <meta name=\"twitter:card\" content=\"summary\">\n",
            "    <meta name=\"twitter:title\" content=\"Мобилни телефони | Mobelix Премиум Мобилара\">\n",
            "    <meta name=\"twitter:description\" content=\"Мобеликс Премиум мобилара е опремена со најсовремени машини и посебно обучен кадар кој ќе ви помогне во најкраток можен рок да ги решите сите проблеми поврзани со вашиот мобилен телефон. Секогаш во чекор со новитетите во својата област, нудејќи производи и услуги достапни за секого.\">\n",
            "    <meta name=\"twitter:image\" content=\"http://mobelix.com.mkhttps://mobelix.com.mk/storage/app/media/about-us/about-us.jpg\">\n",
            "    <link rel=\"canonical\" href=\"http://mobelix.com.mk/mk/mobilni-telefoni\" />\n",
            "    <link rel=\"icon\" href=\"https://mobelix.com.mk/themes/mobelix/assets/img/favicon.png\" type=\"image/x-icon\" />\n",
            "    <!-- Bootstrap CSS -->\n",
            "    <link rel=\"stylesheet\" href=\"https://stackpath.bootstrapcdn.com/bootstrap/4.1.3/css/bootstrap.min.css\" integrity=\"sha384-MCw98/SFnGE8fJT3GXwEOngsV7Zt27NXFoaoApmYm81iuXoPkFOJwJ8ERdknLPMO\" crossorigin=\"anonymous\">\n",
            "    <link rel=\"stylesheet\" type=\"text/css\" href=\"https://mobelix.com.mk/themes/mobelix/assets/css/line-awesome.css\">\n",
            "    <link rel=\"stylesheet\" type=\"text/css\" href=\"https://mobelix.com.mk/themes/mobelix/assets/vendor/slick/slick.css\">\n",
            "    <link rel=\"stylesheet\" type=\"text/css\" href=\"https://mobelix.com.mk/themes/mobelix/assets/vendor/slick/slick-theme.css\">\n",
            "\n",
            "    <link rel=\"stylesheet\" type=\"text/css\" href=\"https://mobelix.com.mk/themes/mobelix/assets/css/style.css\">\n",
            "    <link rel=\"stylesheet\" type=\"text/css\" href=\"https://mobelix.com.mk/themes/mobelix/assets/css/custom.css\">\n",
            "    <link rel=\"stylesheet\" type=\"text/css\" href=\"https://mobelix.com.mk/themes/mobelix/assets/css/animate.css\">\n",
            "    <link href=\"https://fonts.googleapis.com/css?family=Montserrat:400,500,600,800,900&amp;subset=cyrillic-ext\" rel=\"stylesheet\">\n",
            "    <link rel=\"stylesheet\" type=\"text/css\" href=\"https://mobelix.com.mk/themes/mobelix/assets/vendor/fontawesome/css/font-awesome.min.css\">\n",
            "        <style>\n",
            "        .hidden-title {\n",
            "            position: absolute;\n",
            "            top: 0;\n",
            "            left: 0;\n",
            "            width: 0;\n",
            "            height: 0;\n",
            "            overflow: hidden;\n",
            "            visibility: hidden;\n",
            "            opacity: 0;\n",
            "        }\n",
            "            </style>\n",
            "\t<!-- Facebook Pixel Code -->\n",
            "<script>\n",
            "  !function(f,b,e,v,n,t,s)\n",
            "  {if(f.fbq)return;n=f.fbq=function(){n.callMethod?\n",
            "  n.callMethod.apply(n,arguments):n.queue.push(arguments)};\n",
            "  if(!f._fbq)f._fbq=n;n.push=n;n.loaded=!0;n.version='2.0';\n",
            "  n.queue=[];t=b.createElement(e);t.async=!0;\n",
            "  t.src=v;s=b.getElementsByTagName(e)[0];\n",
            "  s.parentNode.insertBefore(t,s)}(window, document,'script',\n",
            "  'https://connect.facebook.net/en_US/fbevents.js');\n",
            "    fbq('init', '516928212519211');\n",
            "    fbq('init', '357243778292278');\n",
            "    fbq('init', '298720778249916');\n",
            "    fbq('init', '533032878796577');\n",
            "\n",
            "  fbq('track', 'PageView');\n",
            "</script>\n",
            "<noscript><img height=\"1\" width=\"1\" style=\"display:none\"\n",
            "  src=\"https://www.facebook.com/tr?id=516928212519211&ev=PageView&noscript=1\"\n",
            "/></noscript>\n",
            "<!-- End Facebook Pixel Code -->\n",
            "\n",
            "\n",
            "<!-- Google Tag Manager -->\n",
            "<script>(function(w,d,s,l,i){w[l]=w[l]||[];w[l].push({'gtm.start':\n",
            "new Date().getTime(),event:'gtm.js'});var f=d.getElementsByTagName(s)[0],\n",
            "j=d.createElement(s),dl=l!='dataLayer'?'&l='+l:'';j.async=true;j.src=\n",
            "'https://www.googletagmanager.com/gtm.js?id='+i+dl;f.parentNode.insertBefore(j,f);\n",
            "})(window,document,'script','dataLayer','GTM-NDN8HG9');</script>\n",
            "<!-- End Google Tag Manager -->\n",
            "\n",
            "  </head>\n",
            "  <body itemscope itemtype=\"http://schema.org/MobilePhoneStore\" itemid=\"http://mobelix.com.mk\">\n",
            "      \n",
            "      <!-- Google Tag Manager (noscript) -->\n",
            "<noscript><iframe src=\"https://www.googletagmanager.com/ns.html?id=GTM-NDN8HG9\"\n",
            "height=\"0\" width=\"0\" style=\"display:none;visibility:hidden\"></iframe></noscript>\n",
            "<!-- End Google Tag Manager (noscript) -->\n",
            "    <div id=\"preloader\"></div>\n",
            "    <header class=\"shadow-sm\">\n",
            "\n",
            "  <div class=\"top-bar bg-dark text-white\">\n",
            "\n",
            "    <div class=\"container\">\n",
            "\n",
            "      <div class=\"d-flex flex-wrap justify-content-between align-items-center small\">\n",
            "\n",
            "        <div class=\"top-bar-info\">\n",
            "\n",
            "          <p class=\"mb-0\">Корисничка поддршка: <a href=\"tel:+38922772272\" class=\"ml-1\">02 2772 272</a></p>\n",
            "\n",
            "        </div>\n",
            "\n",
            "        <div class=\"top-bar-info\">\n",
            "\n",
            "          <ul class=\"nav text-white justify-content-center\">\n",
            "\n",
            "            <li class=\"nav-item\">\n",
            "\n",
            "              <a class=\"nav-link\" href=\"https://mobelix.com.mk/mk/lista-na-zhelbi\">Листа на желби</a>\n",
            "\n",
            "            </li>\n",
            "\n",
            "            <li class=\"nav-item\">\n",
            "\n",
            "              <a class=\"nav-link\" href=\"https://mobelix.com.mk/mk/kontakt\">Испрати порака</a>\n",
            "\n",
            "            </li>\n",
            "\n",
            "          </ul>\n",
            "\n",
            "        </div>\n",
            "\n",
            "      </div>\n",
            "\n",
            "    </div>\n",
            "\n",
            "  </div>\n",
            "\n",
            "  <nav class=\"navbar navbar-expand-lg navbar-light bg-white px-0 py-2 py-lg-3\">\n",
            "\n",
            "    <div class=\"container align-items-center px-3\">\n",
            "\n",
            "      <a class=\"navbar-brand order-0\" href=\"https://mobelix.com.mk/mk\"><img src=\"https://mobelix.com.mk/themes/mobelix/assets/img/logo.svg\"></a>\n",
            "\n",
            "      <div class=\"collapse search-collapse order-3 order-lg-2 input-search\" id=\"collapseSearch\">\n",
            "\n",
            "          <form action=\"https://mobelix.com.mk/mk/prebaruvanje\" method=\"GET\" class=\"my-3 my-lg-0 with-border\">\n",
            "\n",
            "              <div class=\"input-group flex-nowrap\">\n",
            "\n",
            "                <div class=\"input-group-prepend d-flex bg-gold-gradient-wrapper border-radius-left\">\n",
            "\n",
            "                  <select class=\"custom-select hover-yellow pr-5 pl-4 w-auto bg-light h-auto d-none d-sm-block\" id=\"inputGroupSelect01\" name=\"category\">\n",
            "\n",
            "                    <option value=\"mobilni-uredi\">Мобилни телефони</option>\n",
            "\n",
            "                    <option value=\"mobilni-dodatoci\">Мобилни додатоци</option>\n",
            "\n",
            "                  </select>\n",
            "\n",
            "                </div>\n",
            "\n",
            "                <input type=\"text\" class=\"form-control w-50 py-4 pl-0 ml-4 pr-0\" placeholder=\"Пребарајте по производи\" value=\"\" name=\"product\">\n",
            "\n",
            "                <div class=\"input-group-append bg-gold-gradient-wrapper border-radius-right\">\n",
            "\n",
            "                    <button class=\"btn btn-default bg-light hover-yellow btn-search-mobelix\"><i class=\"la la-search\"></i></button>\n",
            "\n",
            "                  </div>\n",
            "\n",
            "              </div>\n",
            "\n",
            "          </form>\n",
            "\n",
            "      </div>\n",
            "\n",
            "      <div class=\"burger-wrapper d-flex align-items-center order-2 order-lg-3\">\n",
            "\n",
            "          <div id=\"wishlist\" class=\"mr-3 mr-lg-0 ml-lg-4\">\n",
            "\n",
            "              <div class=\"d-flex\">\n",
            "    <a class=\"d-flex align-items-center wishlist-wrapper\" href=\"https://mobelix.com.mk/mk/lista-na-zhelbi\">\n",
            "      <div class=\"icon-wishlist\">\n",
            "        <i class=\"la la-heart-o\"></i>\n",
            "              </div>\n",
            "      <div class=\"small ml-2 d-none d-lg-block\">\n",
            "          <p class=\"mb-0\">Листа на желби</p>\n",
            "      </div>          \n",
            "    </a>\n",
            "    <span class=\"search-toggler ml-lg-3 d-lg-none\" data-toggle=\"collapse\" data-target=\"#collapseSearch\" aria-expanded=\"false\" aria-controls=\"collapseSearch\"><i class=\"la la-search\"></i></span>\n",
            "</div>\n",
            "          </div>\n",
            "\n",
            "          <button class=\"navbar-toggler d-lg-none border-0\" type=\"button\" data-toggle=\"collapse\" data-target=\"#navbarSupportedContent\" aria-controls=\"navbarSupportedContent\" aria-expanded=\"false\" aria-label=\"Toggle navigation\">\n",
            "\n",
            "            <span class=\"navbar-toggler-icon\"></span>\n",
            "\n",
            "          </button>\n",
            "\n",
            "      </div>\n",
            "\n",
            "    </div>\n",
            "\n",
            "  </nav>\n",
            "\n",
            "  <div class=\"container px-3 d-none d-lg-block\">\n",
            "\n",
            "    <hr class=\"my-0\">\n",
            "\n",
            "  </div>\n",
            "\n",
            "  <nav class=\"navbar navbar-expand-lg navbar-light bg-white px-0 py-0 py-lg-2\">\n",
            "\n",
            "    <div class=\"container px-3\">\n",
            "\n",
            "\n",
            "\n",
            "      <div class=\"collapse navbar-collapse navbar-collapsible\" id=\"navbarSupportedContent\">\n",
            "\n",
            "        <ul class=\"navbar-nav w-100 py-2 py-md-0\">\n",
            "\n",
            "          <li class=\"nav-item\">\n",
            "\n",
            "            <a class=\"nav-link text-capitalize pl-0\" href=\"https://mobelix.com.mk/mk\">Почетна</a>\n",
            "\n",
            "          </li>\n",
            "\n",
            "          <li class=\"nav-item dropdown\">\n",
            "\n",
            "            <div class=\"nav-link dropdown-toggle\" id=\"navbarDropdown\" role=\"button\" data-toggle=\"dropdown\" aria-haspopup=\"true\" aria-expanded=\"false\">\n",
            "\n",
            "              Производи\n",
            "\n",
            "            </div>\n",
            "\n",
            "            <div class=\"dropdown-menu mt-3 mt-lg-0\">\n",
            "\n",
            "              <a class=\"nav-link text-capitalize dropdown-item\" href=\"https://mobelix.com.mk/mk/mobilni-telefoni\">Мобилни телефони</a>\n",
            "\n",
            "              <a class=\"nav-link text-capitalize dropdown-item\" href=\"https://mobelix.com.mk/mk/smart-chasovnici\">Smart часовници</a>\n",
            "\n",
            "              <a class=\"nav-link text-capitalize dropdown-item\" href=\"https://mobelix.com.mk/mk/mobilni-dodatoci\">Мобилни додатоци</a>\n",
            "\n",
            "              <a class=\"nav-link text-capitalize dropdown-item\" href=\"https://mobelix.com.mk/mk/eksponati\">Експонати</a>\n",
            "\n",
            "            </div>\n",
            "\n",
            "          </li>\n",
            "\n",
            "          <li class=\"nav-item border-right pr-3\">\n",
            "\n",
            "            <a class=\"nav-link text-capitalize\" href=\"https://mobelix.com.mk/mk/servis\">Сервис</a>\n",
            "\n",
            "          </li>\n",
            "\n",
            "          <li class=\"nav-item\">\n",
            "\n",
            "            <a class=\"nav-link text-capitalize\" href=\"https://mobelix.com.mk/mk/premium-mobilara\">Премиум Мобилара</a>\n",
            "\n",
            "          </li>\n",
            "\n",
            "          <li class=\"nav-item ml-lg-auto\">\n",
            "\n",
            "            <a class=\"nav-link text-capitalize\" href=\"https://mobelix.com.mk/mk/chesto-postavuvani-prashanja\">ЧПП</a>\n",
            "\n",
            "          </li>\n",
            "\n",
            "          <li class=\"nav-item\">\n",
            "\n",
            "            <a class=\"nav-link text-capitalize\" href=\"https://mobelix.com.mk/mk/novosti\">Новости</a>\n",
            "\n",
            "          </li>\n",
            "\n",
            "          <li class=\"nav-item\">\n",
            "\n",
            "            <a class=\"nav-link text-capitalize pr-lg-0\" href=\"https://mobelix.com.mk/mk/kontakt\">Контакт</a>\n",
            "\n",
            "          </li>\n",
            "\n",
            "        </ul>\n",
            "\n",
            "      </div>\n",
            "\n",
            "    </div>\n",
            "\n",
            "  </nav>\n",
            "\n",
            "</header>    <section class=\"category-section pt-4 pt-xl-5 pb-3\">\n",
            "    <div class=\"container\">\n",
            "        <h1 class=\"h2\">Мобилни телефони</h1>\n",
            "        <nav aria-label=\"breadcrumb\">\n",
            "            <ol class=\"breadcrumb bg-white p-0 mb-2\">\n",
            "                <li class=\"breadcrumb-item\"><a href=\"https://mobelix.com.mk/mk\">Дома</a></li>\n",
            "                                                <li class=\"breadcrumb-item active\" aria-current=\"page\">Мобилни телефони</li>\n",
            "            </ol>\n",
            "        </nav>\n",
            "    </div>\n",
            "</section>\n",
            "<section class=\"bg-light pb-4 pb-xl-5 pt-3\">\n",
            "    <div class=\"container\">\n",
            "        <div class=\"row\">\n",
            "            <div class=\"col-lg-3\">\n",
            "                <div class=\"block mt-3 d-none d-lg-block\">\n",
            "                    <h5 class=\"h4 pb-2 categories-title\">Производи</h5>\n",
            "                    <ul class=\"nav flex-column categories-nav\">\n",
            "                        <li class=\"nav-item\">\n",
            "                            <a class=\"nav-link little-heading active\" href=\"https://mobelix.com.mk/mk/mobilni-telefoni\">Мобилни телефони</a>\n",
            "                            <button class=\"category-toggle\" type=\"button\" data-toggle=\"collapse\" data-target=\"#mobileList\" aria-controls=\"mobileList\"  aria-expanded=\"true\" >\n",
            "                            </button>\n",
            "                            <div class=\"collapse show\" id=\"mobileList\">\n",
            "                                <ul class=\"nav flex-column categories-nav\">\n",
            "                                                                        <a class=\"nav-link pl-3 line-left\" href=\"https://mobelix.com.mk/mk/brendovi/apple\">\n",
            "                                        <h2 class=\"h6 mb-0 brand-menu\">Apple</h2>                                    </a>\n",
            "                                                                        <a class=\"nav-link pl-3 line-left\" href=\"https://mobelix.com.mk/mk/brendovi/samsung\">\n",
            "                                        <h2 class=\"h6 mb-0 brand-menu\">Samsung</h2>                                    </a>\n",
            "                                                                        <a class=\"nav-link pl-3 line-left\" href=\"https://mobelix.com.mk/mk/brendovi/huawei\">\n",
            "                                        <h2 class=\"h6 mb-0 brand-menu\">Huawei</h2>                                    </a>\n",
            "                                                                        <a class=\"nav-link pl-3 line-left\" href=\"https://mobelix.com.mk/mk/brendovi/xiaomi\">\n",
            "                                        <h2 class=\"h6 mb-0 brand-menu\">Xiaomi</h2>                                    </a>\n",
            "                                                                        <a class=\"nav-link pl-3 line-left\" href=\"https://mobelix.com.mk/mk/brendovi/blackberry\">\n",
            "                                        <h2 class=\"h6 mb-0 brand-menu\">Blackberry</h2>                                    </a>\n",
            "                                                                        <a class=\"nav-link pl-3 line-left\" href=\"https://mobelix.com.mk/mk/brendovi/one-plus\">\n",
            "                                        <h2 class=\"h6 mb-0 brand-menu\">One Plus</h2>                                    </a>\n",
            "                                                                        <a class=\"nav-link pl-3 line-left\" href=\"https://mobelix.com.mk/mk/brendovi/nokia\">\n",
            "                                        <h2 class=\"h6 mb-0 brand-menu\">Nokia</h2>                                    </a>\n",
            "                                                                        <a class=\"nav-link pl-3 line-left\" href=\"https://mobelix.com.mk/mk/brendovi/google\">\n",
            "                                        <h2 class=\"h6 mb-0 brand-menu\">Google</h2>                                    </a>\n",
            "                                                                        <a class=\"nav-link pl-3 line-left\" href=\"https://mobelix.com.mk/mk/brendovi/asus\">\n",
            "                                        <h2 class=\"h6 mb-0 brand-menu\">ASUS</h2>                                    </a>\n",
            "                                                                        <a class=\"nav-link pl-3 line-left\" href=\"https://mobelix.com.mk/mk/brendovi/zte\">\n",
            "                                        <h2 class=\"h6 mb-0 brand-menu\">ZTE</h2>                                    </a>\n",
            "                                                                    </ul>\n",
            "                            </div>\n",
            "                        </li>\n",
            "                        <li class=\"nav-item\">\n",
            "                            <a class=\"nav-link little-heading\" href=\"https://mobelix.com.mk/mk/smart-chasovnici\">Smart часовници</a>\n",
            "                            <button class=\"category-toggle\" type=\"button\" data-toggle=\"collapse\" data-target=\"#smartWatch\" aria-controls=\"smartWatch\"  aria-expanded=\"false\" >\n",
            "                            </button>\n",
            "                            <div class=\"collapse\" id=\"smartWatch\">\n",
            "                                <ul class=\"nav flex-column categories-nav\">\n",
            "                                                                        <a class=\"nav-link pl-3 line-left\" href=\"https://mobelix.com.mk/mk/smartwatch-brend/apple\">Apple</a>\n",
            "                                                                        <a class=\"nav-link pl-3 line-left\" href=\"https://mobelix.com.mk/mk/smartwatch-brend/samsung\">Samsung</a>\n",
            "                                                                        <a class=\"nav-link pl-3 line-left\" href=\"https://mobelix.com.mk/mk/smartwatch-brend/huawei\">Huawei</a>\n",
            "                                                                        <a class=\"nav-link pl-3 line-left\" href=\"https://mobelix.com.mk/mk/smartwatch-brend/xiaomi\">Xiaomi</a>\n",
            "                                                                        <a class=\"nav-link pl-3 line-left\" href=\"https://mobelix.com.mk/mk/smartwatch-brend/zte\">ZTE</a>\n",
            "                                                                    </ul>\n",
            "                            </div>\n",
            "                        </li>\n",
            "                        <li class=\"nav-item\">\n",
            "                            <a class=\"nav-link little-heading\" href=\"https://mobelix.com.mk/mk/mobilni-dodatoci\">Мобилни додатоци</a>\n",
            "                            <button class=\"category-toggle\" type=\"button\" data-toggle=\"collapse\" data-target=\"#collapseExample\" aria-controls=\"collapseExample\"  aria-expanded=\"false\" >\n",
            "                            </button>\n",
            "                            <div class=\"collapse\" id=\"collapseExample\">\n",
            "                                <ul class=\"nav flex-column categories-nav\">\n",
            "                                                                        <a class=\"nav-link pl-3 line-left\" href=\"https://mobelix.com.mk/mk/mobilni-dodatoci/apple-accessories\">\n",
            "                                        Apple Accessories                                    </a>\n",
            "                                                                        <a class=\"nav-link pl-3 line-left\" href=\"https://mobelix.com.mk/mk/mobilni-dodatoci/audio-converter\">\n",
            "                                        Audio Converter                                    </a>\n",
            "                                                                        <a class=\"nav-link pl-3 line-left\" href=\"https://mobelix.com.mk/mk/mobilni-dodatoci/aux-audio\">\n",
            "                                        AUX Audio                                    </a>\n",
            "                                                                        <a class=\"nav-link pl-3 line-left\" href=\"https://mobelix.com.mk/mk/mobilni-dodatoci/back-cover\">\n",
            "                                        Back Cover                                    </a>\n",
            "                                                                        <a class=\"nav-link pl-3 line-left\" href=\"https://mobelix.com.mk/mk/mobilni-dodatoci/bluetooth-earphones\">\n",
            "                                        Bluetooth Headphones                                    </a>\n",
            "                                                                        <a class=\"nav-link pl-3 line-left\" href=\"https://mobelix.com.mk/mk/mobilni-dodatoci/car-charger\">\n",
            "                                        Car Charger                                    </a>\n",
            "                                                                        <a class=\"nav-link pl-3 line-left\" href=\"https://mobelix.com.mk/mk/mobilni-dodatoci/car-mount\">\n",
            "                                        Car Mount                                    </a>\n",
            "                                                                        <a class=\"nav-link pl-3 line-left\" href=\"https://mobelix.com.mk/mk/mobilni-dodatoci/case\">\n",
            "                                        Case                                    </a>\n",
            "                                                                        <a class=\"nav-link pl-3 line-left\" href=\"https://mobelix.com.mk/mk/mobilni-dodatoci/charger\">\n",
            "                                        Charger                                    </a>\n",
            "                                                                        <a class=\"nav-link pl-3 line-left\" href=\"https://mobelix.com.mk/mk/mobilni-dodatoci/display\">\n",
            "                                        Display                                    </a>\n",
            "                                                                        <a class=\"nav-link pl-3 line-left\" href=\"https://mobelix.com.mk/mk/mobilni-dodatoci/earphones\">\n",
            "                                        Earphones                                    </a>\n",
            "                                                                        <a class=\"nav-link pl-3 line-left\" href=\"https://mobelix.com.mk/mk/mobilni-dodatoci/gaming\">\n",
            "                                        Gaming                                    </a>\n",
            "                                                                        <a class=\"nav-link pl-3 line-left\" href=\"https://mobelix.com.mk/mk/mobilni-dodatoci/glass-film\">\n",
            "                                        Glass Film                                    </a>\n",
            "                                                                        <a class=\"nav-link pl-3 line-left\" href=\"https://mobelix.com.mk/mk/mobilni-dodatoci/headphones\">\n",
            "                                        Headphones                                    </a>\n",
            "                                                                        <a class=\"nav-link pl-3 line-left\" href=\"https://mobelix.com.mk/mk/mobilni-dodatoci/mp3-bluetooth\">\n",
            "                                        MP3 Bluetooth                                    </a>\n",
            "                                                                        <a class=\"nav-link pl-3 line-left\" href=\"https://mobelix.com.mk/mk/mobilni-dodatoci/power-bank\">\n",
            "                                        Power Bank                                    </a>\n",
            "                                                                        <a class=\"nav-link pl-3 line-left\" href=\"https://mobelix.com.mk/mk/mobilni-dodatoci/samsung-accessories\">\n",
            "                                        Samsung Accessories                                    </a>\n",
            "                                                                        <a class=\"nav-link pl-3 line-left\" href=\"https://mobelix.com.mk/mk/mobilni-dodatoci/usb-cable\">\n",
            "                                        USB Cable                                    </a>\n",
            "                                                                        <a class=\"nav-link pl-3 line-left\" href=\"https://mobelix.com.mk/mk/mobilni-dodatoci/wireless-charger\">\n",
            "                                        Wireless Charger                                    </a>\n",
            "                                                                        <a class=\"nav-link pl-3 line-left\" href=\"https://mobelix.com.mk/mk/mobilni-dodatoci/wireless-earphone\">\n",
            "                                        Wireless Earphones                                    </a>\n",
            "                                                                        <a class=\"nav-link pl-3 line-left\" href=\"https://mobelix.com.mk/mk/mobilni-dodatoci/wireless-headphone\">\n",
            "                                        Wireless Headphones                                    </a>\n",
            "                                                                        <a class=\"nav-link pl-3 line-left\" href=\"https://mobelix.com.mk/mk/mobilni-dodatoci/wireless-speaker\">\n",
            "                                        Wireless Speaker                                    </a>\n",
            "                                                                    </ul>\n",
            "                            </div>\n",
            "                        </li>\n",
            "                        <li class=\"nav-item\">\n",
            "                            <a class=\"nav-link little-heading\" href=\"https://mobelix.com.mk/mk/eksponati\">Експонати</a>\n",
            "                            <button class=\"category-toggle\" type=\"button\" data-toggle=\"collapse\" data-target=\"#used_phones_list\" aria-controls=\"used_phones_list\"  aria-expanded=\"false\" >\n",
            "                            </button>\n",
            "                            <div class=\"collapse\" id=\"used_phones_list\">\n",
            "                                <ul class=\"nav flex-column categories-nav\">\n",
            "                                                                        <a class=\"nav-link pl-3 line-left\" href=\"https://mobelix.com.mk/mk/eksponati/apple\">\n",
            "                                        Apple                                    </a>\n",
            "                                                                        <a class=\"nav-link pl-3 line-left\" href=\"https://mobelix.com.mk/mk/eksponati/samsung\">\n",
            "                                        Samsung                                    </a>\n",
            "                                                                        <a class=\"nav-link pl-3 line-left\" href=\"https://mobelix.com.mk/mk/eksponati/huawei\">\n",
            "                                        Huawei                                    </a>\n",
            "                                                                        <a class=\"nav-link pl-3 line-left\" href=\"https://mobelix.com.mk/mk/eksponati/one-plus\">\n",
            "                                        One Plus                                    </a>\n",
            "                                                                        <a class=\"nav-link pl-3 line-left\" href=\"https://mobelix.com.mk/mk/eksponati/oppo\">\n",
            "                                        Oppo                                    </a>\n",
            "                                                                        <a class=\"nav-link pl-3 line-left\" href=\"https://mobelix.com.mk/mk/eksponati/google\">\n",
            "                                        Google                                    </a>\n",
            "                                                                    </ul>\n",
            "                            </div>\n",
            "                        </li>\n",
            "                    </ul>\n",
            "                </div>\n",
            "            </div>\n",
            "            <div class=\"col-lg-9 product-listing\">\n",
            "                                <div class=\"d-flex mt-lg-3 justify-content-start justify-content-lg-between align-items-center flex-column flex-md-row\">\n",
            "                    <div class=\"d-flex flex-wrap flex-sm-nowrap w-100\">\n",
            "                                                <div class=\"select-wrapper bg-gradient mr-3 mb-2 mb-lg-0\">\n",
            "                            <select class=\"d-lg-none custom-select w-auto white-arrow mb-0\" id=\"brandSelect\">\n",
            "                                                                <option value=\"https://mobelix.com.mk/mk/mobilni-telefoni\">Сите Брендови</option>\n",
            "                                                                \t                                \t                                \n",
            "                                                                <option  value=\"https://mobelix.com.mk/mk/brendovi/apple\">Apple</option>\n",
            "                                                                <option  value=\"https://mobelix.com.mk/mk/brendovi/samsung\">Samsung</option>\n",
            "                                                                <option  value=\"https://mobelix.com.mk/mk/brendovi/huawei\">Huawei</option>\n",
            "                                                                <option  value=\"https://mobelix.com.mk/mk/brendovi/xiaomi\">Xiaomi</option>\n",
            "                                                                <option  value=\"https://mobelix.com.mk/mk/brendovi/blackberry\">Blackberry</option>\n",
            "                                                                <option  value=\"https://mobelix.com.mk/mk/brendovi/one-plus\">One Plus</option>\n",
            "                                                                <option  value=\"https://mobelix.com.mk/mk/brendovi/nokia\">Nokia</option>\n",
            "                                                                <option  value=\"https://mobelix.com.mk/mk/brendovi/google\">Google</option>\n",
            "                                                                <option  value=\"https://mobelix.com.mk/mk/brendovi/asus\">ASUS</option>\n",
            "                                                                <option  value=\"https://mobelix.com.mk/mk/brendovi/zte\">ZTE</option>\n",
            "                                                                                                                            </select>\n",
            "                        </div>\n",
            "                                                <form action=\"https://mobelix.com.mk/mk/mobilni-telefoni\" method=\"GET\" id=\"orderForm\">\n",
            "                            <select class=\"custom-select mr-sm-2 w-auto\" name=\"orderBy\">\n",
            "                                <option value='cheap' >Цена: Ниска > Висока</option>\n",
            "                                <option value='expensive' >Цена: Висока > Ниска</option>\n",
            "                                <option value=\"standard\"  selected>Стандардно подредување</option>\n",
            "                                <option value='new' >Понови > Постари</option>\n",
            "                                <option value='old' >Постари > Понови</option>\n",
            "                            </select>\n",
            "                                                                                </form>\n",
            "                    </div>\n",
            "                    <div class=\"w-100\">\n",
            "                        <p class=\"result mt-3 mt-md-0 mb-0 text-left text-md-right\">Прикажани 1-9 од 186 резултати.</p>\n",
            "                    </div>\n",
            "                </div>\n",
            "                                <div class=\"row mt-3\">\n",
            "                                        <div class=\"tab-col col-6 col-md-4 my-3 product-wrapper d-flex text-center wow fadeInUp\">\n",
            "                        <div class=\"p-2 rounded text-dark bg-white d-flex w-100\">\n",
            "                            <a href=\"https://mobelix.com.mk/mk/proizvodi/blackberry-porsche-design-p9981\" class=\"d-flex w-100\">\n",
            "                                <div class=\"border border-0 bg-white rounded px-3 pb-3 pt-1 row mx-0 align-items-center\">\n",
            "                                    <div class=\"col-12 product-img-wrapper pt-3\">\n",
            "                                        <img src=\"https://mobelix.com.mk/storage/app/uploads/public/605/31a/2d7/thumb_2499_550_800_0_0_crop.jpg\" class=\"img-fluid mb-2 mb-xl-3\" alt=\"Blackberry Porsche Design P9981\">\n",
            "                                    </div>\n",
            "                                    <div class=\"col-12\">\n",
            "                                        <h5 class=\"mb-0\">Blackberry</h5>\n",
            "                                        <h3 class=\"h5 font-weight-normal\">Porsche Design P9981</h3>\n",
            "                                                                                <p class=\"h5 price\">19,000.00 ден</p>\n",
            "                                                                                <button class=\"btn btn-outline-primary\">Повеќе</button>\n",
            "                                    </div>\n",
            "                                </div>\n",
            "                                                                                            </a>\n",
            "                        </div>\n",
            "                    </div>\n",
            "                                        <div class=\"tab-col col-6 col-md-4 my-3 product-wrapper d-flex text-center onsale wow fadeInUp\">\n",
            "                        <div class=\"p-2 rounded text-dark bg-white d-flex w-100\">\n",
            "                            <a href=\"https://mobelix.com.mk/mk/proizvodi/samsung-galaxy-a03s-464gb\" class=\"d-flex w-100\">\n",
            "                                <div class=\"border border-0 bg-white rounded px-3 pb-3 pt-1 row mx-0 align-items-center\">\n",
            "                                    <div class=\"col-12 product-img-wrapper pt-3\">\n",
            "                                        <img src=\"https://mobelix.com.mk/storage/app/uploads/public/619/24c/781/thumb_3459_550_800_0_0_crop.png\" class=\"img-fluid mb-2 mb-xl-3\" alt=\"Samsung Galaxy A03s 4/64GB\">\n",
            "                                    </div>\n",
            "                                    <div class=\"col-12\">\n",
            "                                        <h5 class=\"mb-0\">Samsung</h5>\n",
            "                                        <h3 class=\"h5 font-weight-normal\">Galaxy A03s 4/64GB</h3>\n",
            "                                                                                <p class=\"h5 price\"><del class=\"mr-2 small\">9,200.00</del><br>8,300.00 ден</p>\n",
            "                                                                                <button class=\"btn btn-outline-primary\">Повеќе</button>\n",
            "                                    </div>\n",
            "                                </div>\n",
            "                                                                <span class=\"badge badge-primary\">-10%</span>\n",
            "                                                                                            </a>\n",
            "                        </div>\n",
            "                    </div>\n",
            "                                        <div class=\"tab-col col-6 col-md-4 my-3 product-wrapper d-flex text-center onsale wow fadeInUp\">\n",
            "                        <div class=\"p-2 rounded text-dark bg-white d-flex w-100\">\n",
            "                            <a href=\"https://mobelix.com.mk/mk/proizvodi/samsung-galaxy-a04s-332gb\" class=\"d-flex w-100\">\n",
            "                                <div class=\"border border-0 bg-white rounded px-3 pb-3 pt-1 row mx-0 align-items-center\">\n",
            "                                    <div class=\"col-12 product-img-wrapper pt-3\">\n",
            "                                        <img src=\"https://mobelix.com.mk/storage/app/uploads/public/637/60a/1ed/thumb_4250_550_800_0_0_crop.png\" class=\"img-fluid mb-2 mb-xl-3\" alt=\"Samsung Galaxy A04s 3/32GB\">\n",
            "                                    </div>\n",
            "                                    <div class=\"col-12\">\n",
            "                                        <h5 class=\"mb-0\">Samsung</h5>\n",
            "                                        <h3 class=\"h5 font-weight-normal\">Galaxy A04s 3/32GB</h3>\n",
            "                                                                                <p class=\"h5 price\"><del class=\"mr-2 small\">10,500.00</del><br>8,300.00 ден</p>\n",
            "                                                                                <button class=\"btn btn-outline-primary\">Повеќе</button>\n",
            "                                    </div>\n",
            "                                </div>\n",
            "                                                                <span class=\"badge badge-primary\">-21%</span>\n",
            "                                                                                            </a>\n",
            "                        </div>\n",
            "                    </div>\n",
            "                                        <div class=\"tab-col col-6 col-md-4 my-3 product-wrapper d-flex text-center onsale wow fadeInUp\">\n",
            "                        <div class=\"p-2 rounded text-dark bg-white d-flex w-100\">\n",
            "                            <a href=\"https://mobelix.com.mk/mk/proizvodi/apple-iphone-14-pro-max-128gb-e-sim\" class=\"d-flex w-100\">\n",
            "                                <div class=\"border border-0 bg-white rounded px-3 pb-3 pt-1 row mx-0 align-items-center\">\n",
            "                                    <div class=\"col-12 product-img-wrapper pt-3\">\n",
            "                                        <img src=\"https://mobelix.com.mk/storage/app/uploads/public/63d/786/1c5/thumb_4399_550_800_0_0_crop.png\" class=\"img-fluid mb-2 mb-xl-3\" alt=\"Apple iPhone 14 Pro Max 128GB E-SIM\">\n",
            "                                    </div>\n",
            "                                    <div class=\"col-12\">\n",
            "                                        <h5 class=\"mb-0\">Apple</h5>\n",
            "                                        <h3 class=\"h5 font-weight-normal\">iPhone 14 Pro Max 128GB E-SIM</h3>\n",
            "                                                                                <p class=\"h5 price\"><del class=\"mr-2 small\">67,600.00</del><br>61,500.00 ден</p>\n",
            "                                                                                <button class=\"btn btn-outline-primary\">Повеќе</button>\n",
            "                                    </div>\n",
            "                                </div>\n",
            "                                                                <span class=\"badge badge-primary\">-9%</span>\n",
            "                                                                                            </a>\n",
            "                        </div>\n",
            "                    </div>\n",
            "                                        <div class=\"tab-col col-6 col-md-4 my-3 product-wrapper d-flex text-center onsale wow fadeInUp\">\n",
            "                        <div class=\"p-2 rounded text-dark bg-white d-flex w-100\">\n",
            "                            <a href=\"https://mobelix.com.mk/mk/proizvodi/apple-iphone-14-pro-512gb\" class=\"d-flex w-100\">\n",
            "                                <div class=\"border border-0 bg-white rounded px-3 pb-3 pt-1 row mx-0 align-items-center\">\n",
            "                                    <div class=\"col-12 product-img-wrapper pt-3\">\n",
            "                                        <img src=\"https://mobelix.com.mk/storage/app/uploads/public/632/83f/b4b/thumb_4093_550_800_0_0_crop.png\" class=\"img-fluid mb-2 mb-xl-3\" alt=\"Apple iPhone 14 Pro 512GB\">\n",
            "                                    </div>\n",
            "                                    <div class=\"col-12\">\n",
            "                                        <h5 class=\"mb-0\">Apple</h5>\n",
            "                                        <h3 class=\"h5 font-weight-normal\">iPhone 14 Pro 512GB</h3>\n",
            "                                                                                <p class=\"h5 price\"><del class=\"mr-2 small\">94,100.00</del><br>89,200.00 ден</p>\n",
            "                                                                                <button class=\"btn btn-outline-primary\">Повеќе</button>\n",
            "                                    </div>\n",
            "                                </div>\n",
            "                                                                <span class=\"badge badge-primary\">-5%</span>\n",
            "                                                                                            </a>\n",
            "                        </div>\n",
            "                    </div>\n",
            "                                        <div class=\"tab-col col-6 col-md-4 my-3 product-wrapper d-flex text-center onsale wow fadeInUp\">\n",
            "                        <div class=\"p-2 rounded text-dark bg-white d-flex w-100\">\n",
            "                            <a href=\"https://mobelix.com.mk/mk/proizvodi/apple-iphone-14-pro-max-512gb\" class=\"d-flex w-100\">\n",
            "                                <div class=\"border border-0 bg-white rounded px-3 pb-3 pt-1 row mx-0 align-items-center\">\n",
            "                                    <div class=\"col-12 product-img-wrapper pt-3\">\n",
            "                                        <img src=\"https://mobelix.com.mk/storage/app/uploads/public/632/840/344/thumb_4104_550_800_0_0_crop.png\" class=\"img-fluid mb-2 mb-xl-3\" alt=\"Apple iPhone 14 Pro Max 512GB\">\n",
            "                                    </div>\n",
            "                                    <div class=\"col-12\">\n",
            "                                        <h5 class=\"mb-0\">Apple</h5>\n",
            "                                        <h3 class=\"h5 font-weight-normal\">iPhone 14 Pro Max 512GB</h3>\n",
            "                                                                                <p class=\"h5 price\"><del class=\"mr-2 small\">80,000.00</del><br>78,100.00 ден</p>\n",
            "                                                                                <button class=\"btn btn-outline-primary\">Повеќе</button>\n",
            "                                    </div>\n",
            "                                </div>\n",
            "                                                                <span class=\"badge badge-primary\">-2%</span>\n",
            "                                                                                            </a>\n",
            "                        </div>\n",
            "                    </div>\n",
            "                                        <div class=\"tab-col col-6 col-md-4 my-3 product-wrapper d-flex text-center onsale wow fadeInUp\">\n",
            "                        <div class=\"p-2 rounded text-dark bg-white d-flex w-100\">\n",
            "                            <a href=\"https://mobelix.com.mk/mk/proizvodi/apple-iphone-14-pro-max-1tb\" class=\"d-flex w-100\">\n",
            "                                <div class=\"border border-0 bg-white rounded px-3 pb-3 pt-1 row mx-0 align-items-center\">\n",
            "                                    <div class=\"col-12 product-img-wrapper pt-3\">\n",
            "                                        <img src=\"https://mobelix.com.mk/storage/app/uploads/public/633/d75/4a8/thumb_4148_550_800_0_0_crop.png\" class=\"img-fluid mb-2 mb-xl-3\" alt=\"Apple iPhone 14 Pro Max 1TB\">\n",
            "                                    </div>\n",
            "                                    <div class=\"col-12\">\n",
            "                                        <h5 class=\"mb-0\">Apple</h5>\n",
            "                                        <h3 class=\"h5 font-weight-normal\">iPhone 14 Pro Max 1TB</h3>\n",
            "                                                                                <p class=\"h5 price\"><del class=\"mr-2 small\">116,900.00</del><br>98,400.00 ден</p>\n",
            "                                                                                <button class=\"btn btn-outline-primary\">Повеќе</button>\n",
            "                                    </div>\n",
            "                                </div>\n",
            "                                                                <span class=\"badge badge-primary\">-16%</span>\n",
            "                                                                                            </a>\n",
            "                        </div>\n",
            "                    </div>\n",
            "                                        <div class=\"tab-col col-6 col-md-4 my-3 product-wrapper d-flex text-center onsale wow fadeInUp\">\n",
            "                        <div class=\"p-2 rounded text-dark bg-white d-flex w-100\">\n",
            "                            <a href=\"https://mobelix.com.mk/mk/proizvodi/apple-iphone-14-pro-128gb-e-sim\" class=\"d-flex w-100\">\n",
            "                                <div class=\"border border-0 bg-white rounded px-3 pb-3 pt-1 row mx-0 align-items-center\">\n",
            "                                    <div class=\"col-12 product-img-wrapper pt-3\">\n",
            "                                        <img src=\"https://mobelix.com.mk/storage/app/uploads/public/63a/ac1/6cb/thumb_4318_550_800_0_0_crop.png\" class=\"img-fluid mb-2 mb-xl-3\" alt=\"Apple iPhone 14 Pro 128GB E-SIM\">\n",
            "                                    </div>\n",
            "                                    <div class=\"col-12\">\n",
            "                                        <h5 class=\"mb-0\">Apple</h5>\n",
            "                                        <h3 class=\"h5 font-weight-normal\">iPhone 14 Pro 128GB E-SIM</h3>\n",
            "                                                                                <p class=\"h5 price\"><del class=\"mr-2 small\">58,500.00</del><br>55,300.00 ден</p>\n",
            "                                                                                <button class=\"btn btn-outline-primary\">Повеќе</button>\n",
            "                                    </div>\n",
            "                                </div>\n",
            "                                                                <span class=\"badge badge-primary\">-5%</span>\n",
            "                                                                                            </a>\n",
            "                        </div>\n",
            "                    </div>\n",
            "                                        <div class=\"tab-col col-6 col-md-4 my-3 product-wrapper d-flex text-center onsale wow fadeInUp\">\n",
            "                        <div class=\"p-2 rounded text-dark bg-white d-flex w-100\">\n",
            "                            <a href=\"https://mobelix.com.mk/mk/proizvodi/apple-iphone-13-mini-256gb\" class=\"d-flex w-100\">\n",
            "                                <div class=\"border border-0 bg-white rounded px-3 pb-3 pt-1 row mx-0 align-items-center\">\n",
            "                                    <div class=\"col-12 product-img-wrapper pt-3\">\n",
            "                                        <img src=\"https://mobelix.com.mk/storage/app/uploads/public/63d/100/fa0/thumb_4365_550_800_0_0_crop.jpg\" class=\"img-fluid mb-2 mb-xl-3\" alt=\"Apple iPhone 13 Mini 256GB\">\n",
            "                                    </div>\n",
            "                                    <div class=\"col-12\">\n",
            "                                        <h5 class=\"mb-0\">Apple</h5>\n",
            "                                        <h3 class=\"h5 font-weight-normal\">iPhone 13 Mini 256GB</h3>\n",
            "                                                                                <p class=\"h5 price\"><del class=\"mr-2 small\">47,990.00</del><br>46,800.00 ден</p>\n",
            "                                                                                <button class=\"btn btn-outline-primary\">Повеќе</button>\n",
            "                                    </div>\n",
            "                                </div>\n",
            "                                                                <span class=\"badge badge-primary\">-2%</span>\n",
            "                                                                                            </a>\n",
            "                        </div>\n",
            "                    </div>\n",
            "                                    </div>\n",
            "                                <hr>\n",
            "                                <nav>\n",
            "        <ul class=\"pagination\">\n",
            "            \n",
            "                            <li class=\"page-item disabled\" aria-disabled=\"true\" aria-label=\"pagination.previous\">\n",
            "                    <span class=\"page-link\" aria-hidden=\"true\">&lsaquo;</span>\n",
            "                </li>\n",
            "            \n",
            "            \n",
            "                            \n",
            "                \n",
            "                \n",
            "                                                                                        <li class=\"page-item active\" aria-current=\"page\"><span class=\"page-link\">1</span></li>\n",
            "                                                                                                <li class=\"page-item\"><a class=\"page-link\" href=\"https://mobelix.com.mk/mk/mobilni-telefoni?page=2\">2</a></li>\n",
            "                                                                                                <li class=\"page-item\"><a class=\"page-link\" href=\"https://mobelix.com.mk/mk/mobilni-telefoni?page=3\">3</a></li>\n",
            "                                                                                                <li class=\"page-item\"><a class=\"page-link\" href=\"https://mobelix.com.mk/mk/mobilni-telefoni?page=4\">4</a></li>\n",
            "                                                                                                <li class=\"page-item\"><a class=\"page-link\" href=\"https://mobelix.com.mk/mk/mobilni-telefoni?page=5\">5</a></li>\n",
            "                                                                                                <li class=\"page-item\"><a class=\"page-link\" href=\"https://mobelix.com.mk/mk/mobilni-telefoni?page=6\">6</a></li>\n",
            "                                                                                                <li class=\"page-item\"><a class=\"page-link\" href=\"https://mobelix.com.mk/mk/mobilni-telefoni?page=7\">7</a></li>\n",
            "                                                                                                <li class=\"page-item\"><a class=\"page-link\" href=\"https://mobelix.com.mk/mk/mobilni-telefoni?page=8\">8</a></li>\n",
            "                                                                                        \n",
            "                                    <li class=\"page-item disabled\" aria-disabled=\"true\"><span class=\"page-link\">...</span></li>\n",
            "                \n",
            "                \n",
            "                                            \n",
            "                \n",
            "                \n",
            "                                                                                        <li class=\"page-item\"><a class=\"page-link\" href=\"https://mobelix.com.mk/mk/mobilni-telefoni?page=20\">20</a></li>\n",
            "                                                                                                <li class=\"page-item\"><a class=\"page-link\" href=\"https://mobelix.com.mk/mk/mobilni-telefoni?page=21\">21</a></li>\n",
            "                                                                        \n",
            "            \n",
            "                            <li class=\"page-item\">\n",
            "                    <a class=\"page-link\" href=\"https://mobelix.com.mk/mk/mobilni-telefoni?page=2\" rel=\"next\" aria-label=\"pagination.next\">&rsaquo;</a>\n",
            "                </li>\n",
            "                    </ul>\n",
            "    </nav>\n",
            "\n",
            "                                            </div>\n",
            "        </div>\n",
            "    </div>\n",
            "</section>\n",
            "    <footer class=\"text-white\">\n",
            "\t<div class=\"footer-bg-img py-4 py-xl-5\" style=\"background-image: url('https://mobelix.com.mk/storage/app/media/about-us/about-bg.jpg')\">\n",
            "\t\t<div class=\"container\">\n",
            "\t\t\t<div class=\"img-wrapper position-relative text-center mb-md-4 pb-3\">\n",
            "\t\t\t\t<img src=\"https://mobelix.com.mk/themes/mobelix/assets/img/logo-white.svg\" class=\"footer-logo img-fluid\">\n",
            "\t\t\t\t<p class=\"text-center mb-0 mt-2\">Прва Премиум Мобилара</p>\n",
            "\t\t\t</div>\n",
            "\t\t\t<div class=\"row border-gold bg-dark-opacity py-3 py-md-5\">\n",
            "\t\t\t\t<div class=\"info-col col-md-4 py-2 py-lg-3 text-center footer-info\">\n",
            "\t\t\t\t\t<h5 class=\"h5 mb-2\">E-Mail</h5>\n",
            "\t\t\t\t\t<a class=\"white-link\" href=\"mailto:info@mobelix.com.mk\">info@mobelix.com.mk</a>\n",
            "\t\t\t\t</div>\n",
            "\t\t\t\t<div class=\"info-col col-md-4 py-2 py-lg-3 text-center footer-info\">\n",
            "\t\t\t\t\t<h5 class=\"h5 mb-2\">Телефон</h5>\n",
            "\t\t\t\t\t<a class=\"white-link\" href=\"tel:+389 70 676 777\">070 676 777</a>\n",
            "\t\t\t\t</div>\n",
            "\t\t\t\t<div class=\"info-col col-md-4 py-2 py-lg-3 text-center footer-info\">\n",
            "\t\t\t\t\t<h5 class=\"h5 mb-2\">Социјални Медиуми</h5>\n",
            "\t\t\t\t\t<p class=\"white-link mb-0\">Следете не - <a class=\"white-link\" href=\"https://www.facebook.com/mobelixpremiummobilara/\" target=\"_blank\"><i class=\"fa fa-facebook\" aria-hidden=\"true\"></i></a> <a class=\"white-link\" href=\"https://www.instagram.com/mobelix_premium_mobilara/?hl=en\" target=\"_blank\"><i class=\"fa fa-instagram\" aria-hidden=\"true\"></i></a></p>\n",
            "\t\t\t\t</div>\n",
            "\t\t\t</div>\n",
            "\t\t\t<div class=\"text-center position-relative mt-4\">\n",
            "\t\t\t\t<p class=\"h6 text-white font-weight-normal\">Ул. БОРИС ТРАЈКОВСКИ бр.1 локал 16 Скопје, Р. Македонија</p>\n",
            "\t\t\t</div>\n",
            "\t\t</div>\n",
            "\t</div>\n",
            "\t\t<iframe class=\"footer-map map-mobelix\" src=\"https://www.google.com/maps/embed?pb=!1m14!1m8!1m3!1d5931.395430663015!2d21.435329884896095!3d41.98529948892254!3m2!1i1024!2i768!4f13.1!3m3!1m2!1s0x0%3A0x0!2zNDHCsDU5JzA2LjYiTiAyMcKwMjYnMTcuOCJF!5e0!3m2!1sen!2smk!4v1544524662477\" width=\"100%\" frameborder=\"0\" style=\"border:0\" allowfullscreen></iframe>\t    <div class=\"bottom-bar-wrapper bg-dark\">\n",
            "        <div class=\"container bottom-bar px-0\">\n",
            "    \t\t<div class=\"d-md-flex justify-content-between small py-3\">\n",
            "    \t\t\t<div class=\"mb-3 mb-md-0 text-center text-md-left\">\n",
            "    \t\t\t    <ul class=\"list-unstyled list-inline mb-0 mobile-block\">\n",
            "        \t\t\t\t<li class=\"list-inline-item pb-1 pb-sm-0\">\n",
            "        \t\t\t\t\t<a class=\"text-white\" href=\"https://mobelix.com.mk/mk/cookies\">Колачиња</a>\n",
            "        \t\t\t\t</li>\n",
            "        \t\t\t\t<li class=\"list-inline-item pb-1 pb-sm-0\">\n",
            "        \t\t\t\t\t<a class=\"text-white\" href=\"https://mobelix.com.mk/mk/politika-na-privatnost\">Политика за приватност</a>\n",
            "        \t\t\t\t</li>\n",
            "        \t\t\t\t<li class=\"list-inline-item pb-1 pb-sm-0\">\n",
            "        \t\t\t\t\t<a class=\"text-white\" href=\"https://mobelix.com.mk/mk/uslovi-na-koristenje\">Услови на користење</a>\n",
            "        \t\t\t\t</li>\n",
            "        \t\t\t</ul>\n",
            "    \t\t\t</div>\n",
            "    \t\t\t<div>\n",
            "        \t\t\t<p class=\"mb-0 text-white text-center text-md-right\">Web Design - <a class=\"text-white font-weight-bold\" href=\"https://kara5.com\" target=\"_blank\">Kara5</a></p>\n",
            "    \t\t\t</div>\n",
            "    \t\t</div>\n",
            "    \t</div>\n",
            "    </div>\n",
            "</footer>\n",
            "<!-- Load Facebook SDK for JavaScript -->\n",
            "<div id=\"fb-root\"></div>\n",
            "<script>\n",
            "window.fbAsyncInit = function() {\n",
            "  FB.init({\n",
            "    xfbml            : true,\n",
            "    version          : 'v3.2'\n",
            "  });\n",
            "};\n",
            "\n",
            "(function(d, s, id) {\n",
            "  var js, fjs = d.getElementsByTagName(s)[0];\n",
            "  if (d.getElementById(id)) return;\n",
            "  js = d.createElement(s); js.id = id;\n",
            "  js.src = 'https://connect.facebook.net/en_US/sdk/xfbml.customerchat.js';\n",
            "  fjs.parentNode.insertBefore(js, fjs);\n",
            "}(document, 'script', 'facebook-jssdk'));</script>\n",
            "\n",
            "<!-- Your customer chat code -->\n",
            "<div class=\"fb-customerchat\"\n",
            "  attribution=install_email\n",
            "  page_id=\"719397841765443\"\n",
            "  theme_color=\"#212121\" logged_in_greeting=\"Повелете, како можеме да ви помогнеме?\"\n",
            " logged_out_greeting=\"Повелете, како можеме да ви помогнеме?\">\n",
            "</div>\n",
            "    <!-- Optional JavaScript -->\n",
            "    <!-- jQuery first, then Popper.js, then Bootstrap JS -->\n",
            "    <script src=\"https://code.jquery.com/jquery-3.3.1.min.js\"></script>\n",
            "    <script src=\"https://cdnjs.cloudflare.com/ajax/libs/popper.js/1.14.3/umd/popper.min.js\" integrity=\"sha384-ZMP7rVo3mIykV+2+9J3UJ46jBk0WLaUAdn689aCwoqbBJiSnjAK/l8WvCWPIPm49\" crossorigin=\"anonymous\"></script>\n",
            "    <script src=\"https://stackpath.bootstrapcdn.com/bootstrap/4.1.3/js/bootstrap.min.js\" integrity=\"sha384-ChfqqxuZUCnJSK3+MXmPNIyE6ZbWh2IMqE241rYiqJxyMiZ6OW/JmZQ5stwEULTy\" crossorigin=\"anonymous\"></script>\n",
            "        <script type=\"text/javascript\" src=\"https://mobelix.com.mk/themes/mobelix/assets/vendor/slick/slick.min.js\"></script>\n",
            "    <script src=\"https://mobelix.com.mk/themes/mobelix/assets/js/wow.min.js\"></script>\n",
            "    <script src=\"https://mobelix.com.mk/themes/mobelix/assets/js/jquery.paroller.min.js\"></script>\n",
            "    <script>\n",
            "        wow = new WOW(\n",
            "          {\n",
            "            boxClass: 'wow',\n",
            "            mobile: false,\n",
            "              }    \n",
            "        )\n",
            "        wow.init();\n",
            "        $(document).ready(function(){\n",
            "            $('header .input-search .input-group .form-control').click(function(){\n",
            "                $('header .input-search .input-group').addClass('active');\n",
            "            });\n",
            "        });\n",
            "    </script>\n",
            "    <script>\n",
            "        $(document).ready(function($) {  \n",
            "        \t$('#preloader').fadeOut('slow',function(){$(this).remove();});\n",
            "        });\n",
            "        </script>\n",
            "    <script src=\"/modules/system/assets/js/framework.js\"></script>\n",
            "<script src=\"/modules/system/assets/js/framework.extras.js\"></script>\n",
            "<link rel=\"stylesheet\" property=\"stylesheet\" href=\"/modules/system/assets/css/framework.extras.css\">\n",
            "    <script>\n",
            "\n",
            "    $(function(){\n",
            "\n",
            "      // bind change event to select\n",
            "\n",
            "      $('#brandSelect, #categorySelect').on('change', function () {\n",
            "\n",
            "          var url = $(this).val(); // get selected value\n",
            "\n",
            "          if (url) { // require a URL\n",
            "\n",
            "              window.location = url; // redirect\n",
            "\n",
            "          }\n",
            "\n",
            "          return false;\n",
            "\n",
            "      });\n",
            "\n",
            "      $('#orderForm').on('change','input, select', function() {\n",
            "\n",
            "        $('#orderForm').submit();\n",
            "\n",
            "      });\n",
            "\n",
            "    });\n",
            "\n",
            "</script>  </body>\n",
            "</html>\n"
          ]
        }
      ]
    },
    {
      "cell_type": "code",
      "source": [
        "soup = BeautifulSoup(raw_html, 'html.parser')\n",
        "soup.select_one('title')"
      ],
      "metadata": {
        "colab": {
          "base_uri": "https://localhost:8080/"
        },
        "id": "5HCAfjQCHCba",
        "outputId": "d75d2e9c-9eb6-47d0-804e-05a5d49a6832"
      },
      "execution_count": null,
      "outputs": [
        {
          "output_type": "execute_result",
          "data": {
            "text/plain": [
              "<title>Мобилни телефони | Mobelix Premium Mobilara</title>"
            ]
          },
          "metadata": {},
          "execution_count": 16
        }
      ]
    },
    {
      "cell_type": "code",
      "source": [
        "phone_brands = soup.select('h5.mb-0')\n",
        "phone_brands"
      ],
      "metadata": {
        "colab": {
          "base_uri": "https://localhost:8080/"
        },
        "id": "iL-DmNTBHvGf",
        "outputId": "057ec77d-8f90-4498-da81-a1c22bea793b"
      },
      "execution_count": null,
      "outputs": [
        {
          "output_type": "execute_result",
          "data": {
            "text/plain": [
              "[<h5 class=\"mb-0\">Blackberry</h5>,\n",
              " <h5 class=\"mb-0\">Samsung</h5>,\n",
              " <h5 class=\"mb-0\">Samsung</h5>,\n",
              " <h5 class=\"mb-0\">Apple</h5>,\n",
              " <h5 class=\"mb-0\">Apple</h5>,\n",
              " <h5 class=\"mb-0\">Apple</h5>,\n",
              " <h5 class=\"mb-0\">Apple</h5>,\n",
              " <h5 class=\"mb-0\">Apple</h5>,\n",
              " <h5 class=\"mb-0\">Apple</h5>]"
            ]
          },
          "metadata": {},
          "execution_count": 17
        }
      ]
    },
    {
      "cell_type": "code",
      "source": [
        "type(phone_brands)"
      ],
      "metadata": {
        "colab": {
          "base_uri": "https://localhost:8080/"
        },
        "id": "kwlxrFRiIwNm",
        "outputId": "07ef2c57-ce82-47ed-baea-9cfce19dc1f3"
      },
      "execution_count": null,
      "outputs": [
        {
          "output_type": "execute_result",
          "data": {
            "text/plain": [
              "bs4.element.ResultSet"
            ]
          },
          "metadata": {},
          "execution_count": 18
        }
      ]
    },
    {
      "cell_type": "code",
      "source": [
        "brands = []\n",
        "for tel in phone_brands:\n",
        "  brands.append(tel.text)\n",
        "  brands"
      ],
      "metadata": {
        "id": "e41Fzy2GOytL"
      },
      "execution_count": null,
      "outputs": []
    },
    {
      "cell_type": "code",
      "source": [
        "brands"
      ],
      "metadata": {
        "colab": {
          "base_uri": "https://localhost:8080/"
        },
        "id": "3gW51xpKPD4y",
        "outputId": "87cdcb81-66d0-4703-d820-e4b442ead4a8"
      },
      "execution_count": null,
      "outputs": [
        {
          "output_type": "execute_result",
          "data": {
            "text/plain": [
              "['Blackberry',\n",
              " 'Samsung',\n",
              " 'Samsung',\n",
              " 'Apple',\n",
              " 'Apple',\n",
              " 'Apple',\n",
              " 'Apple',\n",
              " 'Apple',\n",
              " 'Apple']"
            ]
          },
          "metadata": {},
          "execution_count": 20
        }
      ]
    },
    {
      "cell_type": "code",
      "source": [
        "phone_type = soup.select('h3.font-weight-normal')\n",
        "phone_type"
      ],
      "metadata": {
        "colab": {
          "base_uri": "https://localhost:8080/"
        },
        "id": "ZYE8xMl7PLkT",
        "outputId": "83bb5900-3263-48bf-b4f4-cdcef8a3054b"
      },
      "execution_count": null,
      "outputs": [
        {
          "output_type": "execute_result",
          "data": {
            "text/plain": [
              "[<h3 class=\"h5 font-weight-normal\">Porsche Design P9981</h3>,\n",
              " <h3 class=\"h5 font-weight-normal\">Galaxy A03s 4/64GB</h3>,\n",
              " <h3 class=\"h5 font-weight-normal\">Galaxy A04s 3/32GB</h3>,\n",
              " <h3 class=\"h5 font-weight-normal\">iPhone 14 Pro Max 128GB E-SIM</h3>,\n",
              " <h3 class=\"h5 font-weight-normal\">iPhone 14 Pro 512GB</h3>,\n",
              " <h3 class=\"h5 font-weight-normal\">iPhone 14 Pro Max 512GB</h3>,\n",
              " <h3 class=\"h5 font-weight-normal\">iPhone 14 Pro Max 1TB</h3>,\n",
              " <h3 class=\"h5 font-weight-normal\">iPhone 14 Pro 128GB E-SIM</h3>,\n",
              " <h3 class=\"h5 font-weight-normal\">iPhone 13 Mini 256GB</h3>]"
            ]
          },
          "metadata": {},
          "execution_count": 22
        }
      ]
    },
    {
      "cell_type": "code",
      "source": [
        "type = []\n",
        "for tel in phone_type:\n",
        "  type.append(tel.text)\n"
      ],
      "metadata": {
        "id": "s9S1oOnGPqRg"
      },
      "execution_count": null,
      "outputs": []
    },
    {
      "cell_type": "code",
      "source": [
        "type"
      ],
      "metadata": {
        "colab": {
          "base_uri": "https://localhost:8080/"
        },
        "id": "Rc5bVZlHPyd1",
        "outputId": "a2b36f19-e672-4bc5-d95f-71e6d0482b07"
      },
      "execution_count": null,
      "outputs": [
        {
          "output_type": "execute_result",
          "data": {
            "text/plain": [
              "['Porsche Design P9981',\n",
              " 'Galaxy A03s 4/64GB',\n",
              " 'Galaxy A04s 3/32GB',\n",
              " 'iPhone 14 Pro Max 128GB E-SIM',\n",
              " 'iPhone 14 Pro 512GB',\n",
              " 'iPhone 14 Pro Max 512GB',\n",
              " 'iPhone 14 Pro Max 1TB',\n",
              " 'iPhone 14 Pro 128GB E-SIM',\n",
              " 'iPhone 13 Mini 256GB']"
            ]
          },
          "metadata": {},
          "execution_count": 24
        }
      ]
    },
    {
      "cell_type": "code",
      "source": [
        "phone_price = soup.select('p.price')\n",
        "phone_price"
      ],
      "metadata": {
        "colab": {
          "base_uri": "https://localhost:8080/"
        },
        "id": "n3adpRZgP0nt",
        "outputId": "560bb0b0-412c-4c58-ba2f-b298a0dcba0f"
      },
      "execution_count": null,
      "outputs": [
        {
          "output_type": "execute_result",
          "data": {
            "text/plain": [
              "[<p class=\"h5 price\">19,000.00 ден</p>,\n",
              " <p class=\"h5 price\"><del class=\"mr-2 small\">9,200.00</del><br/>8,300.00 ден</p>,\n",
              " <p class=\"h5 price\"><del class=\"mr-2 small\">10,500.00</del><br/>8,300.00 ден</p>,\n",
              " <p class=\"h5 price\"><del class=\"mr-2 small\">67,600.00</del><br/>61,500.00 ден</p>,\n",
              " <p class=\"h5 price\"><del class=\"mr-2 small\">94,100.00</del><br/>89,200.00 ден</p>,\n",
              " <p class=\"h5 price\"><del class=\"mr-2 small\">80,000.00</del><br/>78,100.00 ден</p>,\n",
              " <p class=\"h5 price\"><del class=\"mr-2 small\">116,900.00</del><br/>98,400.00 ден</p>,\n",
              " <p class=\"h5 price\"><del class=\"mr-2 small\">58,500.00</del><br/>55,300.00 ден</p>,\n",
              " <p class=\"h5 price\"><del class=\"mr-2 small\">47,990.00</del><br/>46,800.00 ден</p>]"
            ]
          },
          "metadata": {},
          "execution_count": 25
        }
      ]
    },
    {
      "cell_type": "code",
      "source": [
        "prices = []\n",
        "\n",
        "for tel in phone_price:\n",
        "  if (len(tel.contents) == 1):\n",
        "     prices.append(tel.contents[0])\n",
        "  else:\n",
        "    prices.append(tel.contents[2])\n"
      ],
      "metadata": {
        "id": "oJc9YZ-HCiwt"
      },
      "execution_count": null,
      "outputs": []
    },
    {
      "cell_type": "code",
      "source": [
        "prices"
      ],
      "metadata": {
        "colab": {
          "base_uri": "https://localhost:8080/"
        },
        "id": "xDvMTOYmC9aY",
        "outputId": "e8662d07-d4f6-47a2-eede-debc164df93b"
      },
      "execution_count": null,
      "outputs": [
        {
          "output_type": "execute_result",
          "data": {
            "text/plain": [
              "['19,000.00 ден',\n",
              " '8,300.00 ден',\n",
              " '8,300.00 ден',\n",
              " '61,500.00 ден',\n",
              " '89,200.00 ден',\n",
              " '78,100.00 ден',\n",
              " '98,400.00 ден',\n",
              " '55,300.00 ден',\n",
              " '46,800.00 ден']"
            ]
          },
          "metadata": {},
          "execution_count": 27
        }
      ]
    },
    {
      "cell_type": "code",
      "source": [
        "intCena = []\n",
        "\n",
        "for cena in prices:\n",
        "    cena = cena.split(' ')[0]\n",
        "    cena = cena.replace(',', '')\n",
        "    intCena.append(cena)\n",
        "new_Prices = []\n",
        "for cena in intCena:\n",
        "    cena = cena.split('.')[0]\n",
        "\n",
        "    new_Prices.append(cena)\n",
        "\n",
        "new_Prices"
      ],
      "metadata": {
        "colab": {
          "base_uri": "https://localhost:8080/"
        },
        "id": "bEPTLIXfDGms",
        "outputId": "bdaa989d-bc35-4c66-fa3d-c513382fe8a3"
      },
      "execution_count": null,
      "outputs": [
        {
          "output_type": "execute_result",
          "data": {
            "text/plain": [
              "['19000', '8300', '8300', '61500', '89200', '78100', '98400', '55300', '46800']"
            ]
          },
          "metadata": {},
          "execution_count": 31
        }
      ]
    },
    {
      "cell_type": "code",
      "source": [
        "matrix=[]\n",
        "\n",
        "for i in range(0, len(brands)):\n",
        "  matrix.append([brands[i],type[i],new_Prices[i]])"
      ],
      "metadata": {
        "id": "hleLn1KGEEXO"
      },
      "execution_count": null,
      "outputs": []
    },
    {
      "cell_type": "code",
      "source": [
        "df = pd.DataFrame(np.array(matrix),columns=['BRANDS', 'TYPE', 'PRICES'])\n",
        "df"
      ],
      "metadata": {
        "colab": {
          "base_uri": "https://localhost:8080/",
          "height": 332
        },
        "id": "Hma26bUREcfi",
        "outputId": "a2436442-e332-44f8-bbaf-ec3caf115f80"
      },
      "execution_count": null,
      "outputs": [
        {
          "output_type": "execute_result",
          "data": {
            "text/plain": [
              "       BRANDS                           TYPE PRICES\n",
              "0  Blackberry           Porsche Design P9981  19000\n",
              "1     Samsung             Galaxy A03s 4/64GB   8300\n",
              "2     Samsung             Galaxy A04s 3/32GB   8300\n",
              "3       Apple  iPhone 14 Pro Max 128GB E-SIM  61500\n",
              "4       Apple            iPhone 14 Pro 512GB  89200\n",
              "5       Apple        iPhone 14 Pro Max 512GB  78100\n",
              "6       Apple          iPhone 14 Pro Max 1TB  98400\n",
              "7       Apple      iPhone 14 Pro 128GB E-SIM  55300\n",
              "8       Apple           iPhone 13 Mini 256GB  46800"
            ],
            "text/html": [
              "\n",
              "  <div id=\"df-09a6ce6f-37c1-4a56-9838-6116f7c9e659\" class=\"colab-df-container\">\n",
              "    <div>\n",
              "<style scoped>\n",
              "    .dataframe tbody tr th:only-of-type {\n",
              "        vertical-align: middle;\n",
              "    }\n",
              "\n",
              "    .dataframe tbody tr th {\n",
              "        vertical-align: top;\n",
              "    }\n",
              "\n",
              "    .dataframe thead th {\n",
              "        text-align: right;\n",
              "    }\n",
              "</style>\n",
              "<table border=\"1\" class=\"dataframe\">\n",
              "  <thead>\n",
              "    <tr style=\"text-align: right;\">\n",
              "      <th></th>\n",
              "      <th>BRANDS</th>\n",
              "      <th>TYPE</th>\n",
              "      <th>PRICES</th>\n",
              "    </tr>\n",
              "  </thead>\n",
              "  <tbody>\n",
              "    <tr>\n",
              "      <th>0</th>\n",
              "      <td>Blackberry</td>\n",
              "      <td>Porsche Design P9981</td>\n",
              "      <td>19000</td>\n",
              "    </tr>\n",
              "    <tr>\n",
              "      <th>1</th>\n",
              "      <td>Samsung</td>\n",
              "      <td>Galaxy A03s 4/64GB</td>\n",
              "      <td>8300</td>\n",
              "    </tr>\n",
              "    <tr>\n",
              "      <th>2</th>\n",
              "      <td>Samsung</td>\n",
              "      <td>Galaxy A04s 3/32GB</td>\n",
              "      <td>8300</td>\n",
              "    </tr>\n",
              "    <tr>\n",
              "      <th>3</th>\n",
              "      <td>Apple</td>\n",
              "      <td>iPhone 14 Pro Max 128GB E-SIM</td>\n",
              "      <td>61500</td>\n",
              "    </tr>\n",
              "    <tr>\n",
              "      <th>4</th>\n",
              "      <td>Apple</td>\n",
              "      <td>iPhone 14 Pro 512GB</td>\n",
              "      <td>89200</td>\n",
              "    </tr>\n",
              "    <tr>\n",
              "      <th>5</th>\n",
              "      <td>Apple</td>\n",
              "      <td>iPhone 14 Pro Max 512GB</td>\n",
              "      <td>78100</td>\n",
              "    </tr>\n",
              "    <tr>\n",
              "      <th>6</th>\n",
              "      <td>Apple</td>\n",
              "      <td>iPhone 14 Pro Max 1TB</td>\n",
              "      <td>98400</td>\n",
              "    </tr>\n",
              "    <tr>\n",
              "      <th>7</th>\n",
              "      <td>Apple</td>\n",
              "      <td>iPhone 14 Pro 128GB E-SIM</td>\n",
              "      <td>55300</td>\n",
              "    </tr>\n",
              "    <tr>\n",
              "      <th>8</th>\n",
              "      <td>Apple</td>\n",
              "      <td>iPhone 13 Mini 256GB</td>\n",
              "      <td>46800</td>\n",
              "    </tr>\n",
              "  </tbody>\n",
              "</table>\n",
              "</div>\n",
              "    <div class=\"colab-df-buttons\">\n",
              "\n",
              "  <div class=\"colab-df-container\">\n",
              "    <button class=\"colab-df-convert\" onclick=\"convertToInteractive('df-09a6ce6f-37c1-4a56-9838-6116f7c9e659')\"\n",
              "            title=\"Convert this dataframe to an interactive table.\"\n",
              "            style=\"display:none;\">\n",
              "\n",
              "  <svg xmlns=\"http://www.w3.org/2000/svg\" height=\"24px\" viewBox=\"0 -960 960 960\">\n",
              "    <path d=\"M120-120v-720h720v720H120Zm60-500h600v-160H180v160Zm220 220h160v-160H400v160Zm0 220h160v-160H400v160ZM180-400h160v-160H180v160Zm440 0h160v-160H620v160ZM180-180h160v-160H180v160Zm440 0h160v-160H620v160Z\"/>\n",
              "  </svg>\n",
              "    </button>\n",
              "\n",
              "  <style>\n",
              "    .colab-df-container {\n",
              "      display:flex;\n",
              "      gap: 12px;\n",
              "    }\n",
              "\n",
              "    .colab-df-convert {\n",
              "      background-color: #E8F0FE;\n",
              "      border: none;\n",
              "      border-radius: 50%;\n",
              "      cursor: pointer;\n",
              "      display: none;\n",
              "      fill: #1967D2;\n",
              "      height: 32px;\n",
              "      padding: 0 0 0 0;\n",
              "      width: 32px;\n",
              "    }\n",
              "\n",
              "    .colab-df-convert:hover {\n",
              "      background-color: #E2EBFA;\n",
              "      box-shadow: 0px 1px 2px rgba(60, 64, 67, 0.3), 0px 1px 3px 1px rgba(60, 64, 67, 0.15);\n",
              "      fill: #174EA6;\n",
              "    }\n",
              "\n",
              "    .colab-df-buttons div {\n",
              "      margin-bottom: 4px;\n",
              "    }\n",
              "\n",
              "    [theme=dark] .colab-df-convert {\n",
              "      background-color: #3B4455;\n",
              "      fill: #D2E3FC;\n",
              "    }\n",
              "\n",
              "    [theme=dark] .colab-df-convert:hover {\n",
              "      background-color: #434B5C;\n",
              "      box-shadow: 0px 1px 3px 1px rgba(0, 0, 0, 0.15);\n",
              "      filter: drop-shadow(0px 1px 2px rgba(0, 0, 0, 0.3));\n",
              "      fill: #FFFFFF;\n",
              "    }\n",
              "  </style>\n",
              "\n",
              "    <script>\n",
              "      const buttonEl =\n",
              "        document.querySelector('#df-09a6ce6f-37c1-4a56-9838-6116f7c9e659 button.colab-df-convert');\n",
              "      buttonEl.style.display =\n",
              "        google.colab.kernel.accessAllowed ? 'block' : 'none';\n",
              "\n",
              "      async function convertToInteractive(key) {\n",
              "        const element = document.querySelector('#df-09a6ce6f-37c1-4a56-9838-6116f7c9e659');\n",
              "        const dataTable =\n",
              "          await google.colab.kernel.invokeFunction('convertToInteractive',\n",
              "                                                    [key], {});\n",
              "        if (!dataTable) return;\n",
              "\n",
              "        const docLinkHtml = 'Like what you see? Visit the ' +\n",
              "          '<a target=\"_blank\" href=https://colab.research.google.com/notebooks/data_table.ipynb>data table notebook</a>'\n",
              "          + ' to learn more about interactive tables.';\n",
              "        element.innerHTML = '';\n",
              "        dataTable['output_type'] = 'display_data';\n",
              "        await google.colab.output.renderOutput(dataTable, element);\n",
              "        const docLink = document.createElement('div');\n",
              "        docLink.innerHTML = docLinkHtml;\n",
              "        element.appendChild(docLink);\n",
              "      }\n",
              "    </script>\n",
              "  </div>\n",
              "\n",
              "\n",
              "<div id=\"df-41234f3e-7a15-4eb1-9c85-ea3f01fe8721\">\n",
              "  <button class=\"colab-df-quickchart\" onclick=\"quickchart('df-41234f3e-7a15-4eb1-9c85-ea3f01fe8721')\"\n",
              "            title=\"Suggest charts.\"\n",
              "            style=\"display:none;\">\n",
              "\n",
              "<svg xmlns=\"http://www.w3.org/2000/svg\" height=\"24px\"viewBox=\"0 0 24 24\"\n",
              "     width=\"24px\">\n",
              "    <g>\n",
              "        <path d=\"M19 3H5c-1.1 0-2 .9-2 2v14c0 1.1.9 2 2 2h14c1.1 0 2-.9 2-2V5c0-1.1-.9-2-2-2zM9 17H7v-7h2v7zm4 0h-2V7h2v10zm4 0h-2v-4h2v4z\"/>\n",
              "    </g>\n",
              "</svg>\n",
              "  </button>\n",
              "\n",
              "<style>\n",
              "  .colab-df-quickchart {\n",
              "      --bg-color: #E8F0FE;\n",
              "      --fill-color: #1967D2;\n",
              "      --hover-bg-color: #E2EBFA;\n",
              "      --hover-fill-color: #174EA6;\n",
              "      --disabled-fill-color: #AAA;\n",
              "      --disabled-bg-color: #DDD;\n",
              "  }\n",
              "\n",
              "  [theme=dark] .colab-df-quickchart {\n",
              "      --bg-color: #3B4455;\n",
              "      --fill-color: #D2E3FC;\n",
              "      --hover-bg-color: #434B5C;\n",
              "      --hover-fill-color: #FFFFFF;\n",
              "      --disabled-bg-color: #3B4455;\n",
              "      --disabled-fill-color: #666;\n",
              "  }\n",
              "\n",
              "  .colab-df-quickchart {\n",
              "    background-color: var(--bg-color);\n",
              "    border: none;\n",
              "    border-radius: 50%;\n",
              "    cursor: pointer;\n",
              "    display: none;\n",
              "    fill: var(--fill-color);\n",
              "    height: 32px;\n",
              "    padding: 0;\n",
              "    width: 32px;\n",
              "  }\n",
              "\n",
              "  .colab-df-quickchart:hover {\n",
              "    background-color: var(--hover-bg-color);\n",
              "    box-shadow: 0 1px 2px rgba(60, 64, 67, 0.3), 0 1px 3px 1px rgba(60, 64, 67, 0.15);\n",
              "    fill: var(--button-hover-fill-color);\n",
              "  }\n",
              "\n",
              "  .colab-df-quickchart-complete:disabled,\n",
              "  .colab-df-quickchart-complete:disabled:hover {\n",
              "    background-color: var(--disabled-bg-color);\n",
              "    fill: var(--disabled-fill-color);\n",
              "    box-shadow: none;\n",
              "  }\n",
              "\n",
              "  .colab-df-spinner {\n",
              "    border: 2px solid var(--fill-color);\n",
              "    border-color: transparent;\n",
              "    border-bottom-color: var(--fill-color);\n",
              "    animation:\n",
              "      spin 1s steps(1) infinite;\n",
              "  }\n",
              "\n",
              "  @keyframes spin {\n",
              "    0% {\n",
              "      border-color: transparent;\n",
              "      border-bottom-color: var(--fill-color);\n",
              "      border-left-color: var(--fill-color);\n",
              "    }\n",
              "    20% {\n",
              "      border-color: transparent;\n",
              "      border-left-color: var(--fill-color);\n",
              "      border-top-color: var(--fill-color);\n",
              "    }\n",
              "    30% {\n",
              "      border-color: transparent;\n",
              "      border-left-color: var(--fill-color);\n",
              "      border-top-color: var(--fill-color);\n",
              "      border-right-color: var(--fill-color);\n",
              "    }\n",
              "    40% {\n",
              "      border-color: transparent;\n",
              "      border-right-color: var(--fill-color);\n",
              "      border-top-color: var(--fill-color);\n",
              "    }\n",
              "    60% {\n",
              "      border-color: transparent;\n",
              "      border-right-color: var(--fill-color);\n",
              "    }\n",
              "    80% {\n",
              "      border-color: transparent;\n",
              "      border-right-color: var(--fill-color);\n",
              "      border-bottom-color: var(--fill-color);\n",
              "    }\n",
              "    90% {\n",
              "      border-color: transparent;\n",
              "      border-bottom-color: var(--fill-color);\n",
              "    }\n",
              "  }\n",
              "</style>\n",
              "\n",
              "  <script>\n",
              "    async function quickchart(key) {\n",
              "      const quickchartButtonEl =\n",
              "        document.querySelector('#' + key + ' button');\n",
              "      quickchartButtonEl.disabled = true;  // To prevent multiple clicks.\n",
              "      quickchartButtonEl.classList.add('colab-df-spinner');\n",
              "      try {\n",
              "        const charts = await google.colab.kernel.invokeFunction(\n",
              "            'suggestCharts', [key], {});\n",
              "      } catch (error) {\n",
              "        console.error('Error during call to suggestCharts:', error);\n",
              "      }\n",
              "      quickchartButtonEl.classList.remove('colab-df-spinner');\n",
              "      quickchartButtonEl.classList.add('colab-df-quickchart-complete');\n",
              "    }\n",
              "    (() => {\n",
              "      let quickchartButtonEl =\n",
              "        document.querySelector('#df-41234f3e-7a15-4eb1-9c85-ea3f01fe8721 button');\n",
              "      quickchartButtonEl.style.display =\n",
              "        google.colab.kernel.accessAllowed ? 'block' : 'none';\n",
              "    })();\n",
              "  </script>\n",
              "</div>\n",
              "    </div>\n",
              "  </div>\n"
            ]
          },
          "metadata": {},
          "execution_count": 34
        }
      ]
    },
    {
      "cell_type": "code",
      "source": [
        "len(brands) == len(type) == len(new_Prices)"
      ],
      "metadata": {
        "colab": {
          "base_uri": "https://localhost:8080/"
        },
        "id": "F1bfvI0YEt-Z",
        "outputId": "639ba7d4-ffe8-4337-c082-cc5299ac4894"
      },
      "execution_count": null,
      "outputs": [
        {
          "output_type": "execute_result",
          "data": {
            "text/plain": [
              "True"
            ]
          },
          "metadata": {},
          "execution_count": 35
        }
      ]
    },
    {
      "cell_type": "code",
      "source": [
        "df.to_csv('/content/drive/MyDrive/Lab1.ipyn', index=False )"
      ],
      "metadata": {
        "id": "gI3TzOViE2jT"
      },
      "execution_count": null,
      "outputs": []
    },
    {
      "cell_type": "code",
      "source": [
        "df = pd.read_csv('/content/drive/MyDrive/Lab1.ipyn' )"
      ],
      "metadata": {
        "id": "u8Tep0H0GHaD"
      },
      "execution_count": null,
      "outputs": []
    },
    {
      "cell_type": "code",
      "source": [
        "df['PRICES'].mean()\n"
      ],
      "metadata": {
        "colab": {
          "base_uri": "https://localhost:8080/"
        },
        "id": "eenOnY9aGV3M",
        "outputId": "7f021dbc-9a15-4c75-e752-12d1060d60f2"
      },
      "execution_count": null,
      "outputs": [
        {
          "output_type": "execute_result",
          "data": {
            "text/plain": [
              "51655.555555555555"
            ]
          },
          "metadata": {},
          "execution_count": 42
        }
      ]
    },
    {
      "cell_type": "code",
      "source": [
        "df['PRICES'].median()"
      ],
      "metadata": {
        "colab": {
          "base_uri": "https://localhost:8080/"
        },
        "id": "xE0K76XKGh5_",
        "outputId": "821fac4a-0622-4f2e-a26f-91b4361a8ed7"
      },
      "execution_count": null,
      "outputs": [
        {
          "output_type": "execute_result",
          "data": {
            "text/plain": [
              "55300.0"
            ]
          },
          "metadata": {},
          "execution_count": 43
        }
      ]
    },
    {
      "cell_type": "code",
      "source": [
        "df['PRICES'].min()"
      ],
      "metadata": {
        "colab": {
          "base_uri": "https://localhost:8080/"
        },
        "id": "_XPWkJpjGkUY",
        "outputId": "6fb8e9da-dc86-4f46-c851-437f61f68d5f"
      },
      "execution_count": null,
      "outputs": [
        {
          "output_type": "execute_result",
          "data": {
            "text/plain": [
              "8300"
            ]
          },
          "metadata": {},
          "execution_count": 44
        }
      ]
    },
    {
      "cell_type": "code",
      "source": [
        "df['PRICES'].max()"
      ],
      "metadata": {
        "colab": {
          "base_uri": "https://localhost:8080/"
        },
        "id": "TCWNGPseGnUt",
        "outputId": "c409969f-f65c-4908-960b-60645ced7a35"
      },
      "execution_count": null,
      "outputs": [
        {
          "output_type": "execute_result",
          "data": {
            "text/plain": [
              "98400"
            ]
          },
          "metadata": {},
          "execution_count": 45
        }
      ]
    },
    {
      "cell_type": "code",
      "source": [
        "df['PRICES'].std()"
      ],
      "metadata": {
        "colab": {
          "base_uri": "https://localhost:8080/"
        },
        "id": "--P9QSo2Go8-",
        "outputId": "9eacbb75-6790-4ac0-cbeb-449f40954e06"
      },
      "execution_count": null,
      "outputs": [
        {
          "output_type": "execute_result",
          "data": {
            "text/plain": [
              "34010.112875110804"
            ]
          },
          "metadata": {},
          "execution_count": 46
        }
      ]
    },
    {
      "cell_type": "code",
      "source": [
        "df['PRICES'].hist()"
      ],
      "metadata": {
        "colab": {
          "base_uri": "https://localhost:8080/",
          "height": 447
        },
        "id": "HVGuoQQhG0aL",
        "outputId": "2e1bf8a2-d810-44bf-ea83-6ac1401ec119"
      },
      "execution_count": null,
      "outputs": [
        {
          "output_type": "execute_result",
          "data": {
            "text/plain": [
              "<Axes: >"
            ]
          },
          "metadata": {},
          "execution_count": 47
        },
        {
          "output_type": "display_data",
          "data": {
            "text/plain": [
              "<Figure size 640x480 with 1 Axes>"
            ],
            "image/png": "[encoded data removed]"
          },
          "metadata": {}
        }
      ]
    },
    {
      "cell_type": "code",
      "source": [
        "df['PRICES'].plot.bar()"
      ],
      "metadata": {
        "colab": {
          "base_uri": "https://localhost:8080/",
          "height": 442
        },
        "id": "t1Q7CQCvG_Zd",
        "outputId": "09d5161d-4135-46c3-c161-8ad19808263c"
      },
      "execution_count": null,
      "outputs": [
        {
          "output_type": "execute_result",
          "data": {
            "text/plain": [
              "<Axes: >"
            ]
          },
          "metadata": {},
          "execution_count": 48
        },
        {
          "output_type": "display_data",
          "data": {
            "text/plain": [
              "<Figure size 640x480 with 1 Axes>"
            ],
            "image/png": "[encoded data removed]"
          },
          "metadata": {}
        }
      ]
    }
  ]
}