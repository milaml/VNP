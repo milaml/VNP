{
  "nbformat": 4,
  "nbformat_minor": 0,
  "metadata": {
    "colab": {
      "provenance": [],
      "include_colab_link": true
    },
    "kernelspec": {
      "name": "python3",
      "display_name": "Python 3"
    },
    "language_info": {
      "name": "python"
    }
  },
  "cells": [
    {
      "cell_type": "markdown",
      "metadata": {
        "id": "view-in-github",
        "colab_type": "text"
      },
      "source": [
        "<a href=\"https://colab.research.google.com/github/milaml/VNP/blob/master/Another_copy_of_%D0%97%D0%B0%D0%B4%D0%B0%D1%87%D0%B0_1_1_213021.ipynb\" target=\"_parent\"><img src=\"https://colab.research.google.com/assets/colab-badge.svg\" alt=\"Open In Colab\"/></a>"
      ]
    },
    {
      "cell_type": "markdown",
      "source": [
        "#Задача 1"
      ],
      "metadata": {
        "id": "aK5zzte4kyUL"
      }
    },
    {
      "cell_type": "markdown",
      "source": [
        "#Прв дел"
      ],
      "metadata": {
        "id": "rU20WB6cmm2x"
      }
    },
    {
      "cell_type": "markdown",
      "source": [
        "#Симнете ги податочните множества локално\n",
        "изврши ги следните два блока\n"
      ],
      "metadata": {
        "id": "Edqmy0_uk1vi"
      }
    },
    {
      "cell_type": "code",
      "source": [
        "!gdown --id 1tWwGsR6Egk5thWYgiWwtirvUFsM0mumo"
      ],
      "metadata": {
        "colab": {
          "base_uri": "https://localhost:8080/"
        },
        "id": "8M7AW8T6lFY_",
        "outputId": "c682bf33-56e5-4559-f1ea-bfdedb5bb767"
      },
      "execution_count": null,
      "outputs": [
        {
          "output_type": "stream",
          "name": "stdout",
          "text": [
            "/usr/local/lib/python3.7/dist-packages/gdown/cli.py:131: FutureWarning: Option `--id` was deprecated in version 4.3.1 and will be removed in 5.0. You don't need to pass it anymore to use a file ID.\n",
            "  category=FutureWarning,\n",
            "Downloading...\n",
            "From: https://drive.google.com/uc?id=1tWwGsR6Egk5thWYgiWwtirvUFsM0mumo\n",
            "To: /content/time_mk_bitcoin_11.csv\n",
            "\r  0% 0.00/14.3k [00:00<?, ?B/s]\r100% 14.3k/14.3k [00:00<00:00, 15.9MB/s]\n"
          ]
        }
      ]
    },
    {
      "cell_type": "code",
      "execution_count": null,
      "metadata": {
        "colab": {
          "base_uri": "https://localhost:8080/"
        },
        "id": "Y1RdH5fLkwFO",
        "outputId": "af7e396e-aa15-4fac-d037-444edfb3f604"
      },
      "outputs": [
        {
          "output_type": "stream",
          "name": "stdout",
          "text": [
            "/usr/local/lib/python3.7/dist-packages/gdown/cli.py:131: FutureWarning: Option `--id` was deprecated in version 4.3.1 and will be removed in 5.0. You don't need to pass it anymore to use a file ID.\n",
            "  category=FutureWarning,\n",
            "Downloading...\n",
            "From: https://drive.google.com/uc?id=12oJLG_W4YzqRm59VcBaXpSiGMgPTdbBB\n",
            "To: /content/BTC-USD_11.csv\n",
            "100% 3.66k/3.66k [00:00<00:00, 4.56MB/s]\n"
          ]
        }
      ],
      "source": [
        "!gdown --id 12oJLG_W4YzqRm59VcBaXpSiGMgPTdbBB"
      ]
    },
    {
      "cell_type": "markdown",
      "source": [
        "#Спој ги двете податочни множества"
      ],
      "metadata": {
        "id": "WJB42HzWlq33"
      }
    },
    {
      "cell_type": "code",
      "source": [
        "import pandas as pd\n",
        "df_one = pd.read_csv('/content/drive/MyDrive/Data/time_mk_bitcoin_11.csv')\n",
        "df_two =  pd.read_csv('/content/drive/MyDrive/Data/BTC-USD_11.csv')\n",
        "df = pd.merge(df_one, df_two)\n",
        "df"
      ],
      "metadata": {
        "id": "ykZNtnfLlnJ-",
        "colab": {
          "base_uri": "https://localhost:8080/",
          "height": 424
        },
        "outputId": "e1bab3c7-9fe6-4157-fb0b-b859c480c7c9"
      },
      "execution_count": null,
      "outputs": [
        {
          "output_type": "execute_result",
          "data": {
            "text/plain": [
              "        Date         Source  \\\n",
              "0   15-11-22        Кајгана   \n",
              "1   15-11-22   Иновативност   \n",
              "2   14-11-22         Centar   \n",
              "3   14-11-22        Еспресо   \n",
              "4   14-11-22  Кумановски м.   \n",
              "..       ...            ...   \n",
              "95  06-08-22      Во Центар   \n",
              "96  06-08-22      Во Центар   \n",
              "97  05-08-22     Р.С.Европа   \n",
              "98  05-08-22  Кумановски м.   \n",
              "99  04-08-22          Денар   \n",
              "\n",
              "                                                Title         Open  \\\n",
              "0   Како се случи најголемиот криминал во историја...  16617.48438   \n",
              "1   Биткоин падна под границата од 16.000 долари п...  16617.48438   \n",
              "2   Хаос на пазарот на криптовалути: Биткоин падна...  16352.02832   \n",
              "3   Илон Маск прогнозира нова „пролет“ за криптова...  16352.02832   \n",
              "4      Биткоин под 16.000 долари поради FTX скандалот  16352.02832   \n",
              "..                                                ...          ...   \n",
              "95  Фрлил хард диск со 7.500 биткоини, сега плаќа ...  23291.42383   \n",
              "96   БАРЕЛ НАФТА 94 ДОЛАРИ! Биткоинот утрово во минус  23291.42383   \n",
              "97  Грција екстрадира Русин осомничен за измама со...  22626.83398   \n",
              "98  Велшанец нуди 13 милиони евра за фрлен хард ди...  22626.83398   \n",
              "99  Дали биткоинот ќе се однесува како американски...  22848.21484   \n",
              "\n",
              "          Close  \n",
              "0   16884.61328  \n",
              "1   16884.61328  \n",
              "2   16618.19922  \n",
              "3   16618.19922  \n",
              "4   16618.19922  \n",
              "..          ...  \n",
              "95  22961.27930  \n",
              "96  22961.27930  \n",
              "97  23289.31445  \n",
              "98  23289.31445  \n",
              "99  22630.95703  \n",
              "\n",
              "[100 rows x 5 columns]"
            ],
            "text/html": [
              "\n",
              "  <div id=\"df-3c864769-0ef4-4900-a99e-90c98bd93d1c\">\n",
              "    <div class=\"colab-df-container\">\n",
              "      <div>\n",
              "<style scoped>\n",
              "    .dataframe tbody tr th:only-of-type {\n",
              "        vertical-align: middle;\n",
              "    }\n",
              "\n",
              "    .dataframe tbody tr th {\n",
              "        vertical-align: top;\n",
              "    }\n",
              "\n",
              "    .dataframe thead th {\n",
              "        text-align: right;\n",
              "    }\n",
              "</style>\n",
              "<table border=\"1\" class=\"dataframe\">\n",
              "  <thead>\n",
              "    <tr style=\"text-align: right;\">\n",
              "      <th></th>\n",
              "      <th>Date</th>\n",
              "      <th>Source</th>\n",
              "      <th>Title</th>\n",
              "      <th>Open</th>\n",
              "      <th>Close</th>\n",
              "    </tr>\n",
              "  </thead>\n",
              "  <tbody>\n",
              "    <tr>\n",
              "      <th>0</th>\n",
              "      <td>15-11-22</td>\n",
              "      <td>Кајгана</td>\n",
              "      <td>Како се случи најголемиот криминал во историја...</td>\n",
              "      <td>16617.48438</td>\n",
              "      <td>16884.61328</td>\n",
              "    </tr>\n",
              "    <tr>\n",
              "      <th>1</th>\n",
              "      <td>15-11-22</td>\n",
              "      <td>Иновативност</td>\n",
              "      <td>Биткоин падна под границата од 16.000 долари п...</td>\n",
              "      <td>16617.48438</td>\n",
              "      <td>16884.61328</td>\n",
              "    </tr>\n",
              "    <tr>\n",
              "      <th>2</th>\n",
              "      <td>14-11-22</td>\n",
              "      <td>Centar</td>\n",
              "      <td>Хаос на пазарот на криптовалути: Биткоин падна...</td>\n",
              "      <td>16352.02832</td>\n",
              "      <td>16618.19922</td>\n",
              "    </tr>\n",
              "    <tr>\n",
              "      <th>3</th>\n",
              "      <td>14-11-22</td>\n",
              "      <td>Еспресо</td>\n",
              "      <td>Илон Маск прогнозира нова „пролет“ за криптова...</td>\n",
              "      <td>16352.02832</td>\n",
              "      <td>16618.19922</td>\n",
              "    </tr>\n",
              "    <tr>\n",
              "      <th>4</th>\n",
              "      <td>14-11-22</td>\n",
              "      <td>Кумановски м.</td>\n",
              "      <td>Биткоин под 16.000 долари поради FTX скандалот</td>\n",
              "      <td>16352.02832</td>\n",
              "      <td>16618.19922</td>\n",
              "    </tr>\n",
              "    <tr>\n",
              "      <th>...</th>\n",
              "      <td>...</td>\n",
              "      <td>...</td>\n",
              "      <td>...</td>\n",
              "      <td>...</td>\n",
              "      <td>...</td>\n",
              "    </tr>\n",
              "    <tr>\n",
              "      <th>95</th>\n",
              "      <td>06-08-22</td>\n",
              "      <td>Во Центар</td>\n",
              "      <td>Фрлил хард диск со 7.500 биткоини, сега плаќа ...</td>\n",
              "      <td>23291.42383</td>\n",
              "      <td>22961.27930</td>\n",
              "    </tr>\n",
              "    <tr>\n",
              "      <th>96</th>\n",
              "      <td>06-08-22</td>\n",
              "      <td>Во Центар</td>\n",
              "      <td>БАРЕЛ НАФТА 94 ДОЛАРИ! Биткоинот утрово во минус</td>\n",
              "      <td>23291.42383</td>\n",
              "      <td>22961.27930</td>\n",
              "    </tr>\n",
              "    <tr>\n",
              "      <th>97</th>\n",
              "      <td>05-08-22</td>\n",
              "      <td>Р.С.Европа</td>\n",
              "      <td>Грција екстрадира Русин осомничен за измама со...</td>\n",
              "      <td>22626.83398</td>\n",
              "      <td>23289.31445</td>\n",
              "    </tr>\n",
              "    <tr>\n",
              "      <th>98</th>\n",
              "      <td>05-08-22</td>\n",
              "      <td>Кумановски м.</td>\n",
              "      <td>Велшанец нуди 13 милиони евра за фрлен хард ди...</td>\n",
              "      <td>22626.83398</td>\n",
              "      <td>23289.31445</td>\n",
              "    </tr>\n",
              "    <tr>\n",
              "      <th>99</th>\n",
              "      <td>04-08-22</td>\n",
              "      <td>Денар</td>\n",
              "      <td>Дали биткоинот ќе се однесува како американски...</td>\n",
              "      <td>22848.21484</td>\n",
              "      <td>22630.95703</td>\n",
              "    </tr>\n",
              "  </tbody>\n",
              "</table>\n",
              "<p>100 rows × 5 columns</p>\n",
              "</div>\n",
              "      <button class=\"colab-df-convert\" onclick=\"convertToInteractive('df-3c864769-0ef4-4900-a99e-90c98bd93d1c')\"\n",
              "              title=\"Convert this dataframe to an interactive table.\"\n",
              "              style=\"display:none;\">\n",
              "        \n",
              "  <svg xmlns=\"http://www.w3.org/2000/svg\" height=\"24px\"viewBox=\"0 0 24 24\"\n",
              "       width=\"24px\">\n",
              "    <path d=\"M0 0h24v24H0V0z\" fill=\"none\"/>\n",
              "    <path d=\"M18.56 5.44l.94 2.06.94-2.06 2.06-.94-2.06-.94-.94-2.06-.94 2.06-2.06.94zm-11 1L8.5 8.5l.94-2.06 2.06-.94-2.06-.94L8.5 2.5l-.94 2.06-2.06.94zm10 10l.94 2.06.94-2.06 2.06-.94-2.06-.94-.94-2.06-.94 2.06-2.06.94z\"/><path d=\"M17.41 7.96l-1.37-1.37c-.4-.4-.92-.59-1.43-.59-.52 0-1.04.2-1.43.59L10.3 9.45l-7.72 7.72c-.78.78-.78 2.05 0 2.83L4 21.41c.39.39.9.59 1.41.59.51 0 1.02-.2 1.41-.59l7.78-7.78 2.81-2.81c.8-.78.8-2.07 0-2.86zM5.41 20L4 18.59l7.72-7.72 1.47 1.35L5.41 20z\"/>\n",
              "  </svg>\n",
              "      </button>\n",
              "      \n",
              "  <style>\n",
              "    .colab-df-container {\n",
              "      display:flex;\n",
              "      flex-wrap:wrap;\n",
              "      gap: 12px;\n",
              "    }\n",
              "\n",
              "    .colab-df-convert {\n",
              "      background-color: #E8F0FE;\n",
              "      border: none;\n",
              "      border-radius: 50%;\n",
              "      cursor: pointer;\n",
              "      display: none;\n",
              "      fill: #1967D2;\n",
              "      height: 32px;\n",
              "      padding: 0 0 0 0;\n",
              "      width: 32px;\n",
              "    }\n",
              "\n",
              "    .colab-df-convert:hover {\n",
              "      background-color: #E2EBFA;\n",
              "      box-shadow: 0px 1px 2px rgba(60, 64, 67, 0.3), 0px 1px 3px 1px rgba(60, 64, 67, 0.15);\n",
              "      fill: #174EA6;\n",
              "    }\n",
              "\n",
              "    [theme=dark] .colab-df-convert {\n",
              "      background-color: #3B4455;\n",
              "      fill: #D2E3FC;\n",
              "    }\n",
              "\n",
              "    [theme=dark] .colab-df-convert:hover {\n",
              "      background-color: #434B5C;\n",
              "      box-shadow: 0px 1px 3px 1px rgba(0, 0, 0, 0.15);\n",
              "      filter: drop-shadow(0px 1px 2px rgba(0, 0, 0, 0.3));\n",
              "      fill: #FFFFFF;\n",
              "    }\n",
              "  </style>\n",
              "\n",
              "      <script>\n",
              "        const buttonEl =\n",
              "          document.querySelector('#df-3c864769-0ef4-4900-a99e-90c98bd93d1c button.colab-df-convert');\n",
              "        buttonEl.style.display =\n",
              "          google.colab.kernel.accessAllowed ? 'block' : 'none';\n",
              "\n",
              "        async function convertToInteractive(key) {\n",
              "          const element = document.querySelector('#df-3c864769-0ef4-4900-a99e-90c98bd93d1c');\n",
              "          const dataTable =\n",
              "            await google.colab.kernel.invokeFunction('convertToInteractive',\n",
              "                                                     [key], {});\n",
              "          if (!dataTable) return;\n",
              "\n",
              "          const docLinkHtml = 'Like what you see? Visit the ' +\n",
              "            '<a target=\"_blank\" href=https://colab.research.google.com/notebooks/data_table.ipynb>data table notebook</a>'\n",
              "            + ' to learn more about interactive tables.';\n",
              "          element.innerHTML = '';\n",
              "          dataTable['output_type'] = 'display_data';\n",
              "          await google.colab.output.renderOutput(dataTable, element);\n",
              "          const docLink = document.createElement('div');\n",
              "          docLink.innerHTML = docLinkHtml;\n",
              "          element.appendChild(docLink);\n",
              "        }\n",
              "      </script>\n",
              "    </div>\n",
              "  </div>\n",
              "  "
            ]
          },
          "metadata": {},
          "execution_count": 7
        }
      ]
    },
    {
      "cell_type": "code",
      "source": [
        "from google.colab import drive\n",
        "drive.mount('/content/drive')"
      ],
      "metadata": {
        "colab": {
          "base_uri": "https://localhost:8080/"
        },
        "id": "VV5AoC39w1vQ",
        "outputId": "c5c13b66-0286-46e0-f355-401eb29c8619"
      },
      "execution_count": null,
      "outputs": [
        {
          "output_type": "stream",
          "name": "stdout",
          "text": [
            "Mounted at /content/drive\n"
          ]
        }
      ]
    },
    {
      "cell_type": "markdown",
      "source": [
        "#Направи визуелизација на таргет колоната"
      ],
      "metadata": {
        "id": "2bk0gOvwluvi"
      }
    },
    {
      "cell_type": "code",
      "source": [
        "df.Close.plot.area()"
      ],
      "metadata": {
        "id": "PVlxGi0sly5a",
        "colab": {
          "base_uri": "https://localhost:8080/",
          "height": 282
        },
        "outputId": "86cca0fc-3b3e-425f-d808-8ae3ed4b7071"
      },
      "execution_count": null,
      "outputs": [
        {
          "output_type": "execute_result",
          "data": {
            "text/plain": [
              "<matplotlib.axes._subplots.AxesSubplot at 0x7f7a6fcac250>"
            ]
          },
          "metadata": {},
          "execution_count": 8
        },
        {
          "output_type": "display_data",
          "data": {
            "text/plain": [
              "<Figure size 432x288 with 1 Axes>"
            ],
            "image/png": "[encoded data removed]"
          },
          "metadata": {
            "needs_background": "light"
          }
        }
      ]
    },
    {
      "cell_type": "markdown",
      "source": [
        "#Изврши статистика за колоните"
      ],
      "metadata": {
        "id": "HUuab69Jlzq4"
      }
    },
    {
      "cell_type": "code",
      "source": [
        "df.min()"
      ],
      "metadata": {
        "id": "bz4-_v1kl3xX",
        "colab": {
          "base_uri": "https://localhost:8080/"
        },
        "outputId": "19018720-9916-48bf-fc68-55efbccd35ae"
      },
      "execution_count": null,
      "outputs": [
        {
          "output_type": "execute_result",
          "data": {
            "text/plain": [
              "Date                                               02-11-22\n",
              "Source                                                +инфо\n",
              "Title     (ВИДЕО) Спојувањето на етериум може да ја потт...\n",
              "Open                                             15883.1582\n",
              "Close                                           15880.78027\n",
              "dtype: object"
            ]
          },
          "metadata": {},
          "execution_count": 9
        }
      ]
    },
    {
      "cell_type": "code",
      "source": [
        "df.info()"
      ],
      "metadata": {
        "colab": {
          "base_uri": "https://localhost:8080/"
        },
        "id": "bWnyc2-fxUfp",
        "outputId": "853a5eaf-252a-49cf-985d-50401ad3e157"
      },
      "execution_count": null,
      "outputs": [
        {
          "output_type": "stream",
          "name": "stdout",
          "text": [
            "<class 'pandas.core.frame.DataFrame'>\n",
            "Int64Index: 100 entries, 0 to 99\n",
            "Data columns (total 5 columns):\n",
            " #   Column  Non-Null Count  Dtype  \n",
            "---  ------  --------------  -----  \n",
            " 0   Date    100 non-null    object \n",
            " 1   Source  100 non-null    object \n",
            " 2   Title   100 non-null    object \n",
            " 3   Open    100 non-null    float64\n",
            " 4   Close   100 non-null    float64\n",
            "dtypes: float64(2), object(3)\n",
            "memory usage: 4.7+ KB\n"
          ]
        }
      ]
    },
    {
      "cell_type": "code",
      "source": [
        "df.max()"
      ],
      "metadata": {
        "colab": {
          "base_uri": "https://localhost:8080/"
        },
        "id": "OTt51UhXxWv9",
        "outputId": "e2ade9d1-5d74-4439-d0d2-befc5ea0615d"
      },
      "execution_count": null,
      "outputs": [
        {
          "output_type": "execute_result",
          "data": {
            "text/plain": [
              "Date                                               31-10-22\n",
              "Source                                               Фактор\n",
              "Title     ШТО ЗНАЧИ СИЛНИОТ ДОЛАР ЗА КРИПТОВАЛУТИТЕ? Дал...\n",
              "Open                                            24318.31641\n",
              "Close                                           24402.81836\n",
              "dtype: object"
            ]
          },
          "metadata": {},
          "execution_count": 11
        }
      ]
    },
    {
      "cell_type": "code",
      "source": [
        "df.std()"
      ],
      "metadata": {
        "colab": {
          "base_uri": "https://localhost:8080/"
        },
        "id": "ElpaxFjwxZbV",
        "outputId": "9662f064-f340-4e46-82c8-b049e149062c"
      },
      "execution_count": null,
      "outputs": [
        {
          "output_type": "stream",
          "name": "stderr",
          "text": [
            "/usr/local/lib/python3.7/dist-packages/ipykernel_launcher.py:1: FutureWarning: Dropping of nuisance columns in DataFrame reductions (with 'numeric_only=None') is deprecated; in a future version this will raise TypeError.  Select only valid columns before calling the reduction.\n",
            "  \"\"\"Entry point for launching an IPython kernel.\n"
          ]
        },
        {
          "output_type": "execute_result",
          "data": {
            "text/plain": [
              "Open     2527.539523\n",
              "Close    2573.672200\n",
              "dtype: float64"
            ]
          },
          "metadata": {},
          "execution_count": 12
        }
      ]
    },
    {
      "cell_type": "code",
      "source": [
        "df.quantile([.1, .25, .5, .75], axis = 0)"
      ],
      "metadata": {
        "colab": {
          "base_uri": "https://localhost:8080/",
          "height": 175
        },
        "id": "_umMirljxllN",
        "outputId": "6a559635-bd02-4b8d-bcfd-ad72b6aa4d29"
      },
      "execution_count": null,
      "outputs": [
        {
          "output_type": "execute_result",
          "data": {
            "text/plain": [
              "             Open         Close\n",
              "0.10  16352.02832  15880.780270\n",
              "0.25  18543.76172  17586.771480\n",
              "0.50  19615.15430  19544.128910\n",
              "0.75  22371.48047  21003.452633"
            ],
            "text/html": [
              "\n",
              "  <div id=\"df-feb3b141-a91c-4590-b91b-612f0ff55cbd\">\n",
              "    <div class=\"colab-df-container\">\n",
              "      <div>\n",
              "<style scoped>\n",
              "    .dataframe tbody tr th:only-of-type {\n",
              "        vertical-align: middle;\n",
              "    }\n",
              "\n",
              "    .dataframe tbody tr th {\n",
              "        vertical-align: top;\n",
              "    }\n",
              "\n",
              "    .dataframe thead th {\n",
              "        text-align: right;\n",
              "    }\n",
              "</style>\n",
              "<table border=\"1\" class=\"dataframe\">\n",
              "  <thead>\n",
              "    <tr style=\"text-align: right;\">\n",
              "      <th></th>\n",
              "      <th>Open</th>\n",
              "      <th>Close</th>\n",
              "    </tr>\n",
              "  </thead>\n",
              "  <tbody>\n",
              "    <tr>\n",
              "      <th>0.10</th>\n",
              "      <td>16352.02832</td>\n",
              "      <td>15880.780270</td>\n",
              "    </tr>\n",
              "    <tr>\n",
              "      <th>0.25</th>\n",
              "      <td>18543.76172</td>\n",
              "      <td>17586.771480</td>\n",
              "    </tr>\n",
              "    <tr>\n",
              "      <th>0.50</th>\n",
              "      <td>19615.15430</td>\n",
              "      <td>19544.128910</td>\n",
              "    </tr>\n",
              "    <tr>\n",
              "      <th>0.75</th>\n",
              "      <td>22371.48047</td>\n",
              "      <td>21003.452633</td>\n",
              "    </tr>\n",
              "  </tbody>\n",
              "</table>\n",
              "</div>\n",
              "      <button class=\"colab-df-convert\" onclick=\"convertToInteractive('df-feb3b141-a91c-4590-b91b-612f0ff55cbd')\"\n",
              "              title=\"Convert this dataframe to an interactive table.\"\n",
              "              style=\"display:none;\">\n",
              "        \n",
              "  <svg xmlns=\"http://www.w3.org/2000/svg\" height=\"24px\"viewBox=\"0 0 24 24\"\n",
              "       width=\"24px\">\n",
              "    <path d=\"M0 0h24v24H0V0z\" fill=\"none\"/>\n",
              "    <path d=\"M18.56 5.44l.94 2.06.94-2.06 2.06-.94-2.06-.94-.94-2.06-.94 2.06-2.06.94zm-11 1L8.5 8.5l.94-2.06 2.06-.94-2.06-.94L8.5 2.5l-.94 2.06-2.06.94zm10 10l.94 2.06.94-2.06 2.06-.94-2.06-.94-.94-2.06-.94 2.06-2.06.94z\"/><path d=\"M17.41 7.96l-1.37-1.37c-.4-.4-.92-.59-1.43-.59-.52 0-1.04.2-1.43.59L10.3 9.45l-7.72 7.72c-.78.78-.78 2.05 0 2.83L4 21.41c.39.39.9.59 1.41.59.51 0 1.02-.2 1.41-.59l7.78-7.78 2.81-2.81c.8-.78.8-2.07 0-2.86zM5.41 20L4 18.59l7.72-7.72 1.47 1.35L5.41 20z\"/>\n",
              "  </svg>\n",
              "      </button>\n",
              "      \n",
              "  <style>\n",
              "    .colab-df-container {\n",
              "      display:flex;\n",
              "      flex-wrap:wrap;\n",
              "      gap: 12px;\n",
              "    }\n",
              "\n",
              "    .colab-df-convert {\n",
              "      background-color: #E8F0FE;\n",
              "      border: none;\n",
              "      border-radius: 50%;\n",
              "      cursor: pointer;\n",
              "      display: none;\n",
              "      fill: #1967D2;\n",
              "      height: 32px;\n",
              "      padding: 0 0 0 0;\n",
              "      width: 32px;\n",
              "    }\n",
              "\n",
              "    .colab-df-convert:hover {\n",
              "      background-color: #E2EBFA;\n",
              "      box-shadow: 0px 1px 2px rgba(60, 64, 67, 0.3), 0px 1px 3px 1px rgba(60, 64, 67, 0.15);\n",
              "      fill: #174EA6;\n",
              "    }\n",
              "\n",
              "    [theme=dark] .colab-df-convert {\n",
              "      background-color: #3B4455;\n",
              "      fill: #D2E3FC;\n",
              "    }\n",
              "\n",
              "    [theme=dark] .colab-df-convert:hover {\n",
              "      background-color: #434B5C;\n",
              "      box-shadow: 0px 1px 3px 1px rgba(0, 0, 0, 0.15);\n",
              "      filter: drop-shadow(0px 1px 2px rgba(0, 0, 0, 0.3));\n",
              "      fill: #FFFFFF;\n",
              "    }\n",
              "  </style>\n",
              "\n",
              "      <script>\n",
              "        const buttonEl =\n",
              "          document.querySelector('#df-feb3b141-a91c-4590-b91b-612f0ff55cbd button.colab-df-convert');\n",
              "        buttonEl.style.display =\n",
              "          google.colab.kernel.accessAllowed ? 'block' : 'none';\n",
              "\n",
              "        async function convertToInteractive(key) {\n",
              "          const element = document.querySelector('#df-feb3b141-a91c-4590-b91b-612f0ff55cbd');\n",
              "          const dataTable =\n",
              "            await google.colab.kernel.invokeFunction('convertToInteractive',\n",
              "                                                     [key], {});\n",
              "          if (!dataTable) return;\n",
              "\n",
              "          const docLinkHtml = 'Like what you see? Visit the ' +\n",
              "            '<a target=\"_blank\" href=https://colab.research.google.com/notebooks/data_table.ipynb>data table notebook</a>'\n",
              "            + ' to learn more about interactive tables.';\n",
              "          element.innerHTML = '';\n",
              "          dataTable['output_type'] = 'display_data';\n",
              "          await google.colab.output.renderOutput(dataTable, element);\n",
              "          const docLink = document.createElement('div');\n",
              "          docLink.innerHTML = docLinkHtml;\n",
              "          element.appendChild(docLink);\n",
              "        }\n",
              "      </script>\n",
              "    </div>\n",
              "  </div>\n",
              "  "
            ]
          },
          "metadata": {},
          "execution_count": 13
        }
      ]
    },
    {
      "cell_type": "markdown",
      "source": [
        "#Претпроцесирај ги текстуалните податоци"
      ],
      "metadata": {
        "id": "qQ3XYapzmRp_"
      }
    },
    {
      "cell_type": "code",
      "source": [
        "df.info()"
      ],
      "metadata": {
        "id": "irXDWzG-mVXa",
        "colab": {
          "base_uri": "https://localhost:8080/"
        },
        "outputId": "65cb0091-3180-4dd6-f99f-7d0b1dff8382"
      },
      "execution_count": null,
      "outputs": [
        {
          "output_type": "stream",
          "name": "stdout",
          "text": [
            "<class 'pandas.core.frame.DataFrame'>\n",
            "Int64Index: 100 entries, 0 to 99\n",
            "Data columns (total 5 columns):\n",
            " #   Column  Non-Null Count  Dtype  \n",
            "---  ------  --------------  -----  \n",
            " 0   Date    100 non-null    object \n",
            " 1   Source  100 non-null    object \n",
            " 2   Title   100 non-null    object \n",
            " 3   Open    100 non-null    float64\n",
            " 4   Close   100 non-null    float64\n",
            "dtypes: float64(2), object(3)\n",
            "memory usage: 4.7+ KB\n"
          ]
        }
      ]
    },
    {
      "cell_type": "code",
      "source": [
        "df[\"Close\"].unique()"
      ],
      "metadata": {
        "colab": {
          "base_uri": "https://localhost:8080/"
        },
        "id": "T1FUNL93xr2k",
        "outputId": "70035d54-2081-4a2d-8af9-1715db4d4616"
      },
      "execution_count": null,
      "outputs": [
        {
          "output_type": "execute_result",
          "data": {
            "text/plain": [
              "array([16884.61328, 16618.19922, 16353.36523, 16799.18555, 17034.29297,\n",
              "       17586.77148, 15880.78027, 18541.27148, 20209.98828, 20159.50391,\n",
              "       20495.77344, 20595.35156, 19567.00781, 19139.53516, 19334.41602,\n",
              "       19185.65625, 19141.48438, 19546.84961, 19955.44336, 19110.54688,\n",
              "       19413.55078, 18547.40039, 18890.78906, 19544.12891, 19772.58398,\n",
              "       20296.70703, 21381.15234, 19290.32422, 18837.66797, 19812.37109,\n",
              "       19796.80859, 20297.99414, 19616.81445, 20041.73828, 20260.01953,\n",
              "       21395.01953, 21528.08789, 20877.55273, 23335.99805, 24136.97266,\n",
              "       24402.81836, 23947.64258, 23164.31836, 23809.48633, 22961.2793 ,\n",
              "       23289.31445, 22630.95703])"
            ]
          },
          "metadata": {},
          "execution_count": 15
        }
      ]
    },
    {
      "cell_type": "code",
      "source": [
        "df.isnull().sum()"
      ],
      "metadata": {
        "colab": {
          "base_uri": "https://localhost:8080/"
        },
        "id": "h_AveCXKxxr8",
        "outputId": "7cfcfb91-a642-4395-9e65-f785e6b349e4"
      },
      "execution_count": null,
      "outputs": [
        {
          "output_type": "execute_result",
          "data": {
            "text/plain": [
              "Date      0\n",
              "Source    0\n",
              "Title     0\n",
              "Open      0\n",
              "Close     0\n",
              "dtype: int64"
            ]
          },
          "metadata": {},
          "execution_count": 16
        }
      ]
    },
    {
      "cell_type": "code",
      "source": [
        "from sklearn.feature_extraction.text import CountVectorizer\n",
        "\n",
        "encoder = CountVectorizer()\n",
        "encoder.fit(df['Title'].to_list())\n",
        "df_title = encoder.transform(df['Title'].to_list())\n",
        "df_title\n",
        "\n"
      ],
      "metadata": {
        "colab": {
          "base_uri": "https://localhost:8080/"
        },
        "id": "0uWHgoPmyL4H",
        "outputId": "b9e3e728-b729-414a-b872-25d1cef7c5e2"
      },
      "execution_count": null,
      "outputs": [
        {
          "output_type": "execute_result",
          "data": {
            "text/plain": [
              "<100x393 sparse matrix of type '<class 'numpy.int64'>'\n",
              "\twith 1003 stored elements in Compressed Sparse Row format>"
            ]
          },
          "metadata": {},
          "execution_count": 24
        }
      ]
    },
    {
      "cell_type": "code",
      "source": [
        "df_title = pd.DataFrame(df_title.todense(),columns=encoder.get_feature_names_out())\n",
        "df_title"
      ],
      "metadata": {
        "colab": {
          "base_uri": "https://localhost:8080/",
          "height": 424
        },
        "id": "mEOB12XtzOhw",
        "outputId": "6c5bcda9-7a2f-471f-bf1f-27b48b3274f3"
      },
      "execution_count": null,
      "outputs": [
        {
          "output_type": "execute_result",
          "data": {
            "text/plain": [
              "    000  104  13  15  16  17  19  20  200  2020  ...  швајцарците  шеф  \\\n",
              "0     0    0   0   0   0   0   0   0    0     0  ...            0    0   \n",
              "1     1    0   0   0   1   0   0   0    0     0  ...            0    0   \n",
              "2     1    0   0   0   1   0   0   0    0     0  ...            0    0   \n",
              "3     0    0   0   0   0   0   0   0    0     0  ...            0    0   \n",
              "4     1    0   0   0   1   0   0   0    0     0  ...            0    0   \n",
              "..  ...  ...  ..  ..  ..  ..  ..  ..  ...   ...  ...          ...  ...   \n",
              "95    0    0   0   0   0   0   0   0    0     0  ...            0    0   \n",
              "96    0    0   0   0   0   0   0   0    0     0  ...            0    0   \n",
              "97    0    0   0   0   0   0   0   0    0     0  ...            0    0   \n",
              "98    0    0   1   0   0   0   0   0    0     0  ...            0    0   \n",
              "99    0    0   0   0   0   0   0   0    0     0  ...            0    0   \n",
              "\n",
              "    штабот  штетен  што  ја  јавни  јуни  њујоршката  ќе  \n",
              "0        0       0    0   0      0     0           0   0  \n",
              "1        0       0    0   0      0     0           0   0  \n",
              "2        0       0    0   0      0     0           0   0  \n",
              "3        0       0    0   0      0     0           0   1  \n",
              "4        0       0    0   0      0     0           0   0  \n",
              "..     ...     ...  ...  ..    ...   ...         ...  ..  \n",
              "95       0       0    0   0      0     0           0   0  \n",
              "96       0       0    0   0      0     0           0   0  \n",
              "97       0       0    0   0      0     0           0   0  \n",
              "98       0       0    0   0      0     0           0   0  \n",
              "99       0       0    0   0      0     0           0   1  \n",
              "\n",
              "[100 rows x 393 columns]"
            ],
            "text/html": [
              "\n",
              "  <div id=\"df-667f90c3-9baa-41a9-9bfa-2eb859661dfd\">\n",
              "    <div class=\"colab-df-container\">\n",
              "      <div>\n",
              "<style scoped>\n",
              "    .dataframe tbody tr th:only-of-type {\n",
              "        vertical-align: middle;\n",
              "    }\n",
              "\n",
              "    .dataframe tbody tr th {\n",
              "        vertical-align: top;\n",
              "    }\n",
              "\n",
              "    .dataframe thead th {\n",
              "        text-align: right;\n",
              "    }\n",
              "</style>\n",
              "<table border=\"1\" class=\"dataframe\">\n",
              "  <thead>\n",
              "    <tr style=\"text-align: right;\">\n",
              "      <th></th>\n",
              "      <th>000</th>\n",
              "      <th>104</th>\n",
              "      <th>13</th>\n",
              "      <th>15</th>\n",
              "      <th>16</th>\n",
              "      <th>17</th>\n",
              "      <th>19</th>\n",
              "      <th>20</th>\n",
              "      <th>200</th>\n",
              "      <th>2020</th>\n",
              "      <th>...</th>\n",
              "      <th>швајцарците</th>\n",
              "      <th>шеф</th>\n",
              "      <th>штабот</th>\n",
              "      <th>штетен</th>\n",
              "      <th>што</th>\n",
              "      <th>ја</th>\n",
              "      <th>јавни</th>\n",
              "      <th>јуни</th>\n",
              "      <th>њујоршката</th>\n",
              "      <th>ќе</th>\n",
              "    </tr>\n",
              "  </thead>\n",
              "  <tbody>\n",
              "    <tr>\n",
              "      <th>0</th>\n",
              "      <td>0</td>\n",
              "      <td>0</td>\n",
              "      <td>0</td>\n",
              "      <td>0</td>\n",
              "      <td>0</td>\n",
              "      <td>0</td>\n",
              "      <td>0</td>\n",
              "      <td>0</td>\n",
              "      <td>0</td>\n",
              "      <td>0</td>\n",
              "      <td>...</td>\n",
              "      <td>0</td>\n",
              "      <td>0</td>\n",
              "      <td>0</td>\n",
              "      <td>0</td>\n",
              "      <td>0</td>\n",
              "      <td>0</td>\n",
              "      <td>0</td>\n",
              "      <td>0</td>\n",
              "      <td>0</td>\n",
              "      <td>0</td>\n",
              "    </tr>\n",
              "    <tr>\n",
              "      <th>1</th>\n",
              "      <td>1</td>\n",
              "      <td>0</td>\n",
              "      <td>0</td>\n",
              "      <td>0</td>\n",
              "      <td>1</td>\n",
              "      <td>0</td>\n",
              "      <td>0</td>\n",
              "      <td>0</td>\n",
              "      <td>0</td>\n",
              "      <td>0</td>\n",
              "      <td>...</td>\n",
              "      <td>0</td>\n",
              "      <td>0</td>\n",
              "      <td>0</td>\n",
              "      <td>0</td>\n",
              "      <td>0</td>\n",
              "      <td>0</td>\n",
              "      <td>0</td>\n",
              "      <td>0</td>\n",
              "      <td>0</td>\n",
              "      <td>0</td>\n",
              "    </tr>\n",
              "    <tr>\n",
              "      <th>2</th>\n",
              "      <td>1</td>\n",
              "      <td>0</td>\n",
              "      <td>0</td>\n",
              "      <td>0</td>\n",
              "      <td>1</td>\n",
              "      <td>0</td>\n",
              "      <td>0</td>\n",
              "      <td>0</td>\n",
              "      <td>0</td>\n",
              "      <td>0</td>\n",
              "      <td>...</td>\n",
              "      <td>0</td>\n",
              "      <td>0</td>\n",
              "      <td>0</td>\n",
              "      <td>0</td>\n",
              "      <td>0</td>\n",
              "      <td>0</td>\n",
              "      <td>0</td>\n",
              "      <td>0</td>\n",
              "      <td>0</td>\n",
              "      <td>0</td>\n",
              "    </tr>\n",
              "    <tr>\n",
              "      <th>3</th>\n",
              "      <td>0</td>\n",
              "      <td>0</td>\n",
              "      <td>0</td>\n",
              "      <td>0</td>\n",
              "      <td>0</td>\n",
              "      <td>0</td>\n",
              "      <td>0</td>\n",
              "      <td>0</td>\n",
              "      <td>0</td>\n",
              "      <td>0</td>\n",
              "      <td>...</td>\n",
              "      <td>0</td>\n",
              "      <td>0</td>\n",
              "      <td>0</td>\n",
              "      <td>0</td>\n",
              "      <td>0</td>\n",
              "      <td>0</td>\n",
              "      <td>0</td>\n",
              "      <td>0</td>\n",
              "      <td>0</td>\n",
              "      <td>1</td>\n",
              "    </tr>\n",
              "    <tr>\n",
              "      <th>4</th>\n",
              "      <td>1</td>\n",
              "      <td>0</td>\n",
              "      <td>0</td>\n",
              "      <td>0</td>\n",
              "      <td>1</td>\n",
              "      <td>0</td>\n",
              "      <td>0</td>\n",
              "      <td>0</td>\n",
              "      <td>0</td>\n",
              "      <td>0</td>\n",
              "      <td>...</td>\n",
              "      <td>0</td>\n",
              "      <td>0</td>\n",
              "      <td>0</td>\n",
              "      <td>0</td>\n",
              "      <td>0</td>\n",
              "      <td>0</td>\n",
              "      <td>0</td>\n",
              "      <td>0</td>\n",
              "      <td>0</td>\n",
              "      <td>0</td>\n",
              "    </tr>\n",
              "    <tr>\n",
              "      <th>...</th>\n",
              "      <td>...</td>\n",
              "      <td>...</td>\n",
              "      <td>...</td>\n",
              "      <td>...</td>\n",
              "      <td>...</td>\n",
              "      <td>...</td>\n",
              "      <td>...</td>\n",
              "      <td>...</td>\n",
              "      <td>...</td>\n",
              "      <td>...</td>\n",
              "      <td>...</td>\n",
              "      <td>...</td>\n",
              "      <td>...</td>\n",
              "      <td>...</td>\n",
              "      <td>...</td>\n",
              "      <td>...</td>\n",
              "      <td>...</td>\n",
              "      <td>...</td>\n",
              "      <td>...</td>\n",
              "      <td>...</td>\n",
              "      <td>...</td>\n",
              "    </tr>\n",
              "    <tr>\n",
              "      <th>95</th>\n",
              "      <td>0</td>\n",
              "      <td>0</td>\n",
              "      <td>0</td>\n",
              "      <td>0</td>\n",
              "      <td>0</td>\n",
              "      <td>0</td>\n",
              "      <td>0</td>\n",
              "      <td>0</td>\n",
              "      <td>0</td>\n",
              "      <td>0</td>\n",
              "      <td>...</td>\n",
              "      <td>0</td>\n",
              "      <td>0</td>\n",
              "      <td>0</td>\n",
              "      <td>0</td>\n",
              "      <td>0</td>\n",
              "      <td>0</td>\n",
              "      <td>0</td>\n",
              "      <td>0</td>\n",
              "      <td>0</td>\n",
              "      <td>0</td>\n",
              "    </tr>\n",
              "    <tr>\n",
              "      <th>96</th>\n",
              "      <td>0</td>\n",
              "      <td>0</td>\n",
              "      <td>0</td>\n",
              "      <td>0</td>\n",
              "      <td>0</td>\n",
              "      <td>0</td>\n",
              "      <td>0</td>\n",
              "      <td>0</td>\n",
              "      <td>0</td>\n",
              "      <td>0</td>\n",
              "      <td>...</td>\n",
              "      <td>0</td>\n",
              "      <td>0</td>\n",
              "      <td>0</td>\n",
              "      <td>0</td>\n",
              "      <td>0</td>\n",
              "      <td>0</td>\n",
              "      <td>0</td>\n",
              "      <td>0</td>\n",
              "      <td>0</td>\n",
              "      <td>0</td>\n",
              "    </tr>\n",
              "    <tr>\n",
              "      <th>97</th>\n",
              "      <td>0</td>\n",
              "      <td>0</td>\n",
              "      <td>0</td>\n",
              "      <td>0</td>\n",
              "      <td>0</td>\n",
              "      <td>0</td>\n",
              "      <td>0</td>\n",
              "      <td>0</td>\n",
              "      <td>0</td>\n",
              "      <td>0</td>\n",
              "      <td>...</td>\n",
              "      <td>0</td>\n",
              "      <td>0</td>\n",
              "      <td>0</td>\n",
              "      <td>0</td>\n",
              "      <td>0</td>\n",
              "      <td>0</td>\n",
              "      <td>0</td>\n",
              "      <td>0</td>\n",
              "      <td>0</td>\n",
              "      <td>0</td>\n",
              "    </tr>\n",
              "    <tr>\n",
              "      <th>98</th>\n",
              "      <td>0</td>\n",
              "      <td>0</td>\n",
              "      <td>1</td>\n",
              "      <td>0</td>\n",
              "      <td>0</td>\n",
              "      <td>0</td>\n",
              "      <td>0</td>\n",
              "      <td>0</td>\n",
              "      <td>0</td>\n",
              "      <td>0</td>\n",
              "      <td>...</td>\n",
              "      <td>0</td>\n",
              "      <td>0</td>\n",
              "      <td>0</td>\n",
              "      <td>0</td>\n",
              "      <td>0</td>\n",
              "      <td>0</td>\n",
              "      <td>0</td>\n",
              "      <td>0</td>\n",
              "      <td>0</td>\n",
              "      <td>0</td>\n",
              "    </tr>\n",
              "    <tr>\n",
              "      <th>99</th>\n",
              "      <td>0</td>\n",
              "      <td>0</td>\n",
              "      <td>0</td>\n",
              "      <td>0</td>\n",
              "      <td>0</td>\n",
              "      <td>0</td>\n",
              "      <td>0</td>\n",
              "      <td>0</td>\n",
              "      <td>0</td>\n",
              "      <td>0</td>\n",
              "      <td>...</td>\n",
              "      <td>0</td>\n",
              "      <td>0</td>\n",
              "      <td>0</td>\n",
              "      <td>0</td>\n",
              "      <td>0</td>\n",
              "      <td>0</td>\n",
              "      <td>0</td>\n",
              "      <td>0</td>\n",
              "      <td>0</td>\n",
              "      <td>1</td>\n",
              "    </tr>\n",
              "  </tbody>\n",
              "</table>\n",
              "<p>100 rows × 393 columns</p>\n",
              "</div>\n",
              "      <button class=\"colab-df-convert\" onclick=\"convertToInteractive('df-667f90c3-9baa-41a9-9bfa-2eb859661dfd')\"\n",
              "              title=\"Convert this dataframe to an interactive table.\"\n",
              "              style=\"display:none;\">\n",
              "        \n",
              "  <svg xmlns=\"http://www.w3.org/2000/svg\" height=\"24px\"viewBox=\"0 0 24 24\"\n",
              "       width=\"24px\">\n",
              "    <path d=\"M0 0h24v24H0V0z\" fill=\"none\"/>\n",
              "    <path d=\"M18.56 5.44l.94 2.06.94-2.06 2.06-.94-2.06-.94-.94-2.06-.94 2.06-2.06.94zm-11 1L8.5 8.5l.94-2.06 2.06-.94-2.06-.94L8.5 2.5l-.94 2.06-2.06.94zm10 10l.94 2.06.94-2.06 2.06-.94-2.06-.94-.94-2.06-.94 2.06-2.06.94z\"/><path d=\"M17.41 7.96l-1.37-1.37c-.4-.4-.92-.59-1.43-.59-.52 0-1.04.2-1.43.59L10.3 9.45l-7.72 7.72c-.78.78-.78 2.05 0 2.83L4 21.41c.39.39.9.59 1.41.59.51 0 1.02-.2 1.41-.59l7.78-7.78 2.81-2.81c.8-.78.8-2.07 0-2.86zM5.41 20L4 18.59l7.72-7.72 1.47 1.35L5.41 20z\"/>\n",
              "  </svg>\n",
              "      </button>\n",
              "      \n",
              "  <style>\n",
              "    .colab-df-container {\n",
              "      display:flex;\n",
              "      flex-wrap:wrap;\n",
              "      gap: 12px;\n",
              "    }\n",
              "\n",
              "    .colab-df-convert {\n",
              "      background-color: #E8F0FE;\n",
              "      border: none;\n",
              "      border-radius: 50%;\n",
              "      cursor: pointer;\n",
              "      display: none;\n",
              "      fill: #1967D2;\n",
              "      height: 32px;\n",
              "      padding: 0 0 0 0;\n",
              "      width: 32px;\n",
              "    }\n",
              "\n",
              "    .colab-df-convert:hover {\n",
              "      background-color: #E2EBFA;\n",
              "      box-shadow: 0px 1px 2px rgba(60, 64, 67, 0.3), 0px 1px 3px 1px rgba(60, 64, 67, 0.15);\n",
              "      fill: #174EA6;\n",
              "    }\n",
              "\n",
              "    [theme=dark] .colab-df-convert {\n",
              "      background-color: #3B4455;\n",
              "      fill: #D2E3FC;\n",
              "    }\n",
              "\n",
              "    [theme=dark] .colab-df-convert:hover {\n",
              "      background-color: #434B5C;\n",
              "      box-shadow: 0px 1px 3px 1px rgba(0, 0, 0, 0.15);\n",
              "      filter: drop-shadow(0px 1px 2px rgba(0, 0, 0, 0.3));\n",
              "      fill: #FFFFFF;\n",
              "    }\n",
              "  </style>\n",
              "\n",
              "      <script>\n",
              "        const buttonEl =\n",
              "          document.querySelector('#df-667f90c3-9baa-41a9-9bfa-2eb859661dfd button.colab-df-convert');\n",
              "        buttonEl.style.display =\n",
              "          google.colab.kernel.accessAllowed ? 'block' : 'none';\n",
              "\n",
              "        async function convertToInteractive(key) {\n",
              "          const element = document.querySelector('#df-667f90c3-9baa-41a9-9bfa-2eb859661dfd');\n",
              "          const dataTable =\n",
              "            await google.colab.kernel.invokeFunction('convertToInteractive',\n",
              "                                                     [key], {});\n",
              "          if (!dataTable) return;\n",
              "\n",
              "          const docLinkHtml = 'Like what you see? Visit the ' +\n",
              "            '<a target=\"_blank\" href=https://colab.research.google.com/notebooks/data_table.ipynb>data table notebook</a>'\n",
              "            + ' to learn more about interactive tables.';\n",
              "          element.innerHTML = '';\n",
              "          dataTable['output_type'] = 'display_data';\n",
              "          await google.colab.output.renderOutput(dataTable, element);\n",
              "          const docLink = document.createElement('div');\n",
              "          docLink.innerHTML = docLinkHtml;\n",
              "          element.appendChild(docLink);\n",
              "        }\n",
              "      </script>\n",
              "    </div>\n",
              "  </div>\n",
              "  "
            ]
          },
          "metadata": {},
          "execution_count": 25
        }
      ]
    },
    {
      "cell_type": "code",
      "source": [
        "from sklearn.preprocessing import LabelEncoder\n",
        "encoder = LabelEncoder()"
      ],
      "metadata": {
        "id": "shek-Twv0Epf"
      },
      "execution_count": null,
      "outputs": []
    },
    {
      "cell_type": "code",
      "source": [
        "df['Date'] = encoder.fit_transform(df['Date'])\n",
        "df"
      ],
      "metadata": {
        "colab": {
          "base_uri": "https://localhost:8080/",
          "height": 424
        },
        "id": "ZjkbmmTt0NXM",
        "outputId": "4bd72d0f-a037-4d54-efae-3a8d385b7c72"
      },
      "execution_count": null,
      "outputs": [
        {
          "output_type": "execute_result",
          "data": {
            "text/plain": [
              "    Date         Source                                              Title  \\\n",
              "0     26        Кајгана  Како се случи најголемиот криминал во историја...   \n",
              "1     26   Иновативност  Биткоин падна под границата од 16.000 долари п...   \n",
              "2     24         Centar  Хаос на пазарот на криптовалути: Биткоин падна...   \n",
              "3     24        Еспресо  Илон Маск прогнозира нова „пролет“ за криптова...   \n",
              "4     24  Кумановски м.     Биткоин под 16.000 долари поради FTX скандалот   \n",
              "..   ...            ...                                                ...   \n",
              "95     5      Во Центар  Фрлил хард диск со 7.500 биткоини, сега плаќа ...   \n",
              "96     5      Во Центар   БАРЕЛ НАФТА 94 ДОЛАРИ! Биткоинот утрово во минус   \n",
              "97     3     Р.С.Европа  Грција екстрадира Русин осомничен за измама со...   \n",
              "98     3  Кумановски м.  Велшанец нуди 13 милиони евра за фрлен хард ди...   \n",
              "99     2          Денар  Дали биткоинот ќе се однесува како американски...   \n",
              "\n",
              "           Open        Close  \n",
              "0   16617.48438  16884.61328  \n",
              "1   16617.48438  16884.61328  \n",
              "2   16352.02832  16618.19922  \n",
              "3   16352.02832  16618.19922  \n",
              "4   16352.02832  16618.19922  \n",
              "..          ...          ...  \n",
              "95  23291.42383  22961.27930  \n",
              "96  23291.42383  22961.27930  \n",
              "97  22626.83398  23289.31445  \n",
              "98  22626.83398  23289.31445  \n",
              "99  22848.21484  22630.95703  \n",
              "\n",
              "[100 rows x 5 columns]"
            ],
            "text/html": [
              "\n",
              "  <div id=\"df-9d3ced30-8ff6-4076-a3ca-c180e00b8257\">\n",
              "    <div class=\"colab-df-container\">\n",
              "      <div>\n",
              "<style scoped>\n",
              "    .dataframe tbody tr th:only-of-type {\n",
              "        vertical-align: middle;\n",
              "    }\n",
              "\n",
              "    .dataframe tbody tr th {\n",
              "        vertical-align: top;\n",
              "    }\n",
              "\n",
              "    .dataframe thead th {\n",
              "        text-align: right;\n",
              "    }\n",
              "</style>\n",
              "<table border=\"1\" class=\"dataframe\">\n",
              "  <thead>\n",
              "    <tr style=\"text-align: right;\">\n",
              "      <th></th>\n",
              "      <th>Date</th>\n",
              "      <th>Source</th>\n",
              "      <th>Title</th>\n",
              "      <th>Open</th>\n",
              "      <th>Close</th>\n",
              "    </tr>\n",
              "  </thead>\n",
              "  <tbody>\n",
              "    <tr>\n",
              "      <th>0</th>\n",
              "      <td>26</td>\n",
              "      <td>Кајгана</td>\n",
              "      <td>Како се случи најголемиот криминал во историја...</td>\n",
              "      <td>16617.48438</td>\n",
              "      <td>16884.61328</td>\n",
              "    </tr>\n",
              "    <tr>\n",
              "      <th>1</th>\n",
              "      <td>26</td>\n",
              "      <td>Иновативност</td>\n",
              "      <td>Биткоин падна под границата од 16.000 долари п...</td>\n",
              "      <td>16617.48438</td>\n",
              "      <td>16884.61328</td>\n",
              "    </tr>\n",
              "    <tr>\n",
              "      <th>2</th>\n",
              "      <td>24</td>\n",
              "      <td>Centar</td>\n",
              "      <td>Хаос на пазарот на криптовалути: Биткоин падна...</td>\n",
              "      <td>16352.02832</td>\n",
              "      <td>16618.19922</td>\n",
              "    </tr>\n",
              "    <tr>\n",
              "      <th>3</th>\n",
              "      <td>24</td>\n",
              "      <td>Еспресо</td>\n",
              "      <td>Илон Маск прогнозира нова „пролет“ за криптова...</td>\n",
              "      <td>16352.02832</td>\n",
              "      <td>16618.19922</td>\n",
              "    </tr>\n",
              "    <tr>\n",
              "      <th>4</th>\n",
              "      <td>24</td>\n",
              "      <td>Кумановски м.</td>\n",
              "      <td>Биткоин под 16.000 долари поради FTX скандалот</td>\n",
              "      <td>16352.02832</td>\n",
              "      <td>16618.19922</td>\n",
              "    </tr>\n",
              "    <tr>\n",
              "      <th>...</th>\n",
              "      <td>...</td>\n",
              "      <td>...</td>\n",
              "      <td>...</td>\n",
              "      <td>...</td>\n",
              "      <td>...</td>\n",
              "    </tr>\n",
              "    <tr>\n",
              "      <th>95</th>\n",
              "      <td>5</td>\n",
              "      <td>Во Центар</td>\n",
              "      <td>Фрлил хард диск со 7.500 биткоини, сега плаќа ...</td>\n",
              "      <td>23291.42383</td>\n",
              "      <td>22961.27930</td>\n",
              "    </tr>\n",
              "    <tr>\n",
              "      <th>96</th>\n",
              "      <td>5</td>\n",
              "      <td>Во Центар</td>\n",
              "      <td>БАРЕЛ НАФТА 94 ДОЛАРИ! Биткоинот утрово во минус</td>\n",
              "      <td>23291.42383</td>\n",
              "      <td>22961.27930</td>\n",
              "    </tr>\n",
              "    <tr>\n",
              "      <th>97</th>\n",
              "      <td>3</td>\n",
              "      <td>Р.С.Европа</td>\n",
              "      <td>Грција екстрадира Русин осомничен за измама со...</td>\n",
              "      <td>22626.83398</td>\n",
              "      <td>23289.31445</td>\n",
              "    </tr>\n",
              "    <tr>\n",
              "      <th>98</th>\n",
              "      <td>3</td>\n",
              "      <td>Кумановски м.</td>\n",
              "      <td>Велшанец нуди 13 милиони евра за фрлен хард ди...</td>\n",
              "      <td>22626.83398</td>\n",
              "      <td>23289.31445</td>\n",
              "    </tr>\n",
              "    <tr>\n",
              "      <th>99</th>\n",
              "      <td>2</td>\n",
              "      <td>Денар</td>\n",
              "      <td>Дали биткоинот ќе се однесува како американски...</td>\n",
              "      <td>22848.21484</td>\n",
              "      <td>22630.95703</td>\n",
              "    </tr>\n",
              "  </tbody>\n",
              "</table>\n",
              "<p>100 rows × 5 columns</p>\n",
              "</div>\n",
              "      <button class=\"colab-df-convert\" onclick=\"convertToInteractive('df-9d3ced30-8ff6-4076-a3ca-c180e00b8257')\"\n",
              "              title=\"Convert this dataframe to an interactive table.\"\n",
              "              style=\"display:none;\">\n",
              "        \n",
              "  <svg xmlns=\"http://www.w3.org/2000/svg\" height=\"24px\"viewBox=\"0 0 24 24\"\n",
              "       width=\"24px\">\n",
              "    <path d=\"M0 0h24v24H0V0z\" fill=\"none\"/>\n",
              "    <path d=\"M18.56 5.44l.94 2.06.94-2.06 2.06-.94-2.06-.94-.94-2.06-.94 2.06-2.06.94zm-11 1L8.5 8.5l.94-2.06 2.06-.94-2.06-.94L8.5 2.5l-.94 2.06-2.06.94zm10 10l.94 2.06.94-2.06 2.06-.94-2.06-.94-.94-2.06-.94 2.06-2.06.94z\"/><path d=\"M17.41 7.96l-1.37-1.37c-.4-.4-.92-.59-1.43-.59-.52 0-1.04.2-1.43.59L10.3 9.45l-7.72 7.72c-.78.78-.78 2.05 0 2.83L4 21.41c.39.39.9.59 1.41.59.51 0 1.02-.2 1.41-.59l7.78-7.78 2.81-2.81c.8-.78.8-2.07 0-2.86zM5.41 20L4 18.59l7.72-7.72 1.47 1.35L5.41 20z\"/>\n",
              "  </svg>\n",
              "      </button>\n",
              "      \n",
              "  <style>\n",
              "    .colab-df-container {\n",
              "      display:flex;\n",
              "      flex-wrap:wrap;\n",
              "      gap: 12px;\n",
              "    }\n",
              "\n",
              "    .colab-df-convert {\n",
              "      background-color: #E8F0FE;\n",
              "      border: none;\n",
              "      border-radius: 50%;\n",
              "      cursor: pointer;\n",
              "      display: none;\n",
              "      fill: #1967D2;\n",
              "      height: 32px;\n",
              "      padding: 0 0 0 0;\n",
              "      width: 32px;\n",
              "    }\n",
              "\n",
              "    .colab-df-convert:hover {\n",
              "      background-color: #E2EBFA;\n",
              "      box-shadow: 0px 1px 2px rgba(60, 64, 67, 0.3), 0px 1px 3px 1px rgba(60, 64, 67, 0.15);\n",
              "      fill: #174EA6;\n",
              "    }\n",
              "\n",
              "    [theme=dark] .colab-df-convert {\n",
              "      background-color: #3B4455;\n",
              "      fill: #D2E3FC;\n",
              "    }\n",
              "\n",
              "    [theme=dark] .colab-df-convert:hover {\n",
              "      background-color: #434B5C;\n",
              "      box-shadow: 0px 1px 3px 1px rgba(0, 0, 0, 0.15);\n",
              "      filter: drop-shadow(0px 1px 2px rgba(0, 0, 0, 0.3));\n",
              "      fill: #FFFFFF;\n",
              "    }\n",
              "  </style>\n",
              "\n",
              "      <script>\n",
              "        const buttonEl =\n",
              "          document.querySelector('#df-9d3ced30-8ff6-4076-a3ca-c180e00b8257 button.colab-df-convert');\n",
              "        buttonEl.style.display =\n",
              "          google.colab.kernel.accessAllowed ? 'block' : 'none';\n",
              "\n",
              "        async function convertToInteractive(key) {\n",
              "          const element = document.querySelector('#df-9d3ced30-8ff6-4076-a3ca-c180e00b8257');\n",
              "          const dataTable =\n",
              "            await google.colab.kernel.invokeFunction('convertToInteractive',\n",
              "                                                     [key], {});\n",
              "          if (!dataTable) return;\n",
              "\n",
              "          const docLinkHtml = 'Like what you see? Visit the ' +\n",
              "            '<a target=\"_blank\" href=https://colab.research.google.com/notebooks/data_table.ipynb>data table notebook</a>'\n",
              "            + ' to learn more about interactive tables.';\n",
              "          element.innerHTML = '';\n",
              "          dataTable['output_type'] = 'display_data';\n",
              "          await google.colab.output.renderOutput(dataTable, element);\n",
              "          const docLink = document.createElement('div');\n",
              "          docLink.innerHTML = docLinkHtml;\n",
              "          element.appendChild(docLink);\n",
              "        }\n",
              "      </script>\n",
              "    </div>\n",
              "  </div>\n",
              "  "
            ]
          },
          "metadata": {},
          "execution_count": 27
        }
      ]
    },
    {
      "cell_type": "markdown",
      "source": [
        "#Подели го податочното множество за тренирање и тестирање"
      ],
      "metadata": {
        "id": "Cj9E2EVNl4a0"
      }
    },
    {
      "cell_type": "code",
      "source": [
        "from sklearn.model_selection import train_test_split\n",
        "\n",
        "X_train, X_test, Y_train, Y_test = train_test_split(\n",
        "    pd.concat([df['Date'],df['Open'],df_title], axis=1),  df['Close'], test_size=0.2)"
      ],
      "metadata": {
        "id": "fCjqCna5mC4I"
      },
      "execution_count": null,
      "outputs": []
    },
    {
      "cell_type": "markdown",
      "source": [
        "#Одреди кои ќе ти бидат влезни податоци и објасни зошто"
      ],
      "metadata": {
        "id": "4Y8Gsl4JmFPI"
      }
    },
    {
      "cell_type": "markdown",
      "source": [
        "Тука внеси го објаснувањето\n",
        "\n",
        "Date,Open and Title, because the value of bitcoin changes every day, open is also related to close, and title shows us what happend at that moment\n",
        "\n",
        "\n",
        "\n",
        "\n",
        "\n"
      ],
      "metadata": {
        "id": "Qpyhx-yPmWzc"
      }
    },
    {
      "cell_type": "code",
      "source": [],
      "metadata": {
        "id": "l4fU-v9FmM6a"
      },
      "execution_count": null,
      "outputs": []
    },
    {
      "cell_type": "markdown",
      "source": [
        "#Изгради модел и тренирај го"
      ],
      "metadata": {
        "id": "x5OTF6wjmar8"
      }
    },
    {
      "cell_type": "code",
      "source": [
        "\n",
        "\n",
        "from sklearn.preprocessing import StandardScaler\n",
        "scaler = StandardScaler()\n",
        "scaler.fit(X_test)\n",
        "\n",
        "X_train = scaler.transform(X_train)\n",
        "X_test = scaler.transform(X_test)\n",
        "\n",
        "from sklearn.linear_model import LinearRegression\n",
        "model = LinearRegression().fit(X_train, Y_train)\n",
        "y_pred = model.predict(X_test)\n",
        "\n"
      ],
      "metadata": {
        "id": "tDIjglGrmeb4"
      },
      "execution_count": null,
      "outputs": []
    },
    {
      "cell_type": "markdown",
      "source": [
        "#Тестирај го моделот со помош на соодветна метрика за евалуација"
      ],
      "metadata": {
        "id": "OX8dpQ5vmfRA"
      }
    },
    {
      "cell_type": "code",
      "source": [
        "r_sq = model.score(X_train, Y_train)\n",
        "r_sq"
      ],
      "metadata": {
        "id": "kaVTPwrPmk6o",
        "colab": {
          "base_uri": "https://localhost:8080/",
          "height": 190
        },
        "outputId": "575c655b-48ee-4fb3-ea18-860109b23a7b"
      },
      "execution_count": null,
      "outputs": [
        {
          "output_type": "error",
          "ename": "NameError",
          "evalue": "ignored",
          "traceback": [
            "\u001b[0;31m---------------------------------------------------------------------------\u001b[0m",
            "\u001b[0;31mNameError\u001b[0m                                 Traceback (most recent call last)",
            "\u001b[0;32m<ipython-input-1-eb9be9ca57a9>\u001b[0m in \u001b[0;36m<module>\u001b[0;34m\u001b[0m\n\u001b[0;32m----> 1\u001b[0;31m \u001b[0mr_sq\u001b[0m \u001b[0;34m=\u001b[0m \u001b[0mmodel\u001b[0m\u001b[0;34m.\u001b[0m\u001b[0mscore\u001b[0m\u001b[0;34m(\u001b[0m\u001b[0mX_train\u001b[0m\u001b[0;34m,\u001b[0m \u001b[0mY_train\u001b[0m\u001b[0;34m)\u001b[0m\u001b[0;34m\u001b[0m\u001b[0;34m\u001b[0m\u001b[0m\n\u001b[0m\u001b[1;32m      2\u001b[0m \u001b[0mr_sq\u001b[0m\u001b[0;34m\u001b[0m\u001b[0;34m\u001b[0m\u001b[0m\n",
            "\u001b[0;31mNameError\u001b[0m: name 'model' is not defined"
          ]
        }
      ]
    },
    {
      "cell_type": "code",
      "source": [],
      "metadata": {
        "id": "2epb9MBp2gJ1"
      },
      "execution_count": null,
      "outputs": []
    },
    {
      "cell_type": "markdown",
      "source": [
        "#Bтор дел\n",
        "Изврши web crawling со цел да го добиеш истото податочно множество како time_mk_bitcoin_11.csv"
      ],
      "metadata": {
        "id": "Zcp-oHRLmlZn"
      }
    },
    {
      "cell_type": "code",
      "source": [
        "# Import all modules that are required\n",
        "import numpy as np\n",
        "import pandas as pd\n",
        "\n",
        "\n",
        "import requests\n",
        "from bs4 import BeautifulSoup\n",
        "from IPython.display import HTML"
      ],
      "metadata": {
        "id": "9l-M8Gtvm7k6"
      },
      "execution_count": null,
      "outputs": []
    },
    {
      "cell_type": "code",
      "source": [
        "requests.packages.urllib3.disable_warnings()\n",
        "\n",
        "import warnings\n",
        "warnings.filterwarnings(\"ignore\")"
      ],
      "metadata": {
        "id": "Nwczw79c3oK1"
      },
      "execution_count": null,
      "outputs": []
    },
    {
      "cell_type": "code",
      "source": [
        "snapshot_url = 'https://time.mk/?q=%D0%B1%D0%B8%D1%82%D0%BA%D0%BE%D0%B8%D0%BD&search=news&order=dec&startdate=01.08.2022&enddate=16.11.2022&page=1'\n",
        "snapshot = requests.get(snapshot_url)\n",
        "snapshot.encoding = 'utf-8'\n",
        "raw_html = snapshot.text\n",
        "soup = BeautifulSoup(raw_html, 'html.parser')\n"
      ],
      "metadata": {
        "id": "q6keyc4m3u59"
      },
      "execution_count": null,
      "outputs": []
    },
    {
      "cell_type": "code",
      "source": [
        "card_titles = soup.select('.cluster h1')\n",
        "card_titles"
      ],
      "metadata": {
        "colab": {
          "base_uri": "https://localhost:8080/"
        },
        "id": "40owzIrK4CjW",
        "outputId": "86073506-1f76-44bc-dcee-0f4c52c06578"
      },
      "execution_count": null,
      "outputs": [
        {
          "output_type": "execute_result",
          "data": {
            "text/plain": [
              "[<h1><a href=\"r/c/50392c4182/\" rel=\"noopener noreferrer\" target=\"_blank\">Како се случи најголемиот криминал во историјата на криптовалутите?</a></h1>,\n",
              " <h1><a href=\"r/c/6f1a8c8c9e/\" rel=\"noopener noreferrer\" target=\"_blank\">Биткоин падна под границата од 16.000 долари поради FTX скандалот</a></h1>,\n",
              " <h1><a href=\"r/c/3b95d9c030/\" rel=\"noopener noreferrer\" target=\"_blank\">Хаос на пазарот на криптовалути: Биткоин падна под 16.000 долари за прв пат во две години</a></h1>,\n",
              " <h1><a href=\"r/c/395fe8f350/\" rel=\"noopener noreferrer\" target=\"_blank\">Илон Маск прогнозира нова „пролет“ за криптовалутата: „Зимата може да биде долга, но биткоинот ќе преживее“</a></h1>,\n",
              " <h1><a href=\"r/c/4206d283c1/\" rel=\"noopener noreferrer\" target=\"_blank\">Биткоин под 16.000 долари поради FTX скандалот</a></h1>,\n",
              " <h1><a href=\"r/c/abfe4a7799/\" rel=\"noopener noreferrer\" target=\"_blank\">ПРЕД САМО ЕДНА ГОДИНА КРИПТО-СВЕТОТ ЦВЕТАШЕ – оттогаш до денес загубени 2 трилиони долари</a></h1>,\n",
              " <h1><a href=\"r/c/f26eb99191/\" rel=\"noopener noreferrer\" target=\"_blank\">Дали сето тоа беше само крипто-сон? Пукаат берзите, вредноста на пазарот се топи, за цените од лани можеме само да ...</a></h1>,\n",
              " <h1><a href=\"r/c/13236bc3af/\" rel=\"noopener noreferrer\" target=\"_blank\">Нов хаос на пазарот на криптовалути</a></h1>,\n",
              " <h1><a href=\"r/c/f078eb7c0a/\" rel=\"noopener noreferrer\" target=\"_blank\">ДАЛИ СЕТО ТОА БЕШЕ САМО КРИПТО-СОН? Пукаат берзите, вредноста на пазарот се топи, за цените од лани можеме само да ...</a></h1>,\n",
              " <h1><a href=\"r/c/83cd5f0ed9/\" rel=\"noopener noreferrer\" target=\"_blank\">Нов хаос на пазарот на криптовалути</a></h1>]"
            ]
          },
          "metadata": {},
          "execution_count": 61
        }
      ]
    },
    {
      "cell_type": "code",
      "source": [
        "card_sources = soup.select('.article_body .source')\n",
        "card_sources"
      ],
      "metadata": {
        "colab": {
          "base_uri": "https://localhost:8080/"
        },
        "id": "jJqEu1eu4ZR5",
        "outputId": "229253fc-be17-431f-c43f-c1be0fcf2512"
      },
      "execution_count": null,
      "outputs": [
        {
          "output_type": "execute_result",
          "data": {
            "text/plain": [
              "[<a class=\"source\" href=\"s/kajgana\">Кајгана</a>,\n",
              " <a class=\"source\" href=\"s/inovativnost\">Иновативност</a>,\n",
              " <a class=\"source\" href=\"s/centar\">Centar</a>,\n",
              " <a class=\"source\" href=\"s/espreso\">Еспресо</a>,\n",
              " <a class=\"source\" href=\"s/kumanovskimuabeti\">Кумановски м.</a>,\n",
              " <a class=\"source\" href=\"s/pari\">Пари</a>,\n",
              " <a class=\"source\" href=\"s/tocka\">Точка</a>,\n",
              " <a class=\"source\" href=\"s/kurir\">Курир</a>,\n",
              " <a class=\"source\" href=\"s/denar\">Денар</a>,\n",
              " <a class=\"source\" href=\"s/4news\">4NEWS</a>]"
            ]
          },
          "metadata": {},
          "execution_count": 62
        }
      ]
    },
    {
      "cell_type": "code",
      "source": [
        "cards_times= soup.select('.when')\n",
        "cards_times"
      ],
      "metadata": {
        "colab": {
          "base_uri": "https://localhost:8080/"
        },
        "id": "GAmAg6dc4e6u",
        "outputId": "d9cca588-f124-40a3-e7cb-a0c4edfe4bf9"
      },
      "execution_count": null,
      "outputs": [
        {
          "output_type": "execute_result",
          "data": {
            "text/plain": [
              "[<span class=\"when\"> 15.11.2022</span>,\n",
              " <span class=\"when\"> 15.11.2022</span>,\n",
              " <span class=\"when\"> 14.11.2022</span>,\n",
              " <span class=\"when\"> 14.11.2022</span>,\n",
              " <span class=\"when\"> 14.11.2022</span>,\n",
              " <span class=\"when\"> 12.11.2022</span>,\n",
              " <span class=\"when\"> 11.11.2022</span>,\n",
              " <span class=\"when\"> 11.11.2022</span>,\n",
              " <span class=\"when\"> 11.11.2022</span>,\n",
              " <span class=\"when\"> 10.11.2022</span>]"
            ]
          },
          "metadata": {},
          "execution_count": 63
        }
      ]
    },
    {
      "cell_type": "code",
      "source": [
        "titles = []\n",
        "for card in card_titles:\n",
        "  titles.append(card.select_one('a').text)\n"
      ],
      "metadata": {
        "id": "EKlExXJQ4kk-"
      },
      "execution_count": null,
      "outputs": []
    },
    {
      "cell_type": "code",
      "source": [
        "sources = []\n",
        "for card in card_sources:\n",
        "  sources.append(card.text)"
      ],
      "metadata": {
        "id": "F5mAx3sc4uHO"
      },
      "execution_count": null,
      "outputs": []
    },
    {
      "cell_type": "code",
      "source": [
        "times = []\n",
        "for card in cards_times:\n",
        "  times.append(card.text)"
      ],
      "metadata": {
        "id": "niJNkJ1N4v-g"
      },
      "execution_count": null,
      "outputs": []
    },
    {
      "cell_type": "code",
      "source": [
        "matrix = []\n",
        "for i in range(0,len(titles)):\n",
        "  node = {'Date': times[i],'Title':titles[i], 'Source' : sources[i]}\n",
        "  matrix.append(node)\n",
        "matrix"
      ],
      "metadata": {
        "colab": {
          "base_uri": "https://localhost:8080/"
        },
        "id": "VZJ5a6U844eQ",
        "outputId": "927eb282-492b-461b-9db8-b18113098697"
      },
      "execution_count": null,
      "outputs": [
        {
          "output_type": "execute_result",
          "data": {
            "text/plain": [
              "[{'Date': ' 15.11.2022',\n",
              "  'Title': 'Како се случи најголемиот криминал во историјата на криптовалутите?',\n",
              "  'Source': 'Кајгана'},\n",
              " {'Date': ' 15.11.2022',\n",
              "  'Title': 'Биткоин падна под границата од 16.000 долари поради FTX скандалот',\n",
              "  'Source': 'Иновативност'},\n",
              " {'Date': ' 14.11.2022',\n",
              "  'Title': 'Хаос на пазарот на криптовалути: Биткоин падна под 16.000 долари за прв пат во две години',\n",
              "  'Source': 'Centar'},\n",
              " {'Date': ' 14.11.2022',\n",
              "  'Title': 'Илон Маск прогнозира нова „пролет“ за криптовалутата: „Зимата може да биде долга, но биткоинот ќе преживее“',\n",
              "  'Source': 'Еспресо'},\n",
              " {'Date': ' 14.11.2022',\n",
              "  'Title': 'Биткоин под 16.000 долари поради FTX скандалот',\n",
              "  'Source': 'Кумановски м.'},\n",
              " {'Date': ' 12.11.2022',\n",
              "  'Title': 'ПРЕД САМО ЕДНА ГОДИНА КРИПТО-СВЕТОТ ЦВЕТАШЕ – оттогаш до денес загубени 2 трилиони долари',\n",
              "  'Source': 'Пари'},\n",
              " {'Date': ' 11.11.2022',\n",
              "  'Title': 'Дали сето тоа беше само крипто-сон? Пукаат берзите, вредноста на пазарот се топи, за цените од лани можеме само да ...',\n",
              "  'Source': 'Точка'},\n",
              " {'Date': ' 11.11.2022',\n",
              "  'Title': 'Нов хаос на пазарот на криптовалути',\n",
              "  'Source': 'Курир'},\n",
              " {'Date': ' 11.11.2022',\n",
              "  'Title': 'ДАЛИ СЕТО ТОА БЕШЕ САМО КРИПТО-СОН? Пукаат берзите, вредноста на пазарот се топи, за цените од лани можеме само да ...',\n",
              "  'Source': 'Денар'},\n",
              " {'Date': ' 10.11.2022',\n",
              "  'Title': 'Нов хаос на пазарот на криптовалути',\n",
              "  'Source': '4NEWS'}]"
            ]
          },
          "metadata": {},
          "execution_count": 67
        }
      ]
    },
    {
      "cell_type": "code",
      "source": [
        "df = pd.DataFrame(matrix)\n",
        "df"
      ],
      "metadata": {
        "colab": {
          "base_uri": "https://localhost:8080/",
          "height": 363
        },
        "id": "uvMqi9B_5Erl",
        "outputId": "fd9dd2dc-5d1b-4376-8e8f-b1cb93b4285a"
      },
      "execution_count": null,
      "outputs": [
        {
          "output_type": "execute_result",
          "data": {
            "text/plain": [
              "          Date                                              Title  \\\n",
              "0   15.11.2022  Како се случи најголемиот криминал во историја...   \n",
              "1   15.11.2022  Биткоин падна под границата од 16.000 долари п...   \n",
              "2   14.11.2022  Хаос на пазарот на криптовалути: Биткоин падна...   \n",
              "3   14.11.2022  Илон Маск прогнозира нова „пролет“ за криптова...   \n",
              "4   14.11.2022     Биткоин под 16.000 долари поради FTX скандалот   \n",
              "5   12.11.2022  ПРЕД САМО ЕДНА ГОДИНА КРИПТО-СВЕТОТ ЦВЕТАШЕ – ...   \n",
              "6   11.11.2022  Дали сето тоа беше само крипто-сон? Пукаат бер...   \n",
              "7   11.11.2022                Нов хаос на пазарот на криптовалути   \n",
              "8   11.11.2022  ДАЛИ СЕТО ТОА БЕШЕ САМО КРИПТО-СОН? Пукаат бер...   \n",
              "9   10.11.2022                Нов хаос на пазарот на криптовалути   \n",
              "\n",
              "          Source  \n",
              "0        Кајгана  \n",
              "1   Иновативност  \n",
              "2         Centar  \n",
              "3        Еспресо  \n",
              "4  Кумановски м.  \n",
              "5           Пари  \n",
              "6          Точка  \n",
              "7          Курир  \n",
              "8          Денар  \n",
              "9          4NEWS  "
            ],
            "text/html": [
              "\n",
              "  <div id=\"df-e8dabc76-33b4-45ab-8770-1c8fd7edac35\">\n",
              "    <div class=\"colab-df-container\">\n",
              "      <div>\n",
              "<style scoped>\n",
              "    .dataframe tbody tr th:only-of-type {\n",
              "        vertical-align: middle;\n",
              "    }\n",
              "\n",
              "    .dataframe tbody tr th {\n",
              "        vertical-align: top;\n",
              "    }\n",
              "\n",
              "    .dataframe thead th {\n",
              "        text-align: right;\n",
              "    }\n",
              "</style>\n",
              "<table border=\"1\" class=\"dataframe\">\n",
              "  <thead>\n",
              "    <tr style=\"text-align: right;\">\n",
              "      <th></th>\n",
              "      <th>Date</th>\n",
              "      <th>Title</th>\n",
              "      <th>Source</th>\n",
              "    </tr>\n",
              "  </thead>\n",
              "  <tbody>\n",
              "    <tr>\n",
              "      <th>0</th>\n",
              "      <td>15.11.2022</td>\n",
              "      <td>Како се случи најголемиот криминал во историја...</td>\n",
              "      <td>Кајгана</td>\n",
              "    </tr>\n",
              "    <tr>\n",
              "      <th>1</th>\n",
              "      <td>15.11.2022</td>\n",
              "      <td>Биткоин падна под границата од 16.000 долари п...</td>\n",
              "      <td>Иновативност</td>\n",
              "    </tr>\n",
              "    <tr>\n",
              "      <th>2</th>\n",
              "      <td>14.11.2022</td>\n",
              "      <td>Хаос на пазарот на криптовалути: Биткоин падна...</td>\n",
              "      <td>Centar</td>\n",
              "    </tr>\n",
              "    <tr>\n",
              "      <th>3</th>\n",
              "      <td>14.11.2022</td>\n",
              "      <td>Илон Маск прогнозира нова „пролет“ за криптова...</td>\n",
              "      <td>Еспресо</td>\n",
              "    </tr>\n",
              "    <tr>\n",
              "      <th>4</th>\n",
              "      <td>14.11.2022</td>\n",
              "      <td>Биткоин под 16.000 долари поради FTX скандалот</td>\n",
              "      <td>Кумановски м.</td>\n",
              "    </tr>\n",
              "    <tr>\n",
              "      <th>5</th>\n",
              "      <td>12.11.2022</td>\n",
              "      <td>ПРЕД САМО ЕДНА ГОДИНА КРИПТО-СВЕТОТ ЦВЕТАШЕ – ...</td>\n",
              "      <td>Пари</td>\n",
              "    </tr>\n",
              "    <tr>\n",
              "      <th>6</th>\n",
              "      <td>11.11.2022</td>\n",
              "      <td>Дали сето тоа беше само крипто-сон? Пукаат бер...</td>\n",
              "      <td>Точка</td>\n",
              "    </tr>\n",
              "    <tr>\n",
              "      <th>7</th>\n",
              "      <td>11.11.2022</td>\n",
              "      <td>Нов хаос на пазарот на криптовалути</td>\n",
              "      <td>Курир</td>\n",
              "    </tr>\n",
              "    <tr>\n",
              "      <th>8</th>\n",
              "      <td>11.11.2022</td>\n",
              "      <td>ДАЛИ СЕТО ТОА БЕШЕ САМО КРИПТО-СОН? Пукаат бер...</td>\n",
              "      <td>Денар</td>\n",
              "    </tr>\n",
              "    <tr>\n",
              "      <th>9</th>\n",
              "      <td>10.11.2022</td>\n",
              "      <td>Нов хаос на пазарот на криптовалути</td>\n",
              "      <td>4NEWS</td>\n",
              "    </tr>\n",
              "  </tbody>\n",
              "</table>\n",
              "</div>\n",
              "      <button class=\"colab-df-convert\" onclick=\"convertToInteractive('df-e8dabc76-33b4-45ab-8770-1c8fd7edac35')\"\n",
              "              title=\"Convert this dataframe to an interactive table.\"\n",
              "              style=\"display:none;\">\n",
              "        \n",
              "  <svg xmlns=\"http://www.w3.org/2000/svg\" height=\"24px\"viewBox=\"0 0 24 24\"\n",
              "       width=\"24px\">\n",
              "    <path d=\"M0 0h24v24H0V0z\" fill=\"none\"/>\n",
              "    <path d=\"M18.56 5.44l.94 2.06.94-2.06 2.06-.94-2.06-.94-.94-2.06-.94 2.06-2.06.94zm-11 1L8.5 8.5l.94-2.06 2.06-.94-2.06-.94L8.5 2.5l-.94 2.06-2.06.94zm10 10l.94 2.06.94-2.06 2.06-.94-2.06-.94-.94-2.06-.94 2.06-2.06.94z\"/><path d=\"M17.41 7.96l-1.37-1.37c-.4-.4-.92-.59-1.43-.59-.52 0-1.04.2-1.43.59L10.3 9.45l-7.72 7.72c-.78.78-.78 2.05 0 2.83L4 21.41c.39.39.9.59 1.41.59.51 0 1.02-.2 1.41-.59l7.78-7.78 2.81-2.81c.8-.78.8-2.07 0-2.86zM5.41 20L4 18.59l7.72-7.72 1.47 1.35L5.41 20z\"/>\n",
              "  </svg>\n",
              "      </button>\n",
              "      \n",
              "  <style>\n",
              "    .colab-df-container {\n",
              "      display:flex;\n",
              "      flex-wrap:wrap;\n",
              "      gap: 12px;\n",
              "    }\n",
              "\n",
              "    .colab-df-convert {\n",
              "      background-color: #E8F0FE;\n",
              "      border: none;\n",
              "      border-radius: 50%;\n",
              "      cursor: pointer;\n",
              "      display: none;\n",
              "      fill: #1967D2;\n",
              "      height: 32px;\n",
              "      padding: 0 0 0 0;\n",
              "      width: 32px;\n",
              "    }\n",
              "\n",
              "    .colab-df-convert:hover {\n",
              "      background-color: #E2EBFA;\n",
              "      box-shadow: 0px 1px 2px rgba(60, 64, 67, 0.3), 0px 1px 3px 1px rgba(60, 64, 67, 0.15);\n",
              "      fill: #174EA6;\n",
              "    }\n",
              "\n",
              "    [theme=dark] .colab-df-convert {\n",
              "      background-color: #3B4455;\n",
              "      fill: #D2E3FC;\n",
              "    }\n",
              "\n",
              "    [theme=dark] .colab-df-convert:hover {\n",
              "      background-color: #434B5C;\n",
              "      box-shadow: 0px 1px 3px 1px rgba(0, 0, 0, 0.15);\n",
              "      filter: drop-shadow(0px 1px 2px rgba(0, 0, 0, 0.3));\n",
              "      fill: #FFFFFF;\n",
              "    }\n",
              "  </style>\n",
              "\n",
              "      <script>\n",
              "        const buttonEl =\n",
              "          document.querySelector('#df-e8dabc76-33b4-45ab-8770-1c8fd7edac35 button.colab-df-convert');\n",
              "        buttonEl.style.display =\n",
              "          google.colab.kernel.accessAllowed ? 'block' : 'none';\n",
              "\n",
              "        async function convertToInteractive(key) {\n",
              "          const element = document.querySelector('#df-e8dabc76-33b4-45ab-8770-1c8fd7edac35');\n",
              "          const dataTable =\n",
              "            await google.colab.kernel.invokeFunction('convertToInteractive',\n",
              "                                                     [key], {});\n",
              "          if (!dataTable) return;\n",
              "\n",
              "          const docLinkHtml = 'Like what you see? Visit the ' +\n",
              "            '<a target=\"_blank\" href=https://colab.research.google.com/notebooks/data_table.ipynb>data table notebook</a>'\n",
              "            + ' to learn more about interactive tables.';\n",
              "          element.innerHTML = '';\n",
              "          dataTable['output_type'] = 'display_data';\n",
              "          await google.colab.output.renderOutput(dataTable, element);\n",
              "          const docLink = document.createElement('div');\n",
              "          docLink.innerHTML = docLinkHtml;\n",
              "          element.appendChild(docLink);\n",
              "        }\n",
              "      </script>\n",
              "    </div>\n",
              "  </div>\n",
              "  "
            ]
          },
          "metadata": {},
          "execution_count": 68
        }
      ]
    }
  ]
}